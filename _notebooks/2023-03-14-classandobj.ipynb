{
 "cells": [
  {
   "attachments": {},
   "cell_type": "markdown",
   "metadata": {},
   "source": [
    "# Review Session 2 - Classes and Objects\n",
    "> Generic Objects and Data Types\n",
    "\n",
    "- title: Review Session 2 - Classes and Objects\n",
    "- toc: true\n",
    "- categories: [Notes]\n",
    "- permalink: /genericobj/"
   ]
  },
  {
   "attachments": {},
   "cell_type": "markdown",
   "metadata": {},
   "source": [
    "Hack 1.a: Watch the college board video [Classes and Objects](https://apclassroom.collegeboard.org/8/home?apd=9qx7yzjoeg) Blog and Define the details of a Class: Access modifier, constructor, modifiers/setters, getters, etc. \n",
    "\n",
    "Hack 1.b: Build example code in jupyter notebook with Linked List, Queues, and Stacks."
   ]
  },
  {
   "cell_type": "code",
   "execution_count": 22,
   "metadata": {
    "vscode": {
     "languageId": "java"
    }
   },
   "outputs": [
    {
     "name": "stdout",
     "output_type": "stream",
     "text": [
      "1\n",
      "13\n",
      "135\n",
      "1357\n",
      "13579\n",
      "13579\n",
      "13579\n",
      "13579\n",
      "13579\n",
      "13579\n"
     ]
    }
   ],
   "source": [
    "// example class\n",
    "class ExampleLLQS {\n",
    "    \n",
    "    // Queue testing, inits queue \n",
    "    public void queueTesting() {\n",
    "        Queue<Integer> q = new LinkedList<Integer>();\n",
    "\n",
    "        for (int i = 1; i < 10; i = i + 2) {\n",
    "            q.add(i);\n",
    "            printQueue(q);\n",
    "            System.out.println();\n",
    "        }\n",
    "\n",
    "        queueToStack(q);\n",
    "\n",
    "    }\n",
    "\n",
    "    // Prints queue regardless of type\n",
    "    public void printQueue(Queue<?> q) {\n",
    "        for (Object i : q) {\n",
    "            System.out.print(i);\n",
    "        }\n",
    "    }\n",
    "\n",
    "    public void queueToStack(Queue<?> q) {\n",
    "        // create new stack with type T\n",
    "        Stack<Object> tempStack = new Stack<>();\n",
    "        while ( !q.isEmpty() ) {\n",
    "            // push queue element to stack and remove from queue\n",
    "            tempStack.push(q.remove());\n",
    "            printStack(tempStack);\n",
    "            printQueue(q);\n",
    "            System.out.println();\n",
    "        }\n",
    "    }\n",
    "\n",
    "    // Print stack\n",
    "    public void printStack(Stack<?> s) {\n",
    "        for (Object i : s) {\n",
    "            System.out.print(i);\n",
    "        }\n",
    "    }\n",
    "\n",
    "\n",
    "    public static void main(String[] args) {\n",
    "        ExampleLLQS e = new ExampleLLQS();\n",
    "        e.queueTesting();\n",
    "    }\n",
    "}\n",
    "ExampleLLQS.main(null);"
   ]
  }
 ],
 "metadata": {
  "kernelspec": {
   "display_name": "Java",
   "language": "java",
   "name": "java"
  },
  "language_info": {
   "codemirror_mode": "java",
   "file_extension": ".jshell",
   "mimetype": "text/x-java-source",
   "name": "Java",
   "pygments_lexer": "java",
   "version": "11.0.16+8-post-Ubuntu-0ubuntu120.04"
  },
  "orig_nbformat": 4
 },
 "nbformat": 4,
 "nbformat_minor": 2
}

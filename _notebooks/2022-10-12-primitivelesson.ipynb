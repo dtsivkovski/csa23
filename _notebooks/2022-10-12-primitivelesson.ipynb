{
 "cells": [
  {
   "cell_type": "markdown",
   "metadata": {},
   "source": [
    "# Primitive Types Lesson \n",
    "> Hacks from the presentation\n",
    "\n",
    "- title: Primitive Types Lesson Hacks\n",
    "- toc: true\n",
    "- categories: [Notes]\n",
    "- permalink: /week8/primitives\n",
    "- image: https://encrypted-tbn0.gstatic.com/images?q=tbn:ANd9GcQt2Wc-Q5pj-O13dMo8c7A1oGhW7Ixzbj_Naw&usqp=CAU"
   ]
  },
  {
   "cell_type": "code",
   "execution_count": 2,
   "metadata": {},
   "outputs": [
    {
     "name": "stdout",
     "output_type": "stream",
     "text": [
      "120"
     ]
    }
   ],
   "source": [
    "// 6\n",
    "int i = 5; int p =27;\n",
    "for(int l = 23; l <p; l++){\n",
    "    i*=(l-22);\n",
    "}\n",
    "System.out.print(i);"
   ]
  },
  {
   "cell_type": "code",
   "execution_count": 4,
   "metadata": {},
   "outputs": [
    {
     "name": "stdout",
     "output_type": "stream",
     "text": [
      "458"
     ]
    }
   ],
   "source": [
    "// 5\n",
    "int i = 100;\n",
    "double d = 4.55; double d2 = 3.75;\n",
    "int j = (int) (d*100 + d2);\n",
    "\n",
    "System.out.print(j);"
   ]
  },
  {
   "cell_type": "code",
   "execution_count": 5,
   "metadata": {},
   "outputs": [
    {
     "name": "stdout",
     "output_type": "stream",
     "text": [
      "6"
     ]
    }
   ],
   "source": [
    "//3 \n",
    "int val = 205;\n",
    "for(int i=0; i<5; i++) {\n",
    "    val/=2;\n",
    "}\n",
    "System.out.print(val);"
   ]
  },
  {
   "cell_type": "code",
   "execution_count": 9,
   "metadata": {},
   "outputs": [
    {
     "name": "stdout",
     "output_type": "stream",
     "text": [
      "96"
     ]
    }
   ],
   "source": [
    "//4\n",
    "int i = 3;\n",
    "for(int j = 5;j > 0; j--){\n",
    "    i+=i;\n",
    "}\n",
    "System.out.print(i);"
   ]
  },
  {
   "cell_type": "markdown",
   "metadata": {},
   "source": [
    "- 1: 2\n",
    "- 2: A and D\n",
    "- 3: 6\n",
    "- 4: 96\n",
    "- 5: 458\n",
    "- 6: 120"
   ]
  },
  {
   "cell_type": "markdown",
   "metadata": {},
   "source": [
    "# 2006 - 1,2a,3a\n",
    "- Everitt and I pair coded this\n",
    "\n",
    "2. a. Everitt driver, Daniel navigator\n",
    "3. a. Daniel driver, Everitt navigator"
   ]
  },
  {
   "cell_type": "code",
   "execution_count": 13,
   "metadata": {},
   "outputs": [
    {
     "data": {
      "text/plain": [
       "7.15"
      ]
     },
     "execution_count": 13,
     "metadata": {},
     "output_type": "execute_result"
    }
   ],
   "source": [
    "// 2A\n",
    "public double purchasePrice(double x){\n",
    "    x *= 1.1; \n",
    "    return x;\n",
    "}\n",
    "\n",
    "purchasePrice(6.50);\n"
   ]
  },
  {
   "cell_type": "code",
   "execution_count": 12,
   "metadata": {},
   "outputs": [
    {
     "name": "stdout",
     "output_type": "stream",
     "text": [
      "0\n",
      "-1\n",
      "-2\n"
     ]
    }
   ],
   "source": [
    "// 3A\n",
    "public class Customer {\n",
    "    private String name;\n",
    "    private int id;\n",
    "    \n",
    "    public Customer(String name, int idNum){\n",
    "        this.name = name;\n",
    "        this.id = idNum;\n",
    "        // idNum = this.idNum;\n",
    "    };\n",
    "\n",
    "    public String getName(){\n",
    "        return name;\n",
    "    };\n",
    "\n",
    "    public int getID(){\n",
    "        return id;\n",
    "    };\n",
    "\n",
    "    public void compareCustomer(Customer x){\n",
    "        System.out.println(id - x.id);\n",
    "        // return (id - x.id);\n",
    "    };\n",
    "    \n",
    "}\n",
    "\n",
    "Customer c1 = new Customer(\"Smith\", 1001);\n",
    "Customer c2 = new Customer(\"Anderson\", 1002);\n",
    "Customer c3 = new Customer(\"Smith\", 1003);\n",
    "\n",
    "c1.compareCustomer(c1);\n",
    "c1.compareCustomer(c2);\n",
    "c1.compareCustomer(c3);\n"
   ]
  },
  {
   "cell_type": "markdown",
   "metadata": {},
   "source": [
    "### Vocab used in this unit\n",
    "- **_this_ keyword** - Used in the Customer class, the _this_ keyword has the object refer to its own attributes to modify or get them. \n",
    "- **Constructor** - Creates an object using given parameters, and assigns them to the object's attributes. It has no return because it is only used to create an object and not to run a method or a calculation.\n",
    "- **Comparing numbers / objects** - Seen in ```Customer.compareCustomer```, this method uses the this keyword to get and compare the customer's ID and another customer's ID through subtraction."
   ]
  }
 ],
 "metadata": {
  "kernelspec": {
   "display_name": "Java",
   "language": "java",
   "name": "java"
  },
  "language_info": {
   "codemirror_mode": "java",
   "file_extension": ".jshell",
   "mimetype": "text/x-java-source",
   "name": "java",
   "pygments_lexer": "java",
   "version": "11.0.16+8-post-Ubuntu-0ubuntu120.04"
  },
  "orig_nbformat": 4,
  "vscode": {
   "interpreter": {
    "hash": "916dbcbb3f70747c44a77c7bcd40155683ae19c65e1c03b4aa3499c5328201f1"
   }
  }
 },
 "nbformat": 4,
 "nbformat_minor": 2
}

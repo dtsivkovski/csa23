{
 "cells": [
  {
   "cell_type": "markdown",
   "metadata": {},
   "source": [
    "# Object Oriented Programing Lesson \n",
    "> Hacks from the presentation\n",
    "\n",
    "- title: OOP Lesson Hacks\n",
    "- toc: true\n",
    "- categories: [Notes]\n",
    "- permalink: /week8/oop\n",
    "- image: https://encrypted-tbn0.gstatic.com/images?q=tbn:ANd9GcQt2Wc-Q5pj-O13dMo8c7A1oGhW7Ixzbj_Naw&usqp=CAU"
   ]
  },
  {
   "cell_type": "markdown",
   "metadata": {},
   "source": [
    "### 2021 FRQ 1"
   ]
  },
  {
   "cell_type": "code",
   "execution_count": 13,
   "metadata": {
    "vscode": {
     "languageId": "java"
    }
   },
   "outputs": [
    {
     "name": "stdout",
     "output_type": "stream",
     "text": [
      "i = 4\n",
      "iss = 18\n",
      "issipp = 36\n",
      "mississippi = 121\n",
      "a = 4\n",
      "aa = 12\n",
      "aaa = 18\n",
      "aabb = 16\n",
      "c = 0\n"
     ]
    }
   ],
   "source": [
    "// #1\n",
    "public class WordMatch {\n",
    "    String secret;\n",
    "\n",
    "    public WordMatch(String secret) {\n",
    "        this.secret = secret;\n",
    "    }\n",
    "\n",
    "    public void scoreGuess(String guess) {\n",
    "        int counter = 0;\n",
    "\n",
    "        // for loop for first substring index\n",
    "        for (int i = 0; i < this.secret.length(); i++){\n",
    "            // loop for second substring index\n",
    "            for (int j = i + 1; j < this.secret.length() + 1; j++) {\n",
    "                // if statement\n",
    "                if (guess.equals(this.secret.substring(i,j))) {\n",
    "                    counter++;\n",
    "                }\n",
    "            }\n",
    "        }\n",
    "\n",
    "        // Returning a point value\n",
    "        int points = counter * guess.length() * guess.length();\n",
    "        System.out.println(\"\" + guess + \" = \" + points);\n",
    "        // return points;\n",
    "    }\n",
    "}\n",
    "\n",
    "WordMatch game = new WordMatch(\"mississippi\");\n",
    "game.scoreGuess(\"i\"); game.scoreGuess(\"iss\"); game.scoreGuess(\"issipp\"); game.scoreGuess(\"mississippi\");\n",
    "\n",
    "WordMatch game = new WordMatch(\"aaaabb\");\n",
    "game.scoreGuess(\"a\"); game.scoreGuess(\"aa\"); game.scoreGuess(\"aaa\"); game.scoreGuess(\"aabb\"); game.scoreGuess(\"c\"); "
   ]
  }
 ],
 "metadata": {
  "kernelspec": {
   "display_name": "Java",
   "language": "java",
   "name": "java"
  },
  "language_info": {
   "codemirror_mode": "java",
   "file_extension": ".jshell",
   "mimetype": "text/x-java-source",
   "name": "Java",
   "pygments_lexer": "java",
   "version": "11.0.16+8-post-Ubuntu-0ubuntu120.04"
  },
  "orig_nbformat": 4,
  "vscode": {
   "interpreter": {
    "hash": "916dbcbb3f70747c44a77c7bcd40155683ae19c65e1c03b4aa3499c5328201f1"
   }
  }
 },
 "nbformat": 4,
 "nbformat_minor": 2
}

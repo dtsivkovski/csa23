{
 "cells": [
  {
   "cell_type": "markdown",
   "metadata": {},
   "source": [
    "# Object Oriented Programing Lesson \n",
    "> Hacks from the presentation\n",
    "\n",
    "- title: OOP Lesson Hacks\n",
    "- toc: true\n",
    "- categories: [Notes]\n",
    "- permalink: /week8/oop\n",
    "- image: https://encrypted-tbn0.gstatic.com/images?q=tbn:ANd9GcQt2Wc-Q5pj-O13dMo8c7A1oGhW7Ixzbj_Naw&usqp=CAU"
   ]
  },
  {
   "cell_type": "markdown",
   "metadata": {},
   "source": [
    "### Goblin Fight Hack\n",
    "- Include a calculation to allow for hit chance"
   ]
  },
  {
   "cell_type": "code",
   "execution_count": 19,
   "metadata": {
    "vscode": {
     "languageId": "java"
    }
   },
   "outputs": [
    {
     "name": "stdout",
     "output_type": "stream",
     "text": [
      "George Washington missed!\n",
      "Thomas Jefferson HP: 12\n",
      "Thomas Jefferson missed!\n",
      "George Washington HP: 4\n",
      "Thomas Jefferson takes 1 damage\n",
      "Thomas Jefferson HP: 12\n",
      "Thomas Jefferson missed!\n",
      "George Washington HP: 3\n",
      "Thomas Jefferson takes 1 damage\n",
      "Thomas Jefferson HP: 12\n",
      "Thomas Jefferson missed!\n",
      "George Washington HP: 2\n",
      "Thomas Jefferson takes 1 damage\n",
      "Thomas Jefferson HP: 12\n",
      "George Washington takes 2 damage\n",
      "George Washington HP: -1\n",
      "George Washington has perished\n"
     ]
    }
   ],
   "source": [
    "\n",
    "import java.util.*;\n",
    "\n",
    "public class Goblin {\n",
    "    private String name;\n",
    "    private int HP;\n",
    "    private int DMG;\n",
    "    private double hitChance;\n",
    "\n",
    "    public String getName() {\n",
    "        return name;\n",
    "    }\n",
    "\n",
    "    public int getHP() {\n",
    "        return HP;\n",
    "    }\n",
    "\n",
    "    public int getDMG() {\n",
    "        return DMG;\n",
    "    }\n",
    "\n",
    "    public double getHitChance() {\n",
    "        return hitChance;\n",
    "    }\n",
    "\n",
    "    public boolean isAlive() {\n",
    "        if (this.HP > 0) {\n",
    "            return true;\n",
    "        } else {\n",
    "            return false;\n",
    "        }\n",
    "    }\n",
    "\n",
    "    public void setName(String newName) {\n",
    "        this.name = newName;\n",
    "    }\n",
    "\n",
    "    public void setHP(int newHP) {\n",
    "        this.HP = newHP;\n",
    "    }\n",
    "\n",
    "    public void takeDMG(int takenDamage) {\n",
    "        this.HP -= takenDamage;\n",
    "    }\n",
    "\n",
    "    public void setDMG(int newDMG) {\n",
    "        this.DMG = newDMG;\n",
    "    }\n",
    "\n",
    "    public void setHitChance(double newHitChance) {\n",
    "        this.hitChance = newHitChance;\n",
    "    }\n",
    "}\n",
    "\n",
    "public class Duel {\n",
    "\n",
    "    public static void fight(Goblin goblin1, Goblin goblin2) {\n",
    "        while (goblin1.isAlive() && goblin2.isAlive()) {\n",
    "\n",
    "            // goblin1 hit chance tester\n",
    "            if (Math.random() < goblin2.getHitChance()) {\n",
    "                goblin2.takeDMG(goblin2.getDMG());\n",
    "                System.out.println(goblin1.getName() + \" takes \" + goblin2.getDMG() + \" damage\");\n",
    "            }\n",
    "            else {\n",
    "                System.out.println(goblin2.getName() + \" missed!\");\n",
    "            }\n",
    "            // print hp of goblin1\n",
    "            System.out.println(goblin1.getName() + \" HP: \" + goblin1.getHP());\n",
    "\n",
    "            if (!goblin1.isAlive()) {\n",
    "                System.out.println(goblin1.getName() + \" has perished\");\n",
    "                break;\n",
    "            }\n",
    "\n",
    "            // if statement for goblin2 hit chance\n",
    "            if (Math.random() < goblin1.getHitChance()) {\n",
    "                goblin2.takeDMG(goblin1.getDMG());\n",
    "                System.out.println(goblin2.getName() + \" takes \" + goblin1.getDMG() + \" damage\");\n",
    "            }\n",
    "            else {\n",
    "                System.out.println(goblin1.getName() + \" missed!\");\n",
    "            }\n",
    "            // print hp of goblin2\n",
    "            System.out.println(goblin2.getName() + \" HP: \" + goblin2.getHP());\n",
    "\n",
    "            if (!goblin2.isAlive()) {\n",
    "                System.out.println(goblin2.getName() + \" has perished\");\n",
    "                break;\n",
    "            }\n",
    "        }\n",
    "    }\n",
    "\n",
    "    public static void main(String[] args) {\n",
    "        Goblin goblin1 = new Goblin();\n",
    "        goblin1.setName(\"Thomas Jefferson\");\n",
    "        goblin1.setHP(12);\n",
    "        goblin1.setDMG(2);\n",
    "        goblin1.setHitChance(0.5);\n",
    "\n",
    "        Goblin goblin2 = new Goblin();\n",
    "        goblin2.setName(\"George Washington\");\n",
    "        goblin2.setHP(4);\n",
    "        goblin2.setDMG(1);\n",
    "        goblin2.setHitChance(0.75);\n",
    "\n",
    "        fight(goblin1, goblin2);\n",
    "    }\n",
    "}\n",
    "\n",
    "Duel.main(null);"
   ]
  },
  {
   "cell_type": "markdown",
   "metadata": {},
   "source": [
    "### 2021 FRQ 1"
   ]
  },
  {
   "cell_type": "code",
   "execution_count": 13,
   "metadata": {
    "vscode": {
     "languageId": "java"
    }
   },
   "outputs": [
    {
     "name": "stdout",
     "output_type": "stream",
     "text": [
      "i = 4\n",
      "iss = 18\n",
      "issipp = 36\n",
      "mississippi = 121\n",
      "a = 4\n",
      "aa = 12\n",
      "aaa = 18\n",
      "aabb = 16\n",
      "c = 0\n"
     ]
    }
   ],
   "source": [
    "// #1\n",
    "public class WordMatch {\n",
    "    String secret;\n",
    "\n",
    "    public WordMatch(String secret) {\n",
    "        this.secret = secret;\n",
    "    }\n",
    "\n",
    "    public void scoreGuess(String guess) {\n",
    "        int counter = 0;\n",
    "\n",
    "        // for loop for first substring index\n",
    "        for (int i = 0; i < this.secret.length(); i++){\n",
    "            // loop for second substring index\n",
    "            for (int j = i + 1; j < this.secret.length() + 1; j++) {\n",
    "                // if statement\n",
    "                if (guess.equals(this.secret.substring(i,j))) {\n",
    "                    counter++;\n",
    "                }\n",
    "            }\n",
    "        }\n",
    "\n",
    "        // Returning a point value\n",
    "        int points = counter * guess.length() * guess.length();\n",
    "        System.out.println(\"\" + guess + \" = \" + points);\n",
    "        // return points;\n",
    "    }\n",
    "}\n",
    "\n",
    "WordMatch game = new WordMatch(\"mississippi\");\n",
    "game.scoreGuess(\"i\"); game.scoreGuess(\"iss\"); game.scoreGuess(\"issipp\"); game.scoreGuess(\"mississippi\");\n",
    "\n",
    "WordMatch game = new WordMatch(\"aaaabb\");\n",
    "game.scoreGuess(\"a\"); game.scoreGuess(\"aa\"); game.scoreGuess(\"aaa\"); game.scoreGuess(\"aabb\"); game.scoreGuess(\"c\"); "
   ]
  }
 ],
 "metadata": {
  "kernelspec": {
   "display_name": "Java",
   "language": "java",
   "name": "java"
  },
  "language_info": {
   "codemirror_mode": "java",
   "file_extension": ".jshell",
   "mimetype": "text/x-java-source",
   "name": "Java",
   "pygments_lexer": "java",
   "version": "11.0.16+8-post-Ubuntu-0ubuntu120.04"
  },
  "orig_nbformat": 4,
  "vscode": {
   "interpreter": {
    "hash": "916dbcbb3f70747c44a77c7bcd40155683ae19c65e1c03b4aa3499c5328201f1"
   }
  }
 },
 "nbformat": 4,
 "nbformat_minor": 2
}

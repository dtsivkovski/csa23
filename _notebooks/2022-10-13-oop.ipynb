{
 "cells": [
  {
   "cell_type": "markdown",
   "metadata": {},
   "source": [
    "# Object Oriented Programing Lesson \n",
    "> Hacks from the presentation\n",
    "\n",
    "- title: OOP Lesson Hacks\n",
    "- toc: true\n",
    "- categories: [Notes]\n",
    "- permalink: /week8/oop\n",
    "- image: https://encrypted-tbn0.gstatic.com/images?q=tbn:ANd9GcQt2Wc-Q5pj-O13dMo8c7A1oGhW7Ixzbj_Naw&usqp=CAU"
   ]
  },
  {
   "cell_type": "markdown",
   "metadata": {},
   "source": [
    "### 2021 FRQ 1 and 2"
   ]
  }
 ],
 "metadata": {
  "kernelspec": {
   "display_name": "Java",
   "language": "java",
   "name": "java"
  },
  "language_info": {
   "codemirror_mode": "java",
   "file_extension": ".jshell",
   "mimetype": "text/x-java-source",
   "name": "java",
   "pygments_lexer": "java",
   "version": "11.0.16+8-post-Ubuntu-0ubuntu120.04"
  },
  "orig_nbformat": 4,
  "vscode": {
   "interpreter": {
    "hash": "916dbcbb3f70747c44a77c7bcd40155683ae19c65e1c03b4aa3499c5328201f1"
   }
  }
 },
 "nbformat": 4,
 "nbformat_minor": 2
}

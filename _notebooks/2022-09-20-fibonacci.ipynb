{
 "cells": [
  {
   "cell_type": "markdown",
   "metadata": {},
   "source": [
    "# Fibonacci and Extends\n",
    "> Using extend on fibonacci class\n",
    "\n",
    "- title: Fibonacci and Extends\n",
    "- toc: true\n",
    "- categories: [Notes]\n",
    "- permalink: /week5/fibo\n",
    "- image: https://clevelanddesign.com/wp-content/uploads/2020/09/the-golden-ratio-teaser.jpg"
   ]
  },
  {
   "cell_type": "markdown",
   "metadata": {},
   "source": [
    "### Code given by Mr. M below"
   ]
  },
  {
   "cell_type": "code",
   "execution_count": null,
   "metadata": {},
   "outputs": [],
   "source": [
    "/*\n",
    " * Creator: Nighthawk Coding Society\n",
    " * Mini Lab Name: Fibonacci sequence, featuring a Stream Algorithm\n",
    " * \n",
    " */\n",
    "\n",
    "import java.util.ArrayList;  \n",
    "import java.util.HashMap;\n",
    "import java.util.stream.Stream;\n",
    "\n",
    "/* Objective will require changing to abstract class with one or more abstract methods below */\n",
    "public class Fibo {\n",
    "    String name;  // name or title of method\n",
    "    int size;  // nth sequence\n",
    "    int hashID;  // counter for hashIDs in hash map\n",
    "    ArrayList<Long> list;   // captures current Fibonacci sequence\n",
    "    HashMap<Integer, Object> hash;  // captures each sequence leading to final result\n",
    "\n",
    "    /*\n",
    "     Zero parameter constructor uses Telescoping technique to allow setting of the required value nth\n",
    "     @param: none\n",
    "     */\n",
    "    public Fibo() {\n",
    "        this(20); // telescope to avoid code duplication, using default as 20\n",
    "    }\n",
    "\n",
    "    /*\n",
    "     Construct the nth fibonacci number\n",
    "     @param: nth number, the value is constrained to 92 because of overflow in a long\n",
    "     */\n",
    "    public Fibo(int nth) {\n",
    "        this.size = nth;\n",
    "        this.list = new ArrayList<>();\n",
    "        this.hashID = 0;\n",
    "        this.hash = new HashMap<>();\n",
    "        //initialize fibonacci and time mvc\n",
    "        this.init();\n",
    "    }\n",
    "\n",
    "    /*\n",
    "     This Method should be \"abstract\"\n",
    "     Leave method as protected, as it is only authorized to extender of the class\n",
    "     Make new class that extends and defines init()\n",
    "     Inside references within this class would change from this to super\n",
    "     Repeat process using for, while, recursion\n",
    "     */\n",
    "    protected void init() {\n",
    "        this.name = \"Stream\";\n",
    "        Stream.iterate(new long[]{0, 1}, f -> new long[]{f[1], f[0] + f[1]})\n",
    "            .limit(this.size)\n",
    "            .forEach(f -> this.setData(f[0]) );\n",
    "    }\n",
    "\n",
    "    /*\n",
    "     Number is added to fibonacci sequence, current state of \"list\" is added to hash for hashID \"num\"\n",
    "     */\n",
    "    public void setData(long num) {\n",
    "        list.add(num);\n",
    "        hash.put(this.hashID++, list.clone());\n",
    "    }\n",
    "\n",
    "    /*\n",
    "     Custom Getter to return last element in fibonacci sequence\n",
    "     */\n",
    "    public long getNth() {\n",
    "        return list.get(this.size - 1);\n",
    "    }\n",
    "\n",
    "    /*\n",
    "     Custom Getter to return last fibonacci sequence in HashMap\n",
    "     */\n",
    "    public Object getNthSeq(int i) {\n",
    "        return hash.get(i);\n",
    "    }\n",
    "\n",
    "    /*\n",
    "     Console/Terminal supported print method\n",
    "     */\n",
    "    public void print() {\n",
    "        System.out.println(\"Init method = \" + this.name);\n",
    "        System.out.println(\"fibonacci Number \" + this.size + \" = \" + this.getNth());\n",
    "        System.out.println(\"fibonacci List = \" + this.list);\n",
    "        System.out.println(\"fibonacci Hashmap = \" + this.hash);\n",
    "        for (int i=0 ; i<this.size; i++ ) {\n",
    "            System.out.println(\"fibonacci Sequence \" + (i+1) + \" = \" + this.getNthSeq(i));\n",
    "        }\n",
    "    }\n",
    "\n",
    "    /*\n",
    "    Tester class method.  If this becomes abstract you will not be able to test it directly ...\n",
    "    Change this method to  call \"main\" class of each of the extended classes\n",
    "     */\n",
    "    static public void main(String[] args) {\n",
    "        Fibo fib = new Fibo();\n",
    "        fib.print();\n",
    "    }\n",
    "}\n",
    "Fibo.main(null);"
   ]
  },
  {
   "cell_type": "markdown",
   "metadata": {},
   "source": [
    "### Extending the class hacks"
   ]
  },
  {
   "cell_type": "code",
   "execution_count": null,
   "metadata": {},
   "outputs": [],
   "source": [
    "public class FiboWhile extends Fibo {\n",
    "    \n",
    "}"
   ]
  }
 ],
 "metadata": {
  "kernelspec": {
   "display_name": "Java",
   "language": "java",
   "name": "java"
  },
  "language_info": {
   "name": "java",
   "version": "3.8.10"
  },
  "orig_nbformat": 4,
  "vscode": {
   "interpreter": {
    "hash": "916dbcbb3f70747c44a77c7bcd40155683ae19c65e1c03b4aa3499c5328201f1"
   }
  }
 },
 "nbformat": 4,
 "nbformat_minor": 2
}

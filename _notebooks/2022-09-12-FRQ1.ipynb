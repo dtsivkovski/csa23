{
 "cells": [
  {
   "cell_type": "markdown",
   "metadata": {},
   "source": [
    "# Free Response Practice #1\n",
    "> Practicing for the AP test free response section.\n",
    "\n",
    "- title: AP FRQ #1 \n",
    "- toc: true\n",
    "- categories: [AP]\n",
    "- permalink: /week4/frq\n",
    "- image: https://3.files.edl.io/cc36/19/09/11/222719-922f3b7d-38d6-4078-b648-fb41de3fe997.jpg"
   ]
  },
  {
   "cell_type": "markdown",
   "metadata": {},
   "source": [
    "## 2015 FRQ #1\n",
    "\n",
    "a) Write a static method arraySum that calculates and returns the sum of the entries in a specified one-dimensional array. The following example shows an array ```arr1``` and the value returned by a call to ```arraySum```. \n"
   ]
  },
  {
   "cell_type": "code",
   "execution_count": null,
   "metadata": {},
   "outputs": [],
   "source": [
    "public class ArrayAdd {\n",
    "    public static int Add(int[] array) {\n",
    "        int sum = 0;\n",
    "        \n",
    "\n",
    "        public static void main() {\n",
    "\n",
    "        }\n",
    "\n",
    "        for (int i = 0; i < array.length(); i++) {\n",
    "\n",
    "        }\n",
    "    }\n",
    "}"
   ]
  }
 ],
 "metadata": {
  "kernelspec": {
   "display_name": "Java",
   "language": "java",
   "name": "java"
  },
  "language_info": {
   "name": "java",
   "version": "3.8.10"
  },
  "orig_nbformat": 4,
  "vscode": {
   "interpreter": {
    "hash": "916dbcbb3f70747c44a77c7bcd40155683ae19c65e1c03b4aa3499c5328201f1"
   }
  }
 },
 "nbformat": 4,
 "nbformat_minor": 2
}

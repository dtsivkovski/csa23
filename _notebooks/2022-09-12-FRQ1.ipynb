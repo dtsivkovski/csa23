{
 "cells": [
  {
   "cell_type": "markdown",
   "metadata": {},
   "source": [
    "# Free Response Practice #1\n",
    "> Practicing for the AP test free response section.\n",
    "\n",
    "- title: AP FRQ #1 \n",
    "- toc: true\n",
    "- categories: [AP]\n",
    "- permalink: /week4/frq\n",
    "- image: https://3.files.edl.io/cc36/19/09/11/222719-922f3b7d-38d6-4078-b648-fb41de3fe997.jpg"
   ]
  },
  {
   "cell_type": "markdown",
   "metadata": {},
   "source": [
    "## 2015 FRQ #1\n",
    "\n",
    "a) Write a static method arraySum that calculates and returns the sum of the entries in a specified one-dimensional array. The following example shows an array ```arr1``` and the value returned by a call to ```arraySum```. \n"
   ]
  },
  {
   "cell_type": "code",
   "execution_count": 6,
   "metadata": {},
   "outputs": [
    {
     "name": "stdout",
     "output_type": "stream",
     "text": [
      "For the following array\n",
      " \n",
      " 3, 2, 1, 8, 10, 2, \n",
      " \n",
      "The sum is: 26\n"
     ]
    }
   ],
   "source": [
    "public class ArrayAdd {\n",
    "\n",
    "    public static int Add(int[] array) {\n",
    "        int sum = 0;\n",
    "        for (int i = 0; i < array.length; i++) {\n",
    "            sum += array[i];\n",
    "        }\n",
    "        return sum;\n",
    "    }\n",
    "\n",
    "    public static void main() {\n",
    "        int[] array = {3,2,1,8,10,2};\n",
    "        int sum = Add(array);\n",
    "        System.out.println(\"For the following array\");\n",
    "        System.out.println(\" \");\n",
    "        for (int i = 0; i < array.length; i++) {\n",
    "            System.out.print(\" \" + array[i] + \",\");\n",
    "        }\n",
    "        System.out.println(\" \"); System.out.println(\" \");\n",
    "        System.out.println(\"The sum is: \" + sum);\n",
    "    }\n",
    "    \n",
    "}\n",
    "ArrayAdd.main();"
   ]
  },
  {
   "cell_type": "markdown",
   "metadata": {},
   "source": [
    "b.)  Write a static method rowSums that calculates the sums of each of the rows in a given two-dimensional array and returns these sums in a one-dimensional array."
   ]
  },
  {
   "cell_type": "code",
   "execution_count": 24,
   "metadata": {},
   "outputs": [
    {
     "name": "stdout",
     "output_type": "stream",
     "text": [
      "The array sums are: \n",
      " 6, 10, 15, 16, 29,"
     ]
    }
   ],
   "source": [
    "class RowSummation {\n",
    "    public static int[] rowSums(int[][] arr2D) {\n",
    "        int[] output = new int[arr2D.length];\n",
    "        // For loop for each int array in the array\n",
    "        for (int i = 0; i < arr2D.length; i++) {\n",
    "            int isum = 0;\n",
    "            // For loop for each int in the int[]\n",
    "            isum = ArrayAdd.Add(arr2D[i]);\n",
    "            //Append isum to array\n",
    "            output[i] = isum;\n",
    "        }\n",
    "\n",
    "        return output;\n",
    "    }\n",
    "\n",
    "    public static void main() {\n",
    "        int[][] arr2D = new int[][] {\n",
    "            {1,2,3},\n",
    "            {1,2,3,4},\n",
    "            {5,4,3,2,1},\n",
    "            {6,7,2,1},\n",
    "            {9,9,11}\n",
    "        };\n",
    "        System.out.println(\"The array sums are: \");\n",
    "        int[] result = rowSums(arr2D);\n",
    "        for (int i = 0; i < result.length; i++) {\n",
    "            System.out.print(\" \" + result[i] + \",\");\n",
    "        }\n",
    "        \n",
    "    }\n",
    "}\n",
    "\n",
    "RowSummation.main();"
   ]
  },
  {
   "cell_type": "markdown",
   "metadata": {},
   "source": [
    "c.) Write a static method ```isDiverse``` that determines whether or not a given two-dimensional array is diverse."
   ]
  },
  {
   "cell_type": "code",
   "execution_count": 34,
   "metadata": {},
   "outputs": [
    {
     "name": "stdout",
     "output_type": "stream",
     "text": [
      "false\n",
      "true\n"
     ]
    }
   ],
   "source": [
    "public class Diversity {\n",
    "    public static boolean isDiverse(int[][] arr2D) {\n",
    "\n",
    "        // Defining isDiverse boolean and getting the result int[]\n",
    "        boolean isDiverse = true;\n",
    "        int[] result = RowSummation.rowSums(arr2D);\n",
    "\n",
    "        // Loops through result[]\n",
    "        for (int i = 0; i < result.length; i++) {\n",
    "            int orig = result[i];\n",
    "            // Loops through all values greater than result[i]\n",
    "            for (int j = i + 1; j < result.length; j++) {\n",
    "                // If statement to compare sums\n",
    "                if (orig == result[j]) {\n",
    "                    // If same sum\n",
    "                    isDiverse = false;\n",
    "                }\n",
    "            }\n",
    "        }\n",
    "        return isDiverse;\n",
    "    }\n",
    "    \n",
    "    public static void main() {\n",
    "        // Test should be false\n",
    "        int[][] arr2D = {{1,2,3},{3,2,1},{6,5,4}};\n",
    "        boolean diverse = isDiverse(arr2D);\n",
    "        System.out.println(diverse);\n",
    "        // Test should be true\n",
    "        int[][] arr2D2 = {{1,2,3},{9,10,11},{6,5,4}};\n",
    "        boolean diverse2 = isDiverse(arr2D2);\n",
    "        System.out.println(diverse2);\n",
    "\n",
    "    }\n",
    "}\n",
    "\n",
    "Diversity.main();"
   ]
  }
 ],
 "metadata": {
  "kernelspec": {
   "display_name": "Java",
   "language": "java",
   "name": "java"
  },
  "language_info": {
   "codemirror_mode": "java",
   "file_extension": ".jshell",
   "mimetype": "text/x-java-source",
   "name": "java",
   "pygments_lexer": "java",
   "version": "11.0.16+8-post-Ubuntu-0ubuntu120.04"
  },
  "orig_nbformat": 4,
  "vscode": {
   "interpreter": {
    "hash": "916dbcbb3f70747c44a77c7bcd40155683ae19c65e1c03b4aa3499c5328201f1"
   }
  }
 },
 "nbformat": 4,
 "nbformat_minor": 2
}

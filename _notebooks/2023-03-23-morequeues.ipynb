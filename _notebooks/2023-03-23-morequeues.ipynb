{
 "cells": [
  {
   "attachments": {},
   "cell_type": "markdown",
   "metadata": {},
   "source": [
    "# Queue Challenges and Hacks"
   ]
  },
  {
   "attachments": {},
   "cell_type": "markdown",
   "metadata": {},
   "source": [
    "### Challenge #2 - Merge Two Ordered Queues"
   ]
  },
  {
   "cell_type": "code",
   "execution_count": 24,
   "metadata": {},
   "outputs": [
    {
     "name": "stdout",
     "output_type": "stream",
     "text": [
      "Queue: 1 3 4 5 13 \n",
      "Queue: 2 5 6 7 9 10 17 \n",
      "Queue: 1 2 3 4 5 5 6 7 9 10 13 17 \n"
     ]
    }
   ],
   "source": [
    "import java.util.LinkedList;\n",
    "import java.util.Queue;\n",
    "\n",
    "public class QueueMerger {\n",
    "    \n",
    "    public Queue<Integer> mergeQueues(Queue<Integer> a, Queue<Integer> b) {\n",
    "        Queue<Integer> c = new LinkedList<Integer>();\n",
    "        // gets peeks of each queue if both are not empty\n",
    "        while (a.peek() != null && b.peek() != null) {\n",
    "            // compares values of peeks, then appends to queue c\n",
    "            if (a.peek() < b.peek()) {\n",
    "                c.add(a.peek());\n",
    "                a.remove();\n",
    "            } else {\n",
    "                c.add(b.peek());\n",
    "                b.remove();\n",
    "            }\n",
    "        }\n",
    "        // if b is empty but a is not\n",
    "        while (a.peek() != null) {\n",
    "            c.add(a.peek());\n",
    "            a.remove();\n",
    "        }\n",
    "        // if a is empty but b is not\n",
    "        while (b.peek() != null) {\n",
    "            c.add(b.peek());\n",
    "            b.remove();\n",
    "        }\n",
    "\n",
    "        return c;\n",
    "    }\n",
    "\n",
    "    public void printQueue(Queue<Integer> q) {\n",
    "        System.out.print(\"Queue: \");\n",
    "        for (Integer data : q)\n",
    "            System.out.print(data + \" \");\n",
    "        System.out.println();\n",
    "    }\n",
    "    \n",
    "    public static void main(String[] args) {\n",
    "        // create queue manager 1 and 2\n",
    "        Queue<Integer> q1 = new LinkedList<Integer>();\n",
    "        Queue<Integer> q2 = new LinkedList<Integer>();\n",
    "\n",
    "        // add objects to queue and print both\n",
    "        q1.add(1);\n",
    "        q1.add(3);\n",
    "        q1.add(4);\n",
    "        q1.add(5);\n",
    "        q1.add(13);\n",
    "        q2.add(2);\n",
    "        q2.add(5);\n",
    "        q2.add(6);\n",
    "        q2.add(7);\n",
    "        q2.add(9);\n",
    "        q2.add(10);\n",
    "        q2.add(17);\n",
    "\n",
    "        // merge queues\n",
    "        QueueMerger qm = new QueueMerger();\n",
    "        qm.printQueue(q1);\n",
    "        qm.printQueue(q2);\n",
    "\n",
    "        Queue<Integer> qmm = qm.mergeQueues(q1, q2);\n",
    "\n",
    "        // print merged queue\n",
    "        qm.printQueue(qmm);\n",
    "    }\n",
    "}\n",
    "\n",
    "QueueMerger.main(null);"
   ]
  }
 ],
 "metadata": {
  "kernelspec": {
   "display_name": "Java",
   "language": "java",
   "name": "java"
  },
  "language_info": {
   "codemirror_mode": "java",
   "file_extension": ".jshell",
   "mimetype": "text/x-java-source",
   "name": "java",
   "pygments_lexer": "java",
   "version": "11.0.16+8-post-Ubuntu-0ubuntu120.04"
  },
  "orig_nbformat": 4
 },
 "nbformat": 4,
 "nbformat_minor": 2
}

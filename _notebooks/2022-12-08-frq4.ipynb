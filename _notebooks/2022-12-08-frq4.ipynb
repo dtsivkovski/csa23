{
 "cells": [
  {
   "attachments": {},
   "cell_type": "markdown",
   "metadata": {},
   "source": [
    "# FRQ 4\n",
    "> Collegeboard FRQ 4\n",
    "\n",
    "- title: Collegeboard FRQ4\n",
    "- toc: true\n",
    "- categories: [Notes]\n",
    "- permalink: /frq4\n",
    "- image: "
   ]
  },
  {
   "attachments": {},
   "cell_type": "markdown",
   "metadata": {},
   "source": [
    "### FRQ 4 "
   ]
  },
  {
   "cell_type": "code",
   "execution_count": 9,
   "metadata": {},
   "outputs": [
    {
     "name": "stdout",
     "output_type": "stream",
     "text": [
      "false\n",
      "true\n",
      "false\n"
     ]
    }
   ],
   "source": [
    "import java.lang.Math;\n",
    "\n",
    "public class LightBoard { \n",
    "    /** The lights on the board, where true represents on and false represents off. \n",
    "     */ \n",
    "    private boolean[][] lights; \n",
    "    /** Constructs a LightBoard object having numRows rows and numCols columns. \n",
    "     * Precondition: numRows > 0, numCols > 0 \n",
    "     * Postcondition: each light has a 40% probability of being set to on. \n",
    "     */ \n",
    "    public LightBoard(int numRows, int numCols){\n",
    "         /* to be implemented in part (a) */\n",
    "        // initialize the 2D array\n",
    "        lights = new boolean[numRows][numCols];\n",
    "\n",
    "        // Using two enhanced for loops to iterate through the 2D array\n",
    "        for (int i = 0; i < lights.length; i++) {\n",
    "            for (int j = 0; j < lights[i].length; j++){\n",
    "                // use math.random to generate a random number, less than 0.4, to determine if the light is on or off\n",
    "                if (Math.random() < 0.4){\n",
    "                    lights[i][j] = true;\n",
    "                }\n",
    "                else{\n",
    "                    lights[i][j] = false;\n",
    "                }\n",
    "            }\n",
    "        }\n",
    "\n",
    "     }\n",
    "    /** Evaluates a light in row index row and column index col and returns a status \n",
    "     * as described in part (b).\n",
    "     * Precondition: row and col are valid indexes in lights.\n",
    "     */\n",
    "    public boolean evaluateLight(int row, int col)\n",
    "    { /* to be implemented in part (b) */ \n",
    "\n",
    "        // CHECK IF LIGHT IS ON\n",
    "        if (lights[row][col] == true) {\n",
    "            // return false if the number of lights in its column are even\n",
    "            int counter = 0;\n",
    "\n",
    "            // iterate through every row and check for value of the column, if true increment counter\n",
    "           for (int i = 0; i < lights.length; i++){\n",
    "               if (lights[i][col] == true){\n",
    "                   counter++;\n",
    "               }\n",
    "           }\n",
    "\n",
    "           // check if counter is even or odd\n",
    "           if (counter % 2 == 0){\n",
    "               return false;\n",
    "           }\n",
    "           else{\n",
    "               return true;\n",
    "           }\n",
    "\n",
    "        }\n",
    "        // If light is off\n",
    "        else {\n",
    "            int counter = 0;\n",
    "            // Count number of lights in the column\n",
    "            for (int i = 0; i < lights.length; i++){\n",
    "                if (lights[i][col] == true){\n",
    "                    counter++;\n",
    "                }\n",
    "            }\n",
    "\n",
    "            // return true if the number of lights in the column is divisible by 3\n",
    "            if (counter % 3 == 0) {\n",
    "                return true;\n",
    "            }\n",
    "            else {\n",
    "                return false;\n",
    "            }\n",
    "        }\n",
    "    }\n",
    "    // There may be additional instance variables, constructors, and methods not shown. \n",
    "}\n",
    "\n",
    "LightBoard a = new LightBoard(5,5);\n",
    "System.out.println(a.evaluateLight(0,0));\n",
    "System.out.println(a.evaluateLight(0,1));\n",
    "System.out.println(a.evaluateLight(0,2));\n"
   ]
  }
 ],
 "metadata": {
  "kernelspec": {
   "display_name": "Java",
   "language": "java",
   "name": "java"
  },
  "language_info": {
   "codemirror_mode": "java",
   "file_extension": ".jshell",
   "mimetype": "text/x-java-source",
   "name": "java",
   "pygments_lexer": "java",
   "version": "11.0.16+8-post-Ubuntu-0ubuntu120.04"
  },
  "orig_nbformat": 4,
  "vscode": {
   "interpreter": {
    "hash": "916dbcbb3f70747c44a77c7bcd40155683ae19c65e1c03b4aa3499c5328201f1"
   }
  }
 },
 "nbformat": 4,
 "nbformat_minor": 2
}

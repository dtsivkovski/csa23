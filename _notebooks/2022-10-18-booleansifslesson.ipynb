{
 "cells": [
  {
   "cell_type": "markdown",
   "metadata": {},
   "source": [
    "# Boolean Expressions and Ifs Lesson \n",
    "> Hacks from the presentation\n",
    "\n",
    "- title: Boolean expressions and ifs lesson\n",
    "- toc: true\n",
    "- categories: [Notes]\n",
    "- permalink: /week9/booleans-ifs\n",
    "- image: "
   ]
  },
  {
   "cell_type": "markdown",
   "metadata": {},
   "source": [
    "## Hacks\n",
    "- 2009 FRQ 3b\n",
    "- 2017 FRQ 1b\n",
    "- 2019 FRQ 3b"
   ]
  },
  {
   "cell_type": "code",
   "execution_count": null,
   "metadata": {
    "vscode": {
     "languageId": "java"
    }
   },
   "outputs": [],
   "source": [
    "// 09 - 3b\n",
    "// We are assuming that getChargingCost() works well\n",
    "public class BatteryCharger {\n",
    "\n",
    "    public int getChargeStartTime(int chargeTime) {\n",
    "        int starting = 0;\n",
    "        for (int j = 1; j < 24; j++) {\n",
    "            if (this.getChargingCost(j, chargeTime) < this.getChargingCost(starting, chargeTime)) starting = j;\n",
    "        }\n",
    "        return starting;\n",
    "    }\n",
    "}\n",
    "\n",
    "BatteryCharger bat = new BatteryCharger();\n",
    "bat.getChargeStartTime(6);"
   ]
  },
  {
   "cell_type": "code",
   "execution_count": 4,
   "metadata": {
    "vscode": {
     "languageId": "java"
    }
   },
   "outputs": [
    {
     "name": "stdout",
     "output_type": "stream",
     "text": [
      "true\n",
      "false\n"
     ]
    }
   ],
   "source": [
    "// 17 - 1b\n",
    "import java.util.*;\n",
    "\n",
    "public class Digits {\n",
    "    private ArrayList<Integer> digitList;\n",
    "\n",
    "    public Digits(int num) {\n",
    "        digitList = new ArrayList<Integer>();\n",
    "\n",
    "        if (num==0){\n",
    "            digitList.add(new Integer(0));\n",
    "        }\n",
    "        while (num > 0) {\n",
    "            digitList.add(0, new Integer(num % 10));\n",
    "            num /= 10;\n",
    "        }\n",
    "\n",
    "    }\n",
    "\n",
    "    public boolean isStrictlyIncreasing() {\n",
    "        boolean increase = true;\n",
    "\n",
    "        for (int i = 0; i < digitList.size() - 1; i++) {\n",
    "            if (digitList.get(i).intValue() >= digitList.get(i + 1).intValue()) {\n",
    "                increase = false;\n",
    "                return increase;\n",
    "            }\n",
    "        }\n",
    "        return increase;\n",
    "    }\n",
    "}\n",
    "\n",
    "System.out.println(new Digits(1356).isStrictlyIncreasing());\n",
    "System.out.println(new Digits(1536).isStrictlyIncreasing());"
   ]
  },
  {
   "cell_type": "code",
   "execution_count": null,
   "metadata": {
    "vscode": {
     "languageId": "java"
    }
   },
   "outputs": [],
   "source": [
    "// 19 - 3b\n",
    "public class Delimiters {\n",
    "    private String openDel;\n",
    "    private String closeDel;\n",
    "\n",
    "    public Delimiters(String open, String close) {\n",
    "\n",
    "    }\n",
    "    public ArrayList<String> getDelimitersList(String[] tokens){\n",
    "\n",
    "    }\n",
    "    public boolean isBalanced(ArrayList<String> delimiters) {\n",
    "        int opencount = 0;\n",
    "        int closecount = 0;\n",
    "\n",
    "        for (int i = 0; i < delimiters.size(); i++) {\n",
    "            if (delimiters.get(i) == openDel) {\n",
    "                opencount++;\n",
    "            }\n",
    "            else if (delimiter.get(i) == closeDel) {\n",
    "                closecount++;\n",
    "            }\n",
    "\n",
    "            if (closecount > opencount) {\n",
    "                return false;\n",
    "            }\n",
    "        }\n",
    "        return true;\n",
    "\n",
    "    }\n",
    "\n",
    "}"
   ]
  }
 ],
 "metadata": {
  "kernelspec": {
   "display_name": "Java",
   "language": "java",
   "name": "java"
  },
  "language_info": {
   "codemirror_mode": "java",
   "file_extension": ".jshell",
   "mimetype": "text/x-java-source",
   "name": "Java",
   "pygments_lexer": "java",
   "version": "11.0.16+8-post-Ubuntu-0ubuntu120.04"
  },
  "orig_nbformat": 4,
  "vscode": {
   "interpreter": {
    "hash": "916dbcbb3f70747c44a77c7bcd40155683ae19c65e1c03b4aa3499c5328201f1"
   }
  }
 },
 "nbformat": 4,
 "nbformat_minor": 2
}

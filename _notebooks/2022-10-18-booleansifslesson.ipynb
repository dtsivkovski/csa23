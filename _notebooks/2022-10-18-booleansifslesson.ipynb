{
 "cells": [
  {
   "cell_type": "markdown",
   "metadata": {},
   "source": [
    "# Boolean Expressions and Ifs Lesson \n",
    "> Hacks from the presentation\n",
    "\n",
    "- title: Boolean expressions and ifs lesson\n",
    "- toc: true\n",
    "- categories: [Notes]\n",
    "- permalink: /week9/booleans-ifs\n",
    "- image: "
   ]
  },
  {
   "cell_type": "markdown",
   "metadata": {},
   "source": [
    "## Hacks\n",
    "- 2009 FRQ 3b\n",
    "- 2017 FRQ 1b\n",
    "- 2019 FRQ 3b"
   ]
  },
  {
   "cell_type": "code",
   "execution_count": null,
   "metadata": {},
   "outputs": [],
   "source": [
    "// 09 - 3b\n",
    "// We are assuming that getChargingCost() works well\n",
    "public class BatteryCharger {\n",
    "\n",
    "    public int getChargeStartTime(int chargeTime) {\n",
    "        int starting = 0;\n",
    "        for (int j = 1; j < 24; j++) {\n",
    "            if (this.getChargingCost(j, chargeTime) < this.getChargingCost(starting, chargeTime)) starting = j;\n",
    "        }\n",
    "        return starting;\n",
    "    }\n",
    "}\n",
    "\n",
    "BatteryCharger bat = new BatteryCharger();\n",
    "bat.getChargeStartTime(6);"
   ]
  }
 ],
 "metadata": {
  "kernelspec": {
   "display_name": "Java",
   "language": "java",
   "name": "java"
  },
  "language_info": {
   "name": "java",
   "version": "3.8.10"
  },
  "orig_nbformat": 4,
  "vscode": {
   "interpreter": {
    "hash": "916dbcbb3f70747c44a77c7bcd40155683ae19c65e1c03b4aa3499c5328201f1"
   }
  }
 },
 "nbformat": 4,
 "nbformat_minor": 2
}

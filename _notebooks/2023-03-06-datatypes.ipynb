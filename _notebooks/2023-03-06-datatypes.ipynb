{
 "cells": [
  {
   "attachments": {},
   "cell_type": "markdown",
   "metadata": {},
   "source": [
    "# Data Types Tech Talk\n",
    "> Data Types\n",
    "\n",
    "- title: Data Types Tech Talk\n",
    "- toc: true\n",
    "- categories: [Notes]\n",
    "- permalink: /datatypes/"
   ]
  },
  {
   "cell_type": "code",
   "execution_count": 13,
   "metadata": {
    "vscode": {
     "languageId": "java"
    }
   },
   "outputs": [
    {
     "name": "stdout",
     "output_type": "stream",
     "text": [
      "1\n",
      "10\n",
      "0\n"
     ]
    },
    {
     "data": {
      "text/plain": [
       "0"
      ]
     },
     "execution_count": 13,
     "metadata": {},
     "output_type": "execute_result"
    }
   ],
   "source": [
    "import java.lang.*;\n",
    "\n",
    "public class BinaryAddition {\n",
    "\n",
    "    public int binaryAdd(int a, int b) {\n",
    "        String aBin = Integer.toBinaryString(a);\n",
    "        String bBin = Integer.toBinaryString(b);\n",
    "\n",
    "        for (int i = 0; i < )\n",
    "    }\n",
    "}\n",
    "\n",
    "\n",
    "BinaryAddition a = new BinaryAddition();\n",
    "a.binaryAdd(1, 0);\n",
    "a.binaryAdd(1, 1);\n",
    "a.binaryAdd(0, 0);"
   ]
  },
  {
   "attachments": {},
   "cell_type": "markdown",
   "metadata": {},
   "source": [
    "### Notes\n",
    "\n",
    "- Reference: Pointers to memory locations (addresses of primitive data)\n",
    "- Auto boxing: Wraps the integer in a box, and the box is a reference to the integer\n",
    "\n",
    "### Hacks\n",
    "- Start with some small code excercises\n",
    "    - Write a Jupyter notebook code example on the following primitive types with a code example (4 to 5 lines), preference would be using array and methods like substring and random as applicable: int, double, boolean, char.\n",
    "    - Now convert each of the examples to corresponding Wrapper classes, using arrays.\n",
    "    - Expression of these in Class or PBL forms is an option. But the review must be easy for me to see work."
   ]
  },
  {
   "cell_type": "code",
   "execution_count": 33,
   "metadata": {
    "vscode": {
     "languageId": "java"
    }
   },
   "outputs": [
    {
     "name": "stdout",
     "output_type": "stream",
     "text": [
      "Primitive Array\n",
      "1 2 3 4 5  \n",
      "5 4 3 2 1  \n",
      "Wrapper Class Array\n",
      "1 2 3 4 5  \n",
      "5 4 3 2 1  \n",
      " \n",
      "Primitive Array\n",
      "6 7 8 9 10  \n",
      "10 9 8 7 6  \n",
      "Wrapper Class Array\n",
      "6 7 8 9 10  \n",
      "10 9 8 7 6  \n",
      " \n"
     ]
    }
   ],
   "source": [
    "public class PrimToWrap {\n",
    "    public static void main(String[] args) {\n",
    "        // create primtowrap for two different arrays.\n",
    "        int[] a = new int[] {1, 2, 3, 4, 5};\n",
    "        new PrimToWrap(a);\n",
    "        int[] b = new int[] {6, 7, 8, 9, 10};\n",
    "        new PrimToWrap(b);\n",
    "    }\n",
    "\n",
    "    PrimToWrap(int[] array) {\n",
    "        System.out.println(\"Primitive Array\");\n",
    "        printArray(array);\n",
    "        printArray(reverseArray(array));\n",
    "\n",
    "        System.out.println(\"Wrapper Class Array\");\n",
    "        Integer[] b = convertToWrap(array);\n",
    "        printArray(b);\n",
    "        printArray(reverseArray(b));\n",
    "        System.out.println(\" \");\n",
    "    }\n",
    "\n",
    "    public int[] reverseArray(int[] a) {\n",
    "        // New array b\n",
    "        int[] b = new int[a.length];\n",
    "        for (int i = 0; i < a.length; i++) {\n",
    "            // reverse array values\n",
    "            b[i] = a[a.length - i - 1];\n",
    "        }\n",
    "        return b;\n",
    "    }\n",
    "\n",
    "    // for wrapper class method\n",
    "    public Integer[] reverseArray(Integer[] a) {\n",
    "        // New array b\n",
    "        Integer[] b = new Integer[a.length];\n",
    "        for (int i = 0; i < a.length; i++) {\n",
    "            // reverse array values\n",
    "            b[i] = a[a.length - i - 1];\n",
    "        }\n",
    "        return b;\n",
    "    }\n",
    "\n",
    "    public void printArray(int[] a) {\n",
    "        // Print array\n",
    "        for (int i = 0; i < a.length; i++) {\n",
    "            System.out.print(a[i] + \" \");\n",
    "        }\n",
    "        System.out.println(\" \");\n",
    "    }\n",
    "\n",
    "    // for wrapper class integer\n",
    "    public void printArray(Integer[] a) {\n",
    "        // Print array\n",
    "        for (int i = 0; i < a.length; i++) {\n",
    "            System.out.print(a[i] + \" \");\n",
    "        }\n",
    "        System.out.println(\" \");\n",
    "    }\n",
    "\n",
    "    public Integer[] convertToWrap(int[] a) {\n",
    "        // Convert to wrapper class\n",
    "        Integer[] b = new Integer[a.length];\n",
    "        for (int i = 0; i < a.length; i++) {\n",
    "            b[i] = Integer.valueOf(a[i]);\n",
    "        }\n",
    "        return b;\n",
    "    }\n",
    "}\n",
    "\n",
    "PrimToWrap.main(null);"
   ]
  },
  {
   "attachments": {},
   "cell_type": "markdown",
   "metadata": {},
   "source": [
    "Exploring Teacher Code: [methodDataTypes](https://github.com/nighthawkcoders/spring_portfolio/tree/master/src/main/java/com/nighthawk/hacks/methodsDataTypes). I would like a Jupyter Notebook that goes over key concepts in Teacher code and uses background from ChatGPT and from AP Classroom.\n",
    "- Methods are what are called by the user or by a class to do something, which must be defined, be called (with/without parameters), and return something or perform an action. Control structures are the actions performed inside methods that do all of the logic, which includes conditionals, iteration, selection, and recursion.\n",
    "- DiverseArray does feature methods and control structures. There are several methods that take in parameters, perform different logical selection and then return outputs or modify values."
   ]
  }
 ],
 "metadata": {
  "kernelspec": {
   "display_name": "Java",
   "language": "java",
   "name": "java"
  },
  "language_info": {
   "codemirror_mode": "java",
   "file_extension": ".jshell",
   "mimetype": "text/x-java-source",
   "name": "Java",
   "pygments_lexer": "java",
   "version": "11.0.16+8-post-Ubuntu-0ubuntu120.04"
  },
  "orig_nbformat": 4
 },
 "nbformat": 4,
 "nbformat_minor": 2
}

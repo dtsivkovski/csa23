{
 "cells": [
  {
   "attachments": {},
   "cell_type": "markdown",
   "metadata": {},
   "source": [
    "# Data Types Tech Talk\n",
    "> Data Types\n",
    "\n",
    "- title: Data Types Tech Talk\n",
    "- toc: true\n",
    "- categories: [Notes]\n",
    "- permalink: /datatypes/"
   ]
  },
  {
   "cell_type": "code",
   "execution_count": 13,
   "metadata": {
    "vscode": {
     "languageId": "java"
    }
   },
   "outputs": [
    {
     "name": "stdout",
     "output_type": "stream",
     "text": [
      "1\n",
      "10\n",
      "0\n"
     ]
    },
    {
     "data": {
      "text/plain": [
       "0"
      ]
     },
     "execution_count": 13,
     "metadata": {},
     "output_type": "execute_result"
    }
   ],
   "source": [
    "import java.lang.*;\n",
    "\n",
    "public class BinaryAddition {\n",
    "\n",
    "    public int binaryAdd(int a, int b) {\n",
    "        String aBin = Integer.toBinaryString(a);\n",
    "        String bBin = Integer.toBinaryString(b);\n",
    "\n",
    "        for (int i = 0; i < )\n",
    "    }\n",
    "}\n",
    "\n",
    "\n",
    "BinaryAddition a = new BinaryAddition();\n",
    "a.binaryAdd(1, 0);\n",
    "a.binaryAdd(1, 1);\n",
    "a.binaryAdd(0, 0);"
   ]
  },
  {
   "attachments": {},
   "cell_type": "markdown",
   "metadata": {},
   "source": [
    "### Notes\n",
    "\n",
    "- Reference: Pointers to memory locations (addresses of primitive data)\n",
    "- Auto boxing: Wraps the integer in a box, and the box is a reference to the integer\n",
    "\n",
    "### Hacks\n",
    "- Start with some small code excercises\n",
    "    - Write a Jupyter notebook code example on the following primitive types with a code example (4 to 5 lines), preference would be using array and methods like substring and random as applicable: int, double, boolean, char.\n",
    "    - Now convert each of the examples to corresponding Wrapper classes, using arrays.\n",
    "    - Expression of these in Class or PBL forms is an option. But the review must be easy for me to see work."
   ]
  },
  {
   "cell_type": "code",
   "execution_count": 33,
   "metadata": {
    "vscode": {
     "languageId": "java"
    }
   },
   "outputs": [
    {
     "name": "stdout",
     "output_type": "stream",
     "text": [
      "Primitive Array\n",
      "1 2 3 4 5  \n",
      "5 4 3 2 1  \n",
      "Wrapper Class Array\n",
      "1 2 3 4 5  \n",
      "5 4 3 2 1  \n",
      " \n",
      "Primitive Array\n",
      "6 7 8 9 10  \n",
      "10 9 8 7 6  \n",
      "Wrapper Class Array\n",
      "6 7 8 9 10  \n",
      "10 9 8 7 6  \n",
      " \n"
     ]
    }
   ],
   "source": [
    "public class PrimToWrap {\n",
    "    public static void main(String[] args) {\n",
    "        // create primtowrap for two different arrays.\n",
    "        int[] a = new int[] {1, 2, 3, 4, 5};\n",
    "        new PrimToWrap(a);\n",
    "        int[] b = new int[] {6, 7, 8, 9, 10};\n",
    "        new PrimToWrap(b);\n",
    "    }\n",
    "\n",
    "    PrimToWrap(int[] array) {\n",
    "        System.out.println(\"Primitive Array\");\n",
    "        printArray(array);\n",
    "        printArray(reverseArray(array));\n",
    "\n",
    "        System.out.println(\"Wrapper Class Array\");\n",
    "        Integer[] b = convertToWrap(array);\n",
    "        printArray(b);\n",
    "        printArray(reverseArray(b));\n",
    "        System.out.println(\" \");\n",
    "    }\n",
    "\n",
    "    public int[] reverseArray(int[] a) {\n",
    "        // New array b\n",
    "        int[] b = new int[a.length];\n",
    "        for (int i = 0; i < a.length; i++) {\n",
    "            // reverse array values\n",
    "            b[i] = a[a.length - i - 1];\n",
    "        }\n",
    "        return b;\n",
    "    }\n",
    "\n",
    "    // for wrapper class method\n",
    "    public Integer[] reverseArray(Integer[] a) {\n",
    "        // New array b\n",
    "        Integer[] b = new Integer[a.length];\n",
    "        for (int i = 0; i < a.length; i++) {\n",
    "            // reverse array values\n",
    "            b[i] = a[a.length - i - 1];\n",
    "        }\n",
    "        return b;\n",
    "    }\n",
    "\n",
    "    public void printArray(int[] a) {\n",
    "        // Print array\n",
    "        for (int i = 0; i < a.length; i++) {\n",
    "            System.out.print(a[i] + \" \");\n",
    "        }\n",
    "        System.out.println(\" \");\n",
    "    }\n",
    "\n",
    "    // for wrapper class integer\n",
    "    public void printArray(Integer[] a) {\n",
    "        // Print array\n",
    "        for (int i = 0; i < a.length; i++) {\n",
    "            System.out.print(a[i] + \" \");\n",
    "        }\n",
    "        System.out.println(\" \");\n",
    "    }\n",
    "\n",
    "    public Integer[] convertToWrap(int[] a) {\n",
    "        // Convert to wrapper class\n",
    "        Integer[] b = new Integer[a.length];\n",
    "        for (int i = 0; i < a.length; i++) {\n",
    "            b[i] = Integer.valueOf(a[i]);\n",
    "        }\n",
    "        return b;\n",
    "    }\n",
    "}\n",
    "\n",
    "PrimToWrap.main(null);"
   ]
  },
  {
   "attachments": {},
   "cell_type": "markdown",
   "metadata": {},
   "source": [
    "Exploring Teacher Code: [methodDataTypes](https://github.com/nighthawkcoders/spring_portfolio/tree/master/src/main/java/com/nighthawk/hacks/methodsDataTypes). I would like a Jupyter Notebook that goes over key concepts in Teacher code and uses background from ChatGPT and from AP Classroom.\n",
    "- Methods are what are called by the user or by a class to do something, which must be defined, be called (with/without parameters), and return something or perform an action. Control structures are the actions performed inside methods that do all of the logic, which includes conditionals, iteration, selection, and recursion.\n",
    "- DiverseArray does feature methods and control structures. There are several methods that take in parameters, perform different logical selection and then return outputs or modify values. Matrix also has these methods.\n",
    "- DiverseArray and Matrix both use only primitives and no wrapper classes. However, they also have 2D arrays for these primitives and a String[]. The String[] is a reference type, but the primitives are not. The 2D arrays are also reference types, but the primitives are not. The primitives are stored in the 2D arrays, but the 2D arrays are stored in the reference type of the String[].\n",
    "- DoNothingByValue is a method that takes in a primitive and does nothing to it. It is passed by value, so it copies the primitive and the original is unchanged.\n",
    "- IntByReference - Key knowledge here is understanding that it takes the integer by reference, and then can modify the actual value as it is referenced. This is key to understanding how value vs. reference works.\n",
    "- \n"
   ]
  }
 ],
 "metadata": {
  "kernelspec": {
   "display_name": "Java",
   "language": "java",
   "name": "java"
  },
  "language_info": {
   "codemirror_mode": "java",
   "file_extension": ".jshell",
   "mimetype": "text/x-java-source",
   "name": "Java",
   "pygments_lexer": "java",
   "version": "11.0.16+8-post-Ubuntu-0ubuntu120.04"
  },
  "orig_nbformat": 4
 },
 "nbformat": 4,
 "nbformat_minor": 2
}

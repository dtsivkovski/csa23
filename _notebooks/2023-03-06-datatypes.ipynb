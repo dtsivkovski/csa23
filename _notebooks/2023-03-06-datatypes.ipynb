{
 "cells": [
  {
   "attachments": {},
   "cell_type": "markdown",
   "metadata": {},
   "source": [
    "# Data Types Tech Talk\n",
    "> Data Types\n",
    "\n",
    "- title: Data Types Tech Talk\n",
    "- toc: true\n",
    "- categories: [Notes]\n",
    "- permalink: /datatypes/"
   ]
  },
  {
   "cell_type": "code",
   "execution_count": 13,
   "metadata": {
    "vscode": {
     "languageId": "java"
    }
   },
   "outputs": [
    {
     "name": "stdout",
     "output_type": "stream",
     "text": [
      "1\n",
      "10\n",
      "0\n"
     ]
    },
    {
     "data": {
      "text/plain": [
       "0"
      ]
     },
     "execution_count": 13,
     "metadata": {},
     "output_type": "execute_result"
    }
   ],
   "source": [
    "import java.lang.*;\n",
    "\n",
    "public class BinaryAddition {\n",
    "\n",
    "    public int binaryAdd(int a, int b) {\n",
    "        String aBin = Integer.toBinaryString(a);\n",
    "        String bBin = Integer.toBinaryString(b);\n",
    "\n",
    "        for (int i = 0; i < )\n",
    "    }\n",
    "}\n",
    "\n",
    "\n",
    "BinaryAddition a = new BinaryAddition();\n",
    "a.binaryAdd(1, 0);\n",
    "a.binaryAdd(1, 1);\n",
    "a.binaryAdd(0, 0);"
   ]
  },
  {
   "attachments": {},
   "cell_type": "markdown",
   "metadata": {},
   "source": [
    "### Notes\n",
    "\n",
    "- Reference: Pointers to memory locations (addresses of primitive data)\n",
    "- Auto boxing: Wraps the integer in a box, and the box is a reference to the integer\n",
    "\n",
    "### Hacks\n",
    "- Start with some small code excercises\n",
    "    - Write a Jupyter notebook code example on the following primitive types with a code example (4 to 5 lines), preference would be using array and methods like substring and random as applicable: int, double, boolean, char.\n",
    "    - Now convert each of the examples to corresponding Wrapper classes, using arrays.\n",
    "    - Expression of these in Class or PBL forms is an option. But the review must be easy for me to see work."
   ]
  }
 ],
 "metadata": {
  "kernelspec": {
   "display_name": "Java",
   "language": "java",
   "name": "java"
  },
  "language_info": {
   "codemirror_mode": "java",
   "file_extension": ".jshell",
   "mimetype": "text/x-java-source",
   "name": "Java",
   "pygments_lexer": "java",
   "version": "11.0.16+8-post-Ubuntu-0ubuntu120.04"
  },
  "orig_nbformat": 4
 },
 "nbformat": 4,
 "nbformat_minor": 2
}

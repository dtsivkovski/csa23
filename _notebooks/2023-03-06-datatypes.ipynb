{
 "cells": [
  {
   "attachments": {},
   "cell_type": "markdown",
   "metadata": {},
   "source": [
    "# Data Types Tech Talk\n",
    "> Data Types\n",
    "\n",
    "- title: Data Types Tech Talk\n",
    "- toc: true\n",
    "- categories: [Notes]\n",
    "- permalink: /datatypes/"
   ]
  },
  {
   "cell_type": "code",
   "execution_count": 13,
   "metadata": {
    "vscode": {
     "languageId": "java"
    }
   },
   "outputs": [
    {
     "name": "stdout",
     "output_type": "stream",
     "text": [
      "1\n",
      "10\n",
      "0\n"
     ]
    },
    {
     "data": {
      "text/plain": [
       "0"
      ]
     },
     "execution_count": 13,
     "metadata": {},
     "output_type": "execute_result"
    }
   ],
   "source": [
    "public class BinaryAddition {\n",
    "\n",
    "    public int binaryAdd(int a, int b) {\n",
    "        if (a + b == 0) {\n",
    "            System.out.println(\"0\");\n",
    "            return 0;\n",
    "        } else if (a + b == 1) {\n",
    "            System.out.println(\"1\");\n",
    "            return 1;\n",
    "        } else if (a + b == 2) {\n",
    "            System.out.println(\"10\");\n",
    "            return 10;\n",
    "        } else {\n",
    "            System.out.println(\"11\");\n",
    "            return 11;\n",
    "        }\n",
    "    }\n",
    "}\n",
    "\n",
    "\n",
    "BinaryAddition a = new BinaryAddition();\n",
    "a.binaryAdd(1, 0);\n",
    "a.binaryAdd(1, 1);\n",
    "a.binaryAdd(0, 0);"
   ]
  }
 ],
 "metadata": {
  "kernelspec": {
   "display_name": "Java",
   "language": "java",
   "name": "java"
  },
  "language_info": {
   "codemirror_mode": "java",
   "file_extension": ".jshell",
   "mimetype": "text/x-java-source",
   "name": "Java",
   "pygments_lexer": "java",
   "version": "11.0.16+8-post-Ubuntu-0ubuntu120.04"
  },
  "orig_nbformat": 4
 },
 "nbformat": 4,
 "nbformat_minor": 2
}

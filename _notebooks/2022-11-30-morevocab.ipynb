{
 "cells": [
  {
   "cell_type": "markdown",
   "metadata": {},
   "source": [
    "# Vocab Code Examples\n",
    "> More vocab examples in code\n",
    "\n",
    "- title: Vocab Code Examples\n",
    "- toc: true\n",
    "- categories: [Notes]\n",
    "- permalink: /u1-u5-vocab\n",
    "- image: "
   ]
  },
  {
   "cell_type": "code",
   "execution_count": 5,
   "metadata": {
    "vscode": {
     "languageId": "java"
    }
   },
   "outputs": [
    {
     "name": "stdout",
     "output_type": "stream",
     "text": [
      "3\n",
      "13\n"
     ]
    }
   ],
   "source": [
    "double x = 2.09;\n",
    "double y = 6.52;\n",
    "\n",
    "int z = (int) (y/x);\n",
    "int aa = (int) (x*y);\n",
    "\n",
    "System.out.println(z);\n",
    "System.out.println(aa)\n",
    "\n"
   ]
  },
  {
   "cell_type": "markdown",
   "metadata": {},
   "source": [
    "- **Casting - Division** - Seen above, casting can round the division for y/x so that it returns an integer, this is to allow for certain code beyond that that would only be able to take integer values for a specific reason.\n",
    "- **Casting - Rounding/Truncating** - Seen in both examples above, casting is great for rounding a value to an integer or for another reason in order to simplify code.\n",
    "- **Wrapper Classes** - Classes that are able to make primitive types into objects to be used in things such as ArrayLists that would not allow primitives. See below for an example."
   ]
  },
  {
   "cell_type": "code",
   "execution_count": 1,
   "metadata": {
    "vscode": {
     "languageId": "java"
    }
   },
   "outputs": [
    {
     "name": "stdout",
     "output_type": "stream",
     "text": [
      "Hello World 25\n"
     ]
    }
   ],
   "source": [
    "// Wrapper classes example\n",
    "ArrayList<Integer> ton = new ArrayList<Integer>();\n",
    "// ArrayList<int> would not work for this\n",
    "\n",
    "// Concatenation example\n",
    "String a = \"Hello\";\n",
    "String b = \"World\";\n",
    "int c = 25;\n",
    "String d = a + \" \" + b + \" \" + c;\n",
    "\n",
    "System.out.println(d);"
   ]
  },
  {
   "cell_type": "markdown",
   "metadata": {},
   "source": [
    "- **Concatenation** - Concatenation involves combining two or more strings together. This is done by using the + operator. Anything that's not a string is attempted to be converted to a string in order to be concatenated on the end, like the int in this example.\n",
    "- **Static/Class Variables** - Static variables are variables that are shared across all instances of a class. This means that no matter how many objects you instantiate of the same class, modifying a static variable or method will update it for all instances. This is useful for things like a counter that you want to increment for every instance of a class.\n",
    "- **"
   ]
  },
  {
   "cell_type": "code",
   "execution_count": 3,
   "metadata": {
    "vscode": {
     "languageId": "java"
    }
   },
   "outputs": [
    {
     "name": "stdout",
     "output_type": "stream",
     "text": [
      "Add 1. Result: 1\n",
      "Add 5. Result: 6\n"
     ]
    }
   ],
   "source": [
    "public class StaticExample {\n",
    "    public static int x;\n",
    "\n",
    "    public static void main(String[] args) {\n",
    "        x += 1;\n",
    "        System.out.println(\"Add 1. Result: \" + x);\n",
    "    }\n",
    "}\n",
    "\n",
    "// Extends static example and modifies x value\n",
    "public class ExtendsExample extends StaticExample {\n",
    "    public static void main(String[] args) {\n",
    "        x += 5;\n",
    "        System.out.println(\"Add 5. Result: \" + x);\n",
    "    }\n",
    "}\n",
    "\n",
    "StaticExample se = new StaticExample();\n",
    "ExtendsExample ee = new ExtendsExample();\n",
    "\n",
    "se.main(null);\n",
    "ee.main(null);"
   ]
  }
 ],
 "metadata": {
  "kernelspec": {
   "display_name": "Java",
   "language": "java",
   "name": "java"
  },
  "language_info": {
   "codemirror_mode": "java",
   "file_extension": ".jshell",
   "mimetype": "text/x-java-source",
   "name": "Java",
   "pygments_lexer": "java",
   "version": "11.0.16+8-post-Ubuntu-0ubuntu120.04"
  },
  "orig_nbformat": 4,
  "vscode": {
   "interpreter": {
    "hash": "916dbcbb3f70747c44a77c7bcd40155683ae19c65e1c03b4aa3499c5328201f1"
   }
  }
 },
 "nbformat": 4,
 "nbformat_minor": 2
}

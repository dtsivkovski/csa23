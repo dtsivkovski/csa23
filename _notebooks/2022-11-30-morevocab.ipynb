{
 "cells": [
  {
   "cell_type": "markdown",
   "metadata": {},
   "source": [
    "# Vocab Code Examples\n",
    "> More vocab examples in code\n",
    "\n",
    "- title: Vocab Code Examples\n",
    "- toc: true\n",
    "- categories: [Notes]\n",
    "- permalink: /u1-u5-vocab\n",
    "- image: "
   ]
  },
  {
   "cell_type": "code",
   "execution_count": 5,
   "metadata": {
    "vscode": {
     "languageId": "java"
    }
   },
   "outputs": [
    {
     "name": "stdout",
     "output_type": "stream",
     "text": [
      "3\n",
      "13\n"
     ]
    }
   ],
   "source": [
    "double x = 2.09;\n",
    "double y = 6.52;\n",
    "\n",
    "int z = (int) (y/x);\n",
    "int aa = (int) (x*y);\n",
    "\n",
    "System.out.println(z);\n",
    "System.out.println(aa)\n",
    "\n"
   ]
  },
  {
   "cell_type": "markdown",
   "metadata": {},
   "source": [
    "- **Casting - Division** - Seen above, casting can round the division for y/x so that it returns an integer, this is to allow for certain code beyond that that would only be able to take integer values for a specific reason.\n",
    "- **Casting - Rounding/Truncating** - Seen in both examples above, casting is great for rounding a value to an integer or for another reason in order to simplify code.\n",
    "- **Wrapper Classes** - Classes that are able to make primitive types into objects to be used in things such as ArrayLists that would not allow primitives. See below for an example."
   ]
  },
  {
   "cell_type": "code",
   "execution_count": null,
   "metadata": {
    "vscode": {
     "languageId": "java"
    }
   },
   "outputs": [],
   "source": [
    "// Wrapper classes example\n",
    "ArrayList<Integer> ton = new ArrayList<Integer>();\n",
    "// ArrayList<int> would not work for this"
   ]
  }
 ],
 "metadata": {
  "kernelspec": {
   "display_name": "Java",
   "language": "java",
   "name": "java"
  },
  "language_info": {
   "codemirror_mode": "java",
   "file_extension": ".jshell",
   "mimetype": "text/x-java-source",
   "name": "Java",
   "pygments_lexer": "java",
   "version": "11.0.16+8-post-Ubuntu-0ubuntu120.04"
  },
  "orig_nbformat": 4,
  "vscode": {
   "interpreter": {
    "hash": "916dbcbb3f70747c44a77c7bcd40155683ae19c65e1c03b4aa3499c5328201f1"
   }
  }
 },
 "nbformat": 4,
 "nbformat_minor": 2
}

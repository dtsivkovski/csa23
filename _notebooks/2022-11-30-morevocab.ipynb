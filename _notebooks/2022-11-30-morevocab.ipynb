{
 "cells": [
  {
   "cell_type": "markdown",
   "metadata": {},
   "source": [
    "# Vocab Code Examples\n",
    "> More vocab examples in code\n",
    "\n",
    "- title: Vocab Code Examples\n",
    "- toc: true\n",
    "- categories: [Notes]\n",
    "- permalink: /u1-u5-vocab\n",
    "- image: "
   ]
  },
  {
   "cell_type": "code",
   "execution_count": 5,
   "metadata": {},
   "outputs": [
    {
     "name": "stdout",
     "output_type": "stream",
     "text": [
      "3\n",
      "13\n"
     ]
    }
   ],
   "source": [
    "double x = 2.09;\n",
    "double y = 6.52;\n",
    "\n",
    "int z = (int) (y/x);\n",
    "int aa = (int) (x*y);\n",
    "\n",
    "System.out.println(z);\n",
    "System.out.println(aa)\n",
    "\n"
   ]
  },
  {
   "cell_type": "markdown",
   "metadata": {},
   "source": [
    "- **Casting - Division** - Seen above, casting can round the division for y/x so that it returns an integer, this is to allow for certain code beyond that that would only be able to take integer values for a specific reason.\n",
    "- **Casting - Rounding/Truncating** - Seen in both examples above, casting is great for rounding a value to an integer or for another reason in order to simplify code.\n",
    "- **Wrapper Classes** - Classes that are able to make primitive types into objects to be used in things such as ArrayLists that would not allow primitives. See below for an example."
   ]
  },
  {
   "cell_type": "code",
   "execution_count": 1,
   "metadata": {},
   "outputs": [
    {
     "name": "stdout",
     "output_type": "stream",
     "text": [
      "Hello World 25\n"
     ]
    }
   ],
   "source": [
    "// Wrapper classes example\n",
    "ArrayList<Integer> ton = new ArrayList<Integer>();\n",
    "// ArrayList<int> would not work for this\n",
    "\n",
    "// Concatenation example\n",
    "String a = \"Hello\";\n",
    "String b = \"World\";\n",
    "int c = 25;\n",
    "String d = a + \" \" + b + \" \" + c;\n",
    "\n",
    "System.out.println(d);"
   ]
  },
  {
   "cell_type": "markdown",
   "metadata": {},
   "source": [
    "- **Concatenation** - Concatenation involves combining two or more strings together. This is done by using the + operator. Anything that's not a string is attempted to be converted to a string in order to be concatenated on the end, like the int in this example.\n",
    "- **Static/Class Variables** - Static variables are variables that are shared across all instances of a class. This means that no matter how many objects you instantiate of the same class, modifying a static variable or method will update it for all instances. This is useful for things like a counter that you want to increment for every instance of a class.\n",
    "- **Inheritance/Extends** - Using an extends method allows it to inherit attributes and methods from the class it is extending. This is useful when you want to modify or create a subclass of a class without having to rewrite all of the code for the class you are extending."
   ]
  },
  {
   "cell_type": "code",
   "execution_count": 6,
   "metadata": {},
   "outputs": [
    {
     "name": "stdout",
     "output_type": "stream",
     "text": [
      "Add 1. Result: 13\n",
      "Add 5. Result: 18\n",
      "\n",
      "Polymorphism Example:\n",
      "Integer: 5\n",
      "String: Hello\n",
      "Double: 5.5\n"
     ]
    }
   ],
   "source": [
    "public class StaticExample {\n",
    "\n",
    "    public static int x;\n",
    "\n",
    "    public static void main(String[] args) {\n",
    "        x += 1;\n",
    "        System.out.println(\"Add 1. Result: \" + x);\n",
    "    }\n",
    "\n",
    "}\n",
    "\n",
    "// Extends static example and modifies x value\n",
    "public class ExtendsExample extends StaticExample {\n",
    "\n",
    "    public static void main(String[] args) {\n",
    "        x += 5;\n",
    "        System.out.println(\"Add 5. Result: \" + x);\n",
    "    }\n",
    "\n",
    "}\n",
    "\n",
    "public class PolymorphismExample {\n",
    "\n",
    "\n",
    "    public void testOutput(int x) {\n",
    "        System.out.println(\"Integer: \" + x);\n",
    "    }\n",
    "\n",
    "    public void testOutput(String x) {\n",
    "        System.out.println(\"String: \" + x);\n",
    "    }\n",
    "    \n",
    "    public void testOutput(double x) {\n",
    "        System.out.println(\"Double: \" + x);\n",
    "    }\n",
    "\n",
    "}\n",
    "\n",
    "StaticExample se = new StaticExample();\n",
    "ExtendsExample ee = new ExtendsExample();\n",
    "\n",
    "se.main(null);\n",
    "ee.main(null);\n",
    "\n",
    "PolymorphismExample pe = new PolymorphismExample();\n",
    "System.out.println(\"\\nPolymorphism Example:\");\n",
    "pe.testOutput(5);\n",
    "pe.testOutput(\"Hello\");\n",
    "pe.testOutput(5.5);"
   ]
  },
  {
   "cell_type": "markdown",
   "metadata": {},
   "source": [
    "- **Polymorphism** - Polymorphism is the ability to have multiple methods with the same name but different parameters. This is useful when you want to have multiple methods that do the same thing but with different parameters. This is also useful when you want to have a method that can take multiple types of parameters.\n",
    "    - **Overloading** is when you have multiple methods with the same name but different parameters.\n",
    "    - **Overriding** is when you have a method with the same name and parameters as a method in a superclass but you want to modify the method in the subclass.\n",
    "    - **Late binding** is when you have allow the compiler to determine which method to use at runtime instead of compile time.\n",
    "**Abstract Class** - Objects cannot be created from an abstract class, they can only be extended. This is useful when you want to create a class that can be extended but not instantiated."
   ]
  },
  {
   "cell_type": "code",
   "execution_count": 8,
   "metadata": {},
   "outputs": [
    {
     "name": "stdout",
     "output_type": "stream",
     "text": [
      "The SUV has driven 80 miles\n",
      "The truck has driven 50 miles\n"
     ]
    }
   ],
   "source": [
    "abstract class Car {\n",
    "    public void distanceDriven() {\n",
    "        System.out.println(\"Car has driven 100 miles\");\n",
    "    }\n",
    "}\n",
    "\n",
    "class SUV extends Car {\n",
    "    public void distanceDriven() {\n",
    "        System.out.println(\"The SUV has driven 80 miles\");\n",
    "    }\n",
    "}\n",
    "\n",
    "class Truck extends Car {\n",
    "    public void distanceDriven() {\n",
    "        System.out.println(\"The truck has driven 50 miles\");\n",
    "    }\n",
    "}\n",
    "\n",
    "// Instantiating the Car class would throw an error as it is abstract\n",
    "SUV suv = new SUV();\n",
    "Truck truck = new Truck();\n",
    "suv.distanceDriven();\n",
    "truck.distanceDriven();\n",
    "\n"
   ]
  },
  {
   "cell_type": "markdown",
   "metadata": {},
   "source": [
    "- **Subclass Constructor / Super** - Extending a class and then constructing the new extends class will call the constructor of the superclass. This is useful when you want to have a constructor that will call the constructor of the superclass.\n",
    "- **Referencing Superclass** - Using the super keyword allows you to reference the superclass of the current class. This is useful when you want to reference the superclass of the current class."
   ]
  },
  {
   "cell_type": "code",
   "execution_count": 12,
   "metadata": {},
   "outputs": [
    {
     "name": "stdout",
     "output_type": "stream",
     "text": [
      "This is a method from AClass\n",
      "This is a method from AClass\n"
     ]
    }
   ],
   "source": [
    "public class AClass {\n",
    "    public void aMethod() {\n",
    "        System.out.println(\"This is a method from AClass\");\n",
    "    }\n",
    "}\n",
    "\n",
    "public class BClass extends AClass {\n",
    "    public void bMethod() {\n",
    "        super.aMethod();\n",
    "    }\n",
    "}\n",
    "\n",
    "// Constructing a BClass object will call the constructor of the AClass object\n",
    "BClass bc = new BClass();\n",
    "bc.bMethod();\n",
    "\n",
    "// Referencing superclass method\n",
    "AClass ac = new BClass();\n",
    "ac.aMethod();"
   ]
  },
  {
   "cell_type": "markdown",
   "metadata": {},
   "source": [
    "- **Standard Methods** - ToString is a standard method that is used to convert an object into a string. Equals is useful for comparing two objects to see if they are equal. HashCode is useful for getting a unique hash code for an object. \n",
    "- **Big O Notation** - Implementing Big O notation is useful for determining the efficiency of an algorithm. Making algorithms more efficient is useful for making programs compile and run faster and likely reduce the load of it, which could be especially good for websites where users may be runnning the same function through an api many times."
   ]
  }
 ],
 "metadata": {
  "kernelspec": {
   "display_name": "Java",
   "language": "java",
   "name": "java"
  },
  "language_info": {
   "codemirror_mode": "java",
   "file_extension": ".jshell",
   "mimetype": "text/x-java-source",
   "name": "java",
   "pygments_lexer": "java",
   "version": "11.0.16+8-post-Ubuntu-0ubuntu120.04"
  },
  "orig_nbformat": 4,
  "vscode": {
   "interpreter": {
    "hash": "916dbcbb3f70747c44a77c7bcd40155683ae19c65e1c03b4aa3499c5328201f1"
   }
  }
 },
 "nbformat": 4,
 "nbformat_minor": 2
}

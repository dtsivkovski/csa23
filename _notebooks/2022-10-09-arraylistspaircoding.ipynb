{
 "cells": [
  {
   "cell_type": "markdown",
   "metadata": {},
   "source": [
    "# Array Lists Pair Coding\n",
    "> Working on array lists\n",
    "\n",
    "- title: Array Lists \n",
    "- toc: true\n",
    "- categories: [Notes]\n",
    "- permalink: /week7/arraylists\n",
    "- image: https://upload.wikimedia.org/wikipedia/commons/thumb/a/af/Pair_programming_1.jpg/220px-Pair_programming_1.jpg"
   ]
  },
  {
   "cell_type": "code",
   "execution_count": null,
   "metadata": {},
   "outputs": [
    {
     "ename": "",
     "evalue": "",
     "output_type": "error",
     "traceback": [
      "\u001b[1;31mRunning cells with 'Python 3.9.13 64-bit (microsoft store)' requires ipykernel package.\n",
      "\u001b[1;31mRun the following command to install 'ipykernel' into the Python environment. \n",
      "\u001b[1;31mCommand: 'c:/Users/dtsiv/AppData/Local/Microsoft/WindowsApps/python3.9.exe -m pip install ipykernel -U --force-reinstall'"
     ]
    }
   ],
   "source": [
    "// Daniel\n",
    "import java.util.ArrayList;\n",
    "\n",
    "public class SongList {\n",
    "    ArrayList<String> songs = new ArrayList<String>();\n",
    "\n",
    "    public static void main(String[] args) {\n",
    "        songs.add(\"House of the Rising Sun\");\n",
    "        songs.add(\"Viva la Vida\");\n",
    "        songs.add(\"Forget You\");\n",
    "        System.out.println(songs);\n",
    "    }\n",
    "\n",
    "\n",
    "}\n",
    "\n",
    "SongList.main(null);"
   ]
  },
  {
   "cell_type": "code",
   "execution_count": null,
   "metadata": {},
   "outputs": [
    {
     "ename": "",
     "evalue": "",
     "output_type": "error",
     "traceback": [
      "\u001b[1;31mRunning cells with 'Python 3.9.13 64-bit (microsoft store)' requires ipykernel package.\n",
      "\u001b[1;31mRun the following command to install 'ipykernel' into the Python environment. \n",
      "\u001b[1;31mCommand: 'c:/Users/dtsiv/AppData/Local/Microsoft/WindowsApps/python3.9.exe -m pip install ipykernel -U --force-reinstall'"
     ]
    }
   ],
   "source": [
    "// Everitt"
   ]
  }
 ],
 "metadata": {
  "kernelspec": {
   "display_name": "Python 3.9.13 64-bit (microsoft store)",
   "language": "python",
   "name": "python3"
  },
  "language_info": {
   "name": "python",
   "version": "3.9.13"
  },
  "orig_nbformat": 4,
  "vscode": {
   "interpreter": {
    "hash": "d567124bc614df8aa5d364ff376f951e12362324c789679215a83a0baacc5307"
   }
  }
 },
 "nbformat": 4,
 "nbformat_minor": 2
}

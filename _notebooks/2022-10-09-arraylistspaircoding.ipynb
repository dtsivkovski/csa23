{
 "cells": [
  {
   "cell_type": "markdown",
   "metadata": {},
   "source": [
    "# Array Lists Pair Coding\n",
    "> Working on array lists\n",
    "\n",
    "- title: Array Lists \n",
    "- toc: true\n",
    "- categories: [Notes]\n",
    "- permalink: /week6/arraylists\n",
    "- image: https://upload.wikimedia.org/wikipedia/commons/thumb/a/af/Pair_programming_1.jpg/220px-Pair_programming_1.jpg"
   ]
  }
 ],
 "metadata": {
  "kernelspec": {
   "display_name": "Java",
   "language": "java",
   "name": "java"
  },
  "language_info": {
   "name": "java",
   "version": "3.8.10"
  },
  "orig_nbformat": 4,
  "vscode": {
   "interpreter": {
    "hash": "916dbcbb3f70747c44a77c7bcd40155683ae19c65e1c03b4aa3499c5328201f1"
   }
  }
 },
 "nbformat": 4,
 "nbformat_minor": 2
}

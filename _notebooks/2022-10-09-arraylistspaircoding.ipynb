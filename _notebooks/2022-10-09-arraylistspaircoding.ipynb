{
 "cells": [
  {
   "cell_type": "markdown",
   "metadata": {},
   "source": [
    "# Array Lists Pair Coding\n",
    "> Working on array lists\n",
    "\n",
    "- title: Array Lists \n",
    "- toc: true\n",
    "- categories: [Notes]\n",
    "- permalink: /week7/arraylists\n",
    "- image: https://upload.wikimedia.org/wikipedia/commons/thumb/a/af/Pair_programming_1.jpg/220px-Pair_programming_1.jpg"
   ]
  },
  {
   "cell_type": "code",
   "execution_count": 15,
   "metadata": {
    "vscode": {
     "languageId": "java"
    }
   },
   "outputs": [
    {
     "name": "stdout",
     "output_type": "stream",
     "text": [
      "[House of the Rising Sun, Viva la Vida, Forget You]\n"
     ]
    }
   ],
   "source": [
    "// Daniel\n",
    "import java.util.ArrayList;\n",
    "\n",
    "public class SongList {\n",
    "\n",
    "    public static void main(String[] args) {\n",
    "        testing(null);\n",
    "    }\n",
    "\n",
    "    public static void testing(String[] args) {\n",
    "        ArrayList<String> songs = new ArrayList<String>();\n",
    "        // ArrayList<String> inSongs = new ArrayList<String>(){\"Fancy\", \"Party in the USA\", \"Lost in Paris\"};\n",
    "\n",
    "        songs.add(\"House of the Rising Sun\");\n",
    "        songs.add(\"Viva la Vida\");\n",
    "        songs.add(\"Forget You\");\n",
    "        System.out.println(songs);\n",
    "        // songs.addAll(inSongs);\n",
    "    }\n",
    "\n",
    "\n",
    "}\n",
    "\n",
    "SongList.main(null);"
   ]
  },
  {
   "cell_type": "code",
   "execution_count": null,
   "metadata": {
    "vscode": {
     "languageId": "java"
    }
   },
   "outputs": [
    {
     "ename": "",
     "evalue": "",
     "output_type": "error",
     "traceback": [
      "\u001b[1;31mRunning cells with 'Python 3.9.13 64-bit (microsoft store)' requires ipykernel package.\n",
      "\u001b[1;31mRun the following command to install 'ipykernel' into the Python environment. \n",
      "\u001b[1;31mCommand: 'c:/Users/dtsiv/AppData/Local/Microsoft/WindowsApps/python3.9.exe -m pip install ipykernel -U --force-reinstall'"
     ]
    }
   ],
   "source": [
    "// Everitt"
   ]
  }
 ],
 "metadata": {
  "kernelspec": {
   "display_name": "Java",
   "language": "java",
   "name": "java"
  },
  "language_info": {
   "codemirror_mode": "java",
   "file_extension": ".jshell",
   "mimetype": "text/x-java-source",
   "name": "Java",
   "pygments_lexer": "java",
   "version": "11.0.16+8-post-Ubuntu-0ubuntu120.04"
  },
  "orig_nbformat": 4,
  "vscode": {
   "interpreter": {
    "hash": "d567124bc614df8aa5d364ff376f951e12362324c789679215a83a0baacc5307"
   }
  }
 },
 "nbformat": 4,
 "nbformat_minor": 2
}

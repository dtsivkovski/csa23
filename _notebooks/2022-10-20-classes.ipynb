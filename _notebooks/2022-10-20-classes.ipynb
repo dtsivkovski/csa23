{
 "cells": [
  {
   "cell_type": "markdown",
   "metadata": {},
   "source": [
    "# Classes Lesson\n",
    "> FRQ Hacks from the presentaiton\n",
    "\n",
    "- title: Lesson hacks for classes\n",
    "- toc: true\n",
    "- categories: [Notes]\n",
    "- permalink: /week9/classes\n",
    "- image: "
   ]
  },
  {
   "cell_type": "code",
   "execution_count": 1,
   "metadata": {},
   "outputs": [
    {
     "name": "stdout",
     "output_type": "stream",
     "text": [
      "i = 4\n",
      "iss = 18\n",
      "issipp = 36\n",
      "mississippi = 121\n",
      "a = 4\n",
      "aa = 12\n",
      "aaa = 18\n",
      "aabb = 16\n",
      "c = 0\n"
     ]
    }
   ],
   "source": [
    "// 2021 FRQ 1a\n",
    "public class WordMatch {\n",
    "    String secret;\n",
    "\n",
    "    public WordMatch(String secret) {\n",
    "        this.secret = secret;\n",
    "    }\n",
    "\n",
    "    public void scoreGuess(String guess) {\n",
    "        int counter = 0;\n",
    "\n",
    "        // for loop for first substring index\n",
    "        for (int i = 0; i < this.secret.length(); i++){\n",
    "            // loop for second substring index\n",
    "            for (int j = i + 1; j < this.secret.length() + 1; j++) {\n",
    "                // if statement\n",
    "                if (guess.equals(this.secret.substring(i,j))) {\n",
    "                    counter++;\n",
    "                }\n",
    "            }\n",
    "        }\n",
    "\n",
    "        // Returning a point value\n",
    "        int points = counter * guess.length() * guess.length();\n",
    "        System.out.println(\"\" + guess + \" = \" + points);\n",
    "        // return points;\n",
    "    }\n",
    "}\n",
    "\n",
    "WordMatch game = new WordMatch(\"mississippi\");\n",
    "game.scoreGuess(\"i\"); game.scoreGuess(\"iss\"); game.scoreGuess(\"issipp\"); game.scoreGuess(\"mississippi\");\n",
    "\n",
    "WordMatch game = new WordMatch(\"aaaabb\");\n",
    "game.scoreGuess(\"a\"); game.scoreGuess(\"aa\"); game.scoreGuess(\"aaa\"); game.scoreGuess(\"aabb\"); game.scoreGuess(\"c\"); "
   ]
  },
  {
   "cell_type": "code",
   "execution_count": null,
   "metadata": {},
   "outputs": [],
   "source": [
    "// 2021 FRQ 3a\n",
    "public class ClubMembers {\n",
    "    private ArrayList<MemberInfo> memberList;\n",
    "\n",
    "    public void addMembers(String[] names, int gradYear) {\n",
    "        for(String name : names) {\n",
    "            memberList.add(new MemberInfo(name, gradYear, true));\n",
    "        }\n",
    "    }\n",
    "}\n",
    "// NOTE: This can't be run without having the other class and methods "
   ]
  },
  {
   "cell_type": "markdown",
   "metadata": {},
   "source": [
    "### Vocab in this unit\n",
    "- **Enhanced For Loop** - A for loop that iterates through something and automatically gives the value of the element withing its loop without having to use the index. Used in the syntax ```for (type var : array)```.\n",
    "- **Standard for loop** - A for loop that iterates through something and gives the index of the element within its loop. Used in the syntax ```for (int i = 0; i < array.length; i++)```."
   ]
  }
 ],
 "metadata": {
  "kernelspec": {
   "display_name": "Java",
   "language": "java",
   "name": "java"
  },
  "language_info": {
   "codemirror_mode": "java",
   "file_extension": ".jshell",
   "mimetype": "text/x-java-source",
   "name": "java",
   "pygments_lexer": "java",
   "version": "11.0.16+8-post-Ubuntu-0ubuntu120.04"
  },
  "orig_nbformat": 4,
  "vscode": {
   "interpreter": {
    "hash": "916dbcbb3f70747c44a77c7bcd40155683ae19c65e1c03b4aa3499c5328201f1"
   }
  }
 },
 "nbformat": 4,
 "nbformat_minor": 2
}

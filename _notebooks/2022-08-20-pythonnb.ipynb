{
 "cells": [
  {
   "cell_type": "markdown",
   "metadata": {},
   "source": [
    "# Python Notebook Test\n",
    "> Testing the Jupyter notebook with Python\n",
    "\n",
    "- toc: false\n",
    "- badges: true\n",
    "- comments: true\n",
    "- categories: [APCSA]"
   ]
  },
  {
   "cell_type": "markdown",
   "metadata": {},
   "source": [
    "This python code is from my previous CSP tri3 menu project. If it works correctly, it should correctly analyze these palindromes and filter out any irrelevant characters."
   ]
  },
  {
   "cell_type": "code",
   "execution_count": 1,
   "metadata": {},
   "outputs": [
    {
     "name": "stdout",
     "output_type": "stream",
     "text": [
      "\n",
      "============================================= \n",
      "String:  racecar \n",
      " --------------------------------------------\n",
      "'racecar' is a palindrome!\n",
      "============================================= \n",
      "String:  rACe_cA--R \n",
      " --------------------------------------------\n",
      "'rACe_cA--R' is a palindrome!\n",
      "============================================= \n",
      "String:  racing car \n",
      " --------------------------------------------\n",
      "'racing car' is not a palindrome at position 3 because i != g\n",
      "============================================= \n",
      "String:  A man, a plan, a canal -- Panama! \n",
      " --------------------------------------------\n",
      "'A man, a plan, a canal -- Panama!' is a palindrome!\n",
      "\n"
     ]
    }
   ],
   "source": [
    "\n",
    "class Palindrome:\n",
    "  def __init__(self):\n",
    "        self.filtered = \"\"\n",
    "        self.paliBool = True\n",
    "\n",
    "  def __call__(self, n):\n",
    "    self.filtered = \"\"\n",
    "    self.paliBool = True\n",
    "    # Filters the string for letters only and appends them to the filtered string\n",
    "    for i in n:\n",
    "      if i.isalpha():\n",
    "        self.filtered += i\n",
    "    # For loop for palindrome finding\n",
    "    \n",
    "    print(\"=\"*45, \"\\nString: \", n,\"\\n\" , '-'*44)\n",
    "    for i in range(0, int(len(self.filtered)/2)):\n",
    "      \n",
    "      # Sets a to the lowercase of the letter that is i position in the string\n",
    "      a = self.filtered[i].lower()\n",
    "      # Sets b to the lowercase of the letter that is i amount starting from the end of the string\n",
    "      b = self.filtered[(len(self.filtered) - i - 1)].lower()\n",
    "      if a != b:\n",
    "        # Breakpoint if the letters do not match to state it is not a palindrome\n",
    "        self.paliBool = False\n",
    "        print(\"'\" + n + \"'\", \"is not a palindrome at position \" + str(i) +  \" because\", a, \"!=\", b)\n",
    "        break\n",
    "    # Print statement if the word is a palindrome (boolean stayed true)\n",
    "    if self.paliBool:\n",
    "      print(\"'\" + n + \"'\", \"is a palindrome!\")\n",
    "    \n",
    "\n",
    "def pali_tester():\n",
    "  pali = Palindrome()\n",
    "  print(\"\")\n",
    "  # racecar tester, should output true\n",
    "  pali(\"racecar\")\n",
    "  # test for case and symbol sensitivity, should output true\n",
    "  pali(\"rACe_cA--R\")\n",
    "  # not a palindrome, should be false\n",
    "  pali(\"racing car\")\n",
    "  # another test for space/symbol/case sensitivity, should be true\n",
    "  pali(\"A man, a plan, a canal -- Panama!\")\n",
    "  print(\"\")\n",
    "\n",
    "pali_tester()"
   ]
  }
 ],
 "metadata": {
  "kernelspec": {
   "display_name": "Python 3.8.10 64-bit",
   "language": "python",
   "name": "python3"
  },
  "language_info": {
   "codemirror_mode": {
    "name": "ipython",
    "version": 3
   },
   "file_extension": ".py",
   "mimetype": "text/x-python",
   "name": "python",
   "nbconvert_exporter": "python",
   "pygments_lexer": "ipython3",
   "version": "3.8.10"
  },
  "varInspector": {
   "cols": {
    "lenName": 16,
    "lenType": 16,
    "lenVar": 40
   },
   "kernels_config": {
    "python": {
     "delete_cmd_postfix": "",
     "delete_cmd_prefix": "del ",
     "library": "var_list.py",
     "varRefreshCmd": "print(var_dic_list())"
    },
    "r": {
     "delete_cmd_postfix": ") ",
     "delete_cmd_prefix": "rm(",
     "library": "var_list.r",
     "varRefreshCmd": "cat(var_dic_list()) "
    }
   },
   "types_to_exclude": [
    "module",
    "function",
    "builtin_function_or_method",
    "instance",
    "_Feature"
   ],
   "window_display": false
  },
  "vscode": {
   "interpreter": {
    "hash": "916dbcbb3f70747c44a77c7bcd40155683ae19c65e1c03b4aa3499c5328201f1"
   }
  }
 },
 "nbformat": 4,
 "nbformat_minor": 4
}

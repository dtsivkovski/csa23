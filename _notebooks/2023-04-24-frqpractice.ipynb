{
 "cells": [
  {
   "attachments": {},
   "cell_type": "markdown",
   "metadata": {},
   "source": [
    "# CB FRQ Practice\n",
    "\n",
    "> FRQ Practice\n",
    "\n",
    "- title: Collegeboard FRQ Practice\n",
    "- toc: true\n",
    "- categories: [Notes]\n",
    "- permalink: /cb/frqpractice"
   ]
  },
  {
   "attachments": {},
   "cell_type": "markdown",
   "metadata": {},
   "source": [
    "## 2020 #2"
   ]
  },
  {
   "cell_type": "code",
   "execution_count": null,
   "metadata": {},
   "outputs": [],
   "source": [
    "class GameSpinner {\n",
    "    private int sectors;\n",
    "    private int runLength;\n",
    "    private int lastSpin;\n",
    "\n",
    "    public GameSpinner(int sectors) {\n",
    "        this.sectors = sectors;\n",
    "        this.runLength = 0;\n",
    "    }\n",
    "\n",
    "    public int spin() {\n",
    "        int spin = (int) (Math.random() * 4);\n",
    "\n",
    "        // increment runlength if same value as last time\n",
    "        if (this.lastSpin == spin) {\n",
    "            runLength++;\n",
    "        }\n",
    "        else {\n",
    "            runlength = 1;\n",
    "        }\n",
    "\n",
    "        // set last spin to new value\n",
    "        this.lastSpin = spin;\n",
    "\n",
    "        return spin;\n",
    "    }\n",
    "\n",
    "    public int currentRun() {\n",
    "        return runLength;\n",
    "    }\n",
    "}"
   ]
  },
  {
   "attachments": {},
   "cell_type": "markdown",
   "metadata": {},
   "source": [
    "## 2020 #3"
   ]
  },
  {
   "cell_type": "code",
   "execution_count": null,
   "metadata": {},
   "outputs": [],
   "source": [
    "public void addReview(ProductReview prodReview) {\n",
    "    \n",
    "}"
   ]
  }
 ],
 "metadata": {
  "kernelspec": {
   "display_name": "Java",
   "language": "java",
   "name": "java"
  },
  "language_info": {
   "name": "java"
  },
  "orig_nbformat": 4
 },
 "nbformat": 4,
 "nbformat_minor": 2
}

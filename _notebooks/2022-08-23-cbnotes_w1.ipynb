{
 "cells": [
  {
   "cell_type": "markdown",
   "metadata": {},
   "source": [
    "# Week 1 TT Notes\n",
    "\n",
    "- toc: true\n",
    "- badges: true\n",
    "- comments: true\n",
    "- categories: [Notes]"
   ]
  },
  {
   "cell_type": "markdown",
   "metadata": {},
   "source": [
    "## Weakly vs Strongly Type\n",
    "Python is weakly, java is strongly\n",
    "\n",
    "### Variable Types\n",
    "- Python - type of variable is automatically defined\n",
    "- Java - type of variable needs to be manually defined\n",
    "\n",
    "### Java vs JavaC\n",
    "- Python run - automatically runs, compiles it on the fly\n",
    "- Java run - javac compiles the code and changes into byte code and then runs \n",
    "- 1's and 0's so types have prefixes to enable interpreter to understand"
   ]
  },
  {
   "cell_type": "markdown",
   "metadata": {},
   "source": [
    "## Primitive vs Wrapper\n",
    "\n",
    "- Primitives lowercase vs wrappers uppercase\n",
    "- Wrapper class has methods, built-in code that can do certain actions\n",
    "- Everything in Java is OOP except for primitives"
   ]
  },
  {
   "cell_type": "markdown",
   "metadata": {},
   "source": [
    "## Running the code\n",
    "\n",
    "### DefinePrimitives class\n",
    "\n",
    "- Uses concatenation to combine name of different variables with their value\n",
    "- If left variable is a string, everything else becomes a string\n",
    "- Different types have different types of values.\n",
    "- All are primitive\n",
    "\n",
    "### PrimitivesScanner class\n",
    "\n",
    "- Identifies the type of integer and asks for the right one\n",
    "- If wrong type is entered, it returns a statement that says the value entered is not that type\n",
    "\n",
    "### PrimitiveDivision class\n",
    "- Shows how there are many ways to write outputs to create the same thing\n",
    "\n",
    "### GradeCalculator class\n",
    "- Takes inputs for doubles to get certain number of grades\n",
    "- Averages those inputs"
   ]
  },
  {
   "cell_type": "markdown",
   "metadata": {},
   "source": [
    "# Hacks\n",
    "\n",
    "## Data Types"
   ]
  },
  {
   "cell_type": "code",
   "execution_count": 10,
   "metadata": {},
   "outputs": [
    {
     "name": "stdout",
     "output_type": "stream",
     "text": [
      "Enter an integer: \n",
      "Enter another integer to add: \n",
      "The sum of 15 and 4 is: 19\n",
      "=======\n",
      "Enter a double: \n",
      "Enter another double: \n",
      "The product of 15.0 and 4.0 is: 60.0\n",
      "=======\n",
      "Enter a boolean: \n",
      "Enter another boolean: \n",
      "Since the second boolean is false, the AND gate returns FALSE\n",
      "=======\n",
      "Enter a String: \n",
      "Enter another String: \n",
      "Combined String: Hi Mr. M! I am testing combining two Strings into one.\n"
     ]
    }
   ],
   "source": [
    "// Using primitive data types\n",
    "import java.util.Scanner;\n",
    "\n",
    "\n",
    "public class WorkWithPrimitives {\n",
    "    public static void main(String[] args) {    \n",
    "        Scanner input;\n",
    "\n",
    "        // Takes in two integers and adds them together\n",
    "        input = new Scanner(System.in);\n",
    "        try {\n",
    "            // Taking two integers\n",
    "            System.out.println(\"Enter an integer: \");\n",
    "            int sampleInputInt = input.nextInt();\n",
    "            System.out.println(\"Enter another integer to add: \");\n",
    "            int secondInputInt = input.nextInt();\n",
    "            // Adding two integers \n",
    "            int addedOutput = sampleInputInt + secondInputInt;\n",
    "            System.out.println(\"The sum of \" + sampleInputInt + \" and \" + secondInputInt + \" is: \" + addedOutput);\n",
    "        } catch (Exception e) {  // if one of the variables is not an int\n",
    "            System.out.println(\"One of your variables was not an integer (form like 159), \" + e);\n",
    "        }\n",
    "        input.close();\n",
    "\n",
    "        System.out.println(\"=======\");\n",
    "\n",
    "        // Takes in two primitive doubles and multiplies them together\n",
    "        input = new Scanner(System.in);\n",
    "        try {\n",
    "            // Taking the two doubles as input\n",
    "            System.out.println(\"Enter a double: \");\n",
    "            double sampleInputDouble = input.nextDouble();\n",
    "            System.out.println(\"Enter another double: \");\n",
    "            double secondInputDouble = input.nextDouble();\n",
    "            // Multiplying the two doubles with a double as an output using casting\n",
    "            System.out.println(\"The product of \" + sampleInputDouble + \" and \" + secondInputDouble + \" is: \" + (double) sampleInputDouble * secondInputDouble);\n",
    "            //System.out.println(sampleInputDouble);\n",
    "        } catch (Exception e) {  // if a variable is not a double\n",
    "            System.out.println(\"One of your variables was not a double (form like 9.99), \" + e);\n",
    "        }\n",
    "        input.close();\n",
    "\n",
    "        System.out.println(\"=======\");\n",
    "\n",
    "        // Using an AND gate\n",
    "        input =  new Scanner(System.in);\n",
    "        try {\n",
    "            // Takes two boolean inputs\n",
    "            System.out.println(\"Enter a boolean: \");\n",
    "            boolean sampleInputBoolean = input.nextBoolean(); \n",
    "            System.out.println(\"Enter another boolean: \");\n",
    "            boolean secondInputBoolean = input.nextBoolean(); \n",
    "\n",
    "            // An AND gate comparing both booleans\n",
    "            if (sampleInputBoolean) {\n",
    "                if (secondInputBoolean) {\n",
    "                    // TRUE\n",
    "                    System.out.println(\"Since both booleans are true, the AND gate returns TRUE\");\n",
    "                }\n",
    "                else {\n",
    "                    // FALSE\n",
    "                    System.out.println(\"Since the second boolean is false, the AND gate returns FALSE\");\n",
    "                }\n",
    "            }\n",
    "            else {\n",
    "                // FALSE\n",
    "                System.out.println(\"Since the first boolean is false, the AND gate returns FALSE\");\n",
    "            }\n",
    "            \n",
    "        } catch (Exception e) {  // if not true or false\n",
    "            System.out.println(\"One of these is not a boolean (true or false), \" + e);\n",
    "        }\n",
    "        input.close();\n",
    "\n",
    "        System.out.println(\"=======\");\n",
    "\n",
    "        // wrapper class String\n",
    "        System.out.println(\"Enter a String: \");\n",
    "        input =  new Scanner(System.in);\n",
    "        try {\n",
    "            // Takes two String inputs\n",
    "            String sampleInputString = input.nextLine();\n",
    "            System.out.println(\"Enter another String: \");\n",
    "            String secondInputString = input.nextLine();\n",
    "            //Using compound assignment operator\n",
    "            sampleInputString += secondInputString;\n",
    "            // Prints combined String\n",
    "            System.out.println(\"Combined String: \" + sampleInputString);\n",
    "        } catch (Exception e) { // if not a String\n",
    "            System.out.println(\"Not an String, \" + e);\n",
    "        }\n",
    "        input.close();\n",
    "    }\n",
    "}\n",
    "WorkWithPrimitives.main(null);"
   ]
  },
  {
   "cell_type": "markdown",
   "metadata": {},
   "source": [
    "## Code.org problem tester\n",
    "\n",
    "> Trying to figure out how the code does this math problem"
   ]
  },
  {
   "cell_type": "code",
   "execution_count": 7,
   "metadata": {},
   "outputs": [
    {
     "name": "stdout",
     "output_type": "stream",
     "text": [
      "15/b results in an integer value therefore result for that segment rounds to 1\n",
      "Therefore, the rest is 2 * 3 - 1 + 2.5 which gives 7.5.\n",
      "-------------\n",
      "Result: 7.5\n"
     ]
    }
   ],
   "source": [
    "int a = 3;\n",
    "int b = 10;\n",
    "double c = 2.5;\n",
    "c = 2 * a - 15 / b + c;\n",
    "\n",
    "System.out.println(\"15/b results in an integer value therefore result for that segment rounds to 1\");\n",
    "System.out.println(\"Therefore, the rest is 2 * 3 - 1 + 2.5 which gives 7.5.\");\n",
    "System.out.println(\"-------------\");\n",
    "// \n",
    "\n",
    "\n",
    "System.out.println(\"Result: \" + c);"
   ]
  },
  {
   "cell_type": "markdown",
   "metadata": {},
   "source": [
    "## Centimeeters to Miles Converter"
   ]
  },
  {
   "cell_type": "code",
   "execution_count": 14,
   "metadata": {},
   "outputs": [
    {
     "name": "stdout",
     "output_type": "stream",
     "text": [
      "Enter a double value: \n",
      "The conversion of 600975.0 cm in miles is: 3.7342948040811765\n",
      "-------\n",
      "Enter a double value: \n",
      "The conversion of 23.0 cm in miles is: 1.4291572942945555E-4\n"
     ]
    }
   ],
   "source": [
    "import java.util.*;\n",
    "\n",
    "public class main{\n",
    "    public static double converter(double input) {\n",
    "        double meters = input / 100.0;\n",
    "        double miles = meters / 1609.34;\n",
    "        return miles;\n",
    "    }\n",
    "\n",
    "    public static void main(String[] args){\n",
    "        Scanner input = new Scanner(System.in);\n",
    "\n",
    "        System.out.println(\"Enter a double value: \");\n",
    "        double value = input.nextDouble();\n",
    "        System.out.println(\"The conversion of \" + value + \" cm in miles is: \" + converter(value));\n",
    "        \n",
    "    }\n",
    "}\n",
    "\n",
    "main.main(null);\n",
    "System.out.println(\"-------\");\n",
    "main.main(null);"
   ]
  }
 ],
 "metadata": {
  "kernelspec": {
   "display_name": "Java",
   "language": "java",
   "name": "java"
  },
  "language_info": {
   "codemirror_mode": "java",
   "file_extension": ".jshell",
   "mimetype": "text/x-java-source",
   "name": "java",
   "pygments_lexer": "java",
   "version": "11.0.16+8-post-Ubuntu-0ubuntu120.04"
  },
  "orig_nbformat": 4,
  "vscode": {
   "interpreter": {
    "hash": "916dbcbb3f70747c44a77c7bcd40155683ae19c65e1c03b4aa3499c5328201f1"
   }
  }
 },
 "nbformat": 4,
 "nbformat_minor": 2
}

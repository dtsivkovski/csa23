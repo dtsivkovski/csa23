{
 "cells": [
  {
   "cell_type": "markdown",
   "metadata": {},
   "source": [
    "# Week 1 TT Notes\n",
    "\n",
    "- toc: true\n",
    "- badges: true\n",
    "- comments: true\n",
    "- categories: [Notes]"
   ]
  },
  {
   "cell_type": "markdown",
   "metadata": {},
   "source": [
    "## Weakly vs Strongly Type\n",
    "Python is weakly, java is strongly\n",
    "\n",
    "### Variable Types\n",
    "- Python - type of variable is automatically defined\n",
    "- Java - type of variable needs to be manually defined\n",
    "\n",
    "### Java vs JavaC\n",
    "- Python run - automatically runs, compiles it on the fly\n",
    "- Java run - javac compiles the code and changes into byte code and then runs \n",
    "- 1's and 0's so types have prefixes to enable interpreter to understand"
   ]
  },
  {
   "cell_type": "markdown",
   "metadata": {},
   "source": [
    "## Primitive vs Wrapper\n",
    "\n",
    "- Primitives lowercase vs wrappers uppercase\n",
    "- Wrapper class has methods, built-in code that can do certain actions\n",
    "- Everything in Java is OOP except for primitives"
   ]
  },
  {
   "cell_type": "markdown",
   "metadata": {},
   "source": [
    "## Running the code\n",
    "\n",
    "### DefinePrimitives class\n",
    "\n",
    "- Uses concatenation to combine name of different variables with their value\n",
    "- If left variable is a string, everything else becomes a string\n",
    "- Different types have different types of values.\n",
    "- All are primitive\n",
    "\n",
    "### PrimitivesScanner class\n",
    "\n",
    "- Identifies the type of integer and asks for the right one\n",
    "- If wrong type is entered, it returns a statement that says the value entered is not that type\n",
    "\n",
    "### PrimitiveDivision class\n",
    "- Shows how there are many ways to write outputs to create the same thing\n",
    "\n",
    "### GradeCalculator class\n",
    "- Takes inputs for doubles to get certain number of grades\n",
    "- Averages those inputs"
   ]
  }
 ],
 "metadata": {
  "kernelspec": {
   "display_name": "Python 3.8.10 64-bit",
   "language": "python",
   "name": "python3"
  },
  "language_info": {
   "name": "python",
   "version": "3.8.10"
  },
  "orig_nbformat": 4,
  "vscode": {
   "interpreter": {
    "hash": "916dbcbb3f70747c44a77c7bcd40155683ae19c65e1c03b4aa3499c5328201f1"
   }
  }
 },
 "nbformat": 4,
 "nbformat_minor": 2
}

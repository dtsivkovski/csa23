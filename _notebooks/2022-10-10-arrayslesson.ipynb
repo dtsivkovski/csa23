{
 "cells": [
  {
   "cell_type": "markdown",
   "metadata": {},
   "source": [
    "# Arrays Lesson\n",
    "> Expanding knowledge about arrays\n",
    "\n",
    "- title: Arrays Lesson\n",
    "- toc: true\n",
    "- categories: [Notes]\n",
    "- permalink: /week10/arraylesson\n",
    "- image: https://news.yale.edu/sites/default/files/styles/horizontal_image/public/d6_files/Solar1.jpg?itok=KusGgsqM"
   ]
  },
  {
   "cell_type": "markdown",
   "metadata": {},
   "source": [
    "### Lesson Purpose and Objectives\n",
    "- Understand how arrays work and how to use them\n",
    "- Understand advantages and disadvantages in Java"
   ]
  },
  {
   "cell_type": "markdown",
   "metadata": {},
   "source": [
    "### AP Classroom Requirements\n",
    "- **3.D** - Write program code to create, traverse, and manipulate elements in 1D array or ArrayList objects.\n",
    "- **6.1** - Array Creation and Access\n",
    "- **6.2** - Traversing Arrays\n",
    "- **6.3** - Enhanced ```for``` Loop for Arrays\n",
    "- **6.4** - Developing Algorithms Using Arrays"
   ]
  },
  {
   "cell_type": "markdown",
   "metadata": {},
   "source": [
    "## Hacks / Homework\n",
    "\n",
    "Write an array called ```ArraySort``` that loops through an array and then gives a new, sorted array. You may use the template given below or write your own class\n",
    "\n",
    "**NO USING THE PREDEFINED SORT METHOD**\n",
    "\n",
    "- Minimum Requirements:\n",
    "    - Do this using a fixed 10-integer array that outputs a sorted 10-integer array\n",
    "    - There must be a method that takes an array as input and sorts it.\n",
    "- Bonus points if you have one or more of the following:\n",
    "    - Able to take any array of any length as an input and output a sorted array with that same length\n",
    "    - Another method (or even a class) that is capable of taking a String[] and giving a sorted String[] as output\n",
    "    - Try making it be an object that has the following attributes: Original array, sorted array (automatically sorted on init), length/size"
   ]
  },
  {
   "cell_type": "code",
   "execution_count": 1,
   "metadata": {},
   "outputs": [],
   "source": [
    "public class ArraySort {\n",
    "\n",
    "}\n",
    "\n",
    "int[] arrA = {7,3,76,42,99,23,4,6,65,74};\n",
    "int[] arrB = {88,43,52,1,2,96,33,5,9,37};"
   ]
  }
 ],
 "metadata": {
  "kernelspec": {
   "display_name": "Java",
   "language": "java",
   "name": "java"
  },
  "language_info": {
   "codemirror_mode": "java",
   "file_extension": ".jshell",
   "mimetype": "text/x-java-source",
   "name": "java",
   "pygments_lexer": "java",
   "version": "11.0.16+8-post-Ubuntu-0ubuntu120.04"
  },
  "orig_nbformat": 4,
  "vscode": {
   "interpreter": {
    "hash": "916dbcbb3f70747c44a77c7bcd40155683ae19c65e1c03b4aa3499c5328201f1"
   }
  }
 },
 "nbformat": 4,
 "nbformat_minor": 2
}

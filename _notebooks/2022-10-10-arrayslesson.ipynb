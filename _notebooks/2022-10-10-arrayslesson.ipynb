{
 "cells": [
  {
   "cell_type": "markdown",
   "metadata": {},
   "source": [
    "# Arrays Lesson\n",
    "> Expanding knowledge about arrays\n",
    "\n",
    "- title: Arrays Lesson\n",
    "- toc: true\n",
    "- categories: [Notes]\n",
    "- permalink: /week10/arraylesson\n",
    "- image: https://news.yale.edu/sites/default/files/styles/horizontal_image/public/d6_files/Solar1.jpg?itok=KusGgsqM"
   ]
  },
  {
   "cell_type": "markdown",
   "metadata": {},
   "source": [
    "### Lesson Purpose and Objectives\n",
    "- Understand how arrays work and how to use them\n",
    "- Understand advantages and disadvantages in Java\n",
    "- Apply understanding of arrays to problems"
   ]
  },
  {
   "cell_type": "markdown",
   "metadata": {},
   "source": [
    "### AP Classroom Requirements\n",
    "- **3.D** - Write program code to create, traverse, and manipulate elements in 1D array or ArrayList objects.\n",
    "- **6.1** - Array Creation and Access\n",
    "- **6.2** - Traversing Arrays\n",
    "- **6.3** - Enhanced for Loop for Arrays\n",
    "- **6.4** - Developing Algorithms Using Arrays"
   ]
  },
  {
   "cell_type": "markdown",
   "metadata": {},
   "source": [
    "## Slideshow Embed\n",
    "<iframe src=\"https://docs.google.com/presentation/d/e/2PACX-1vRzm9WCItaa9PCUYY812vNEZIMuSz5CAhibX9mU9sELK5jGeE3stDV-EZkhD1VjcV2jPujKEm1Xsk5s/embed?start=false&loop=false&delayms=60000\" frameborder=\"0\" width=\"960\" height=\"569\" allowfullscreen=\"true\" mozallowfullscreen=\"true\" webkitallowfullscreen=\"true\"></iframe>"
   ]
  },
  {
   "cell_type": "markdown",
   "metadata": {},
   "source": [
    "## Hacks / Homework\n",
    "\n",
    "Write a class called ```ArrayMethods``` that contains two methods that utilize/manipulate an array. **You may choose 2 of the 4 options below to complete. _Extra credit for doing all 4 options_**. Make sure to show test cases for all of the options you choose.\n",
    "\n",
    "Options for hacks (**Pick two**):\n",
    "- Swap the first and last element in the array\n",
    "- Replace all even elements with 0\n",
    "- Return true if the array is currently sorted in increasing order\n",
    "- Return true if the array contains duplicate elements"
   ]
  },
  {
   "cell_type": "code",
   "execution_count": 1,
   "metadata": {},
   "outputs": [],
   "source": [
    "// Write array methods for the Array Methods class below out of the options given above.\n",
    "public class ArrayMethods {\n",
    "    private int[] values;\n",
    "}"
   ]
  }
 ],
 "metadata": {
  "kernelspec": {
   "display_name": "Java",
   "language": "java",
   "name": "java"
  },
  "language_info": {
   "codemirror_mode": "java",
   "file_extension": ".jshell",
   "mimetype": "text/x-java-source",
   "name": "java",
   "pygments_lexer": "java",
   "version": "11.0.16+8-post-Ubuntu-0ubuntu120.04"
  },
  "orig_nbformat": 4,
  "vscode": {
   "interpreter": {
    "hash": "916dbcbb3f70747c44a77c7bcd40155683ae19c65e1c03b4aa3499c5328201f1"
   }
  }
 },
 "nbformat": 4,
 "nbformat_minor": 2
}

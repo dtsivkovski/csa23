{
 "cells": [
  {
   "cell_type": "markdown",
   "metadata": {},
   "source": [
    "# Arrays Lesson\n",
    "> Expanding knowledge about arrays\n",
    "\n",
    "- title: Arrays Lesson\n",
    "- toc: true\n",
    "- categories: [Notes]\n",
    "- permalink: /week10/arraylesson\n",
    "- image: https://news.yale.edu/sites/default/files/styles/horizontal_image/public/d6_files/Solar1.jpg?itok=KusGgsqM"
   ]
  },
  {
   "cell_type": "markdown",
   "metadata": {},
   "source": [
    "### Lesson Purpose and Objectives\n",
    "- Understand how arrays work and how to use them\n",
    "- Understand advantages and disadvantages in Java"
   ]
  },
  {
   "cell_type": "markdown",
   "metadata": {},
   "source": [
    "## AP Classroom Requirements\n",
    "- **3.D** - Write program code to create, traverse, and manipulate elements in 1D array or ArrayList objects.\n",
    "- **6.1** - Array Creation and Access\n",
    "- **6.2** - Traversing Arrays\n",
    "- **6.3** - Enhanced ```for``` Loop for Arrays\n",
    "- **6.4** - Developing Algorithms Using Arrays"
   ]
  },
  {
   "cell_type": "markdown",
   "metadata": {},
   "source": []
  },
  {
   "cell_type": "code",
   "execution_count": null,
   "metadata": {},
   "outputs": [],
   "source": []
  }
 ],
 "metadata": {
  "kernelspec": {
   "display_name": "Java",
   "language": "java",
   "name": "java"
  },
  "language_info": {
   "name": "java",
   "version": "3.8.10"
  },
  "orig_nbformat": 4,
  "vscode": {
   "interpreter": {
    "hash": "916dbcbb3f70747c44a77c7bcd40155683ae19c65e1c03b4aa3499c5328201f1"
   }
  }
 },
 "nbformat": 4,
 "nbformat_minor": 2
}

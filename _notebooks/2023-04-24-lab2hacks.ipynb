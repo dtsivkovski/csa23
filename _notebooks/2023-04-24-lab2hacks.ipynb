{
 "cells": [
  {
   "attachments": {},
   "cell_type": "markdown",
   "metadata": {},
   "source": [
    "# Lab 2 Hacks\n",
    "\n",
    "> Lab 2 Hacks\n",
    "\n",
    "- title: Lab 2 Hacks\n",
    "- toc: true\n",
    "- categories: [Notes]\n",
    "- permalink: /lab/hacks2"
   ]
  },
  {
   "attachments": {},
   "cell_type": "markdown",
   "metadata": {},
   "source": [
    "### Recursion\n"
   ]
  },
  {
   "cell_type": "code",
   "execution_count": 2,
   "metadata": {
    "vscode": {
     "languageId": "java"
    }
   },
   "outputs": [
    {
     "name": "stdout",
     "output_type": "stream",
     "text": [
      "**********\n",
      "*********\n",
      "********\n",
      "*******\n",
      "******\n",
      "*****\n",
      "****\n",
      "***\n",
      "**\n",
      "*\n"
     ]
    }
   ],
   "source": [
    "public void drawLine(int n) {\n",
    "    // return if n is 0 or less\n",
    "    if (n < 1) {\n",
    "        return;\n",
    "    }\n",
    "\n",
    "    // print number of stars based on n\n",
    "    for (int i = 1; i <= n; i++) {\n",
    "        System.out.print(\"*\");\n",
    "    }\n",
    "\n",
    "    // new line + call recursively\n",
    "    System.out.println();\n",
    "    drawLine(n - 1);\n",
    "}\n",
    "drawLine(10);"
   ]
  },
  {
   "attachments": {},
   "cell_type": "markdown",
   "metadata": {},
   "source": [
    "### Selection Sort\n",
    "\n",
    "Write a insertion or selection sort program that sorts an ArrayList in decreasing order so that the largest country is at the beginning of the array (Create your own Country class with size). Use a Comparator."
   ]
  },
  {
   "cell_type": "code",
   "execution_count": null,
   "metadata": {
    "vscode": {
     "languageId": "java"
    }
   },
   "outputs": [],
   "source": [
    "public class Country {\n",
    "    public String name;\n",
    "    private long population;\n",
    "\n",
    "    public Country(String name, long population) {\n",
    "\n",
    "    }\n",
    "\n",
    "    public long getPop() {\n",
    "        return this.population;\n",
    "    }\n",
    "\n",
    "    public int compareCountry(Country c) {\n",
    "        \n",
    "    }\n",
    "\n",
    "}"
   ]
  },
  {
   "attachments": {},
   "cell_type": "markdown",
   "metadata": {},
   "source": [
    "### Heap \n",
    "\n",
    "- Root node vs. leaf node\n",
    "- Complete binary tree where all nodes have 2 or 0 children (except last leaf node)"
   ]
  },
  {
   "attachments": {},
   "cell_type": "markdown",
   "metadata": {},
   "source": [
    "### ArrayList\n",
    "\n",
    "- Collection w/ prop of resizable array"
   ]
  },
  {
   "cell_type": "code",
   "execution_count": null,
   "metadata": {
    "vscode": {
     "languageId": "java"
    }
   },
   "outputs": [],
   "source": [
    "import java.util.ArrayList;"
   ]
  }
 ],
 "metadata": {
  "kernelspec": {
   "display_name": "Java",
   "language": "java",
   "name": "java"
  },
  "language_info": {
   "codemirror_mode": "java",
   "file_extension": ".jshell",
   "mimetype": "text/x-java-source",
   "name": "Java",
   "pygments_lexer": "java",
   "version": "11.0.16+8-post-Ubuntu-0ubuntu120.04"
  },
  "orig_nbformat": 4
 },
 "nbformat": 4,
 "nbformat_minor": 2
}

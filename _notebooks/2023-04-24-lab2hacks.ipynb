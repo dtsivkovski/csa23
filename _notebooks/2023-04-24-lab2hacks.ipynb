{
 "cells": [
  {
   "attachments": {},
   "cell_type": "markdown",
   "metadata": {},
   "source": [
    "# Lab 2 Hacks\n",
    "\n",
    "> Lab 2 Hacks\n",
    "\n",
    "- title: Lab 2 Hacks\n",
    "- toc: true\n",
    "- categories: [Notes]\n",
    "- permalink: /lab/hacks2"
   ]
  },
  {
   "attachments": {},
   "cell_type": "markdown",
   "metadata": {},
   "source": [
    "### Recursion\n"
   ]
  },
  {
   "cell_type": "code",
   "execution_count": 2,
   "metadata": {},
   "outputs": [
    {
     "name": "stdout",
     "output_type": "stream",
     "text": [
      "**********\n",
      "*********\n",
      "********\n",
      "*******\n",
      "******\n",
      "*****\n",
      "****\n",
      "***\n",
      "**\n",
      "*\n"
     ]
    }
   ],
   "source": [
    "public void drawLine(int n) {\n",
    "    // return if n is 0 or less\n",
    "    if (n < 1) {\n",
    "        return;\n",
    "    }\n",
    "\n",
    "    // print number of stars based on n\n",
    "    for (int i = 1; i <= n; i++) {\n",
    "        System.out.print(\"*\");\n",
    "    }\n",
    "\n",
    "    // new line + call recursively\n",
    "    System.out.println();\n",
    "    drawLine(n - 1);\n",
    "}\n",
    "drawLine(10);"
   ]
  },
  {
   "attachments": {},
   "cell_type": "markdown",
   "metadata": {},
   "source": [
    "### Selection Sort\n",
    "\n",
    "Write a insertion or selection sort program that sorts an ArrayList in decreasing order so that the largest country is at the beginning of the array (Create your own Country class with size). Use a Comparator."
   ]
  },
  {
   "cell_type": "code",
   "execution_count": 25,
   "metadata": {},
   "outputs": [
    {
     "name": "stdout",
     "output_type": "stream",
     "text": [
      "Name: Monaco   | Population: 36686\n",
      "Name: Bahrain   | Population: 1463000\n",
      "Name: Netherlands   | Population: 17530000\n",
      "Name: United States   | Population: 331900000\n",
      "Name: China   | Population: 1412000000\n"
     ]
    }
   ],
   "source": [
    "public class Country {\n",
    "    public String name;\n",
    "    private long population;\n",
    "\n",
    "    // constructor\n",
    "    public Country(String name, long population) {\n",
    "        this.name = name;\n",
    "        this.population = population;\n",
    "    }\n",
    "\n",
    "    // getPop method to be able to compare two countries\n",
    "    public long getPop() {\n",
    "        return this.population;\n",
    "    }\n",
    "\n",
    "    // compare country population sizes\n",
    "    public int compareCountry(Country c) {\n",
    "        if (this.getPop() > c.getPop()) {\n",
    "            return 1;\n",
    "        }\n",
    "        else if (this.getPop() < c.getPop()) {\n",
    "            return -1;\n",
    "        }\n",
    "        else {\n",
    "            return 0;\n",
    "        }\n",
    "    }\n",
    "\n",
    "    // toString method for printing\n",
    "    public String toString() {\n",
    "        String string = \"Name: \" + this.name + \"   | Population: \" + this.population;\n",
    "        return string;\n",
    "    }\n",
    "}\n",
    "\n",
    "public class SelectionSort {\n",
    "    public static void sort(Country[] arr) {\n",
    "        for (int i = 0; i < arr.length-1; i++) {\n",
    "            int min_idx = i;\n",
    "            for (int j = i+1; j < arr.length; j++) {\n",
    "                // use compare country, only set min_idx if -1 (smaller pop)\n",
    "                if (arr[j].compareCountry(arr[min_idx]) == -1)\n",
    "                    min_idx = j;\n",
    "            }\n",
    "            // assign temp country to swap\n",
    "            Country temp = arr[min_idx];\n",
    "            arr[min_idx] = arr[i];\n",
    "            arr[i] = temp;\n",
    "        }\n",
    "    }\n",
    "    public static void main(String[] args) {\n",
    "        Country[] arr = {\n",
    "            new Country(\"United States\", 331900000),\n",
    "            new Country(\"Bahrain\", 1463000),\n",
    "            new Country(\"Monaco\", 36686),\n",
    "            new Country(\"China\", 1412000000),\n",
    "            new Country(\"Netherlands\", 17530000)\n",
    "        };\n",
    "        SelectionSort.sort(arr);\n",
    "        for (int i = 0; i < arr.length; i++) {\n",
    "            System.out.println(arr[i]);\n",
    "        }\n",
    "    }\n",
    "}\n",
    "\n",
    "SelectionSort.main(null);"
   ]
  },
  {
   "attachments": {},
   "cell_type": "markdown",
   "metadata": {},
   "source": [
    "### Heap \n",
    "\n",
    "- Root node vs. leaf node\n",
    "- Complete binary tree where all nodes have 2 or 0 children (except last leaf node)"
   ]
  },
  {
   "attachments": {},
   "cell_type": "markdown",
   "metadata": {},
   "source": [
    "### ArrayList\n",
    "\n",
    "- Collection w/ prop of resizable array\n",
    "\n",
    "Choose two of these options to do.\n",
    "- **Test if two arraylists contain the same elements in reverse order**\n",
    "- Overwrite all the elements in an arraylist with the alphabet\n",
    "- **Remove every other element from an arraylist**"
   ]
  },
  {
   "cell_type": "code",
   "execution_count": 8,
   "metadata": {},
   "outputs": [
    {
     "name": "stdout",
     "output_type": "stream",
     "text": [
      "true\n",
      "false\n"
     ]
    }
   ],
   "source": [
    "import java.util.ArrayList;\n",
    "\n",
    "public class ReverseOrder {\n",
    "    public static boolean check(int[] a, int[] b) {\n",
    "        // check if end of b array is not the same as beginning of a array\n",
    "        for (int i = 0; i < a.length; i++) {\n",
    "            if (a[i] != b[a.length - 1 - i]) {\n",
    "                return false;\n",
    "            }\n",
    "        }\n",
    "        // return true if all values match up\n",
    "        return true;\n",
    "    }\n",
    "\n",
    "    public static void main(String[] args) {\n",
    "        int[] a = new int[] {1, 2, 3, 4, 5};\n",
    "        int[] b = new int[] {5, 4, 3, 2, 1};\n",
    "\n",
    "        System.out.println(ReverseOrder.check(a,b));\n",
    "\n",
    "        b = new int[] {5,4,2,3,1};\n",
    "        System.out.println(ReverseOrder.check(a,b));        \n",
    "    }\n",
    "}\n",
    "\n",
    "ReverseOrder.main(null);"
   ]
  },
  {
   "cell_type": "code",
   "execution_count": 13,
   "metadata": {},
   "outputs": [
    {
     "name": "stdout",
     "output_type": "stream",
     "text": [
      "1 3 5 7 "
     ]
    }
   ],
   "source": [
    "public class AlternateRemove {\n",
    "    public static int[] remove(int[] a) {\n",
    "        // create new array with half the size of a array length\n",
    "        int[] b = new int[a.length / 2];\n",
    "\n",
    "        // iterate through array to only add every other value to new array\n",
    "        for(int i = 0; i < a.length; i += 2) {\n",
    "            b[i/2] = a[i];\n",
    "        }\n",
    "        return b;\n",
    "    }\n",
    "\n",
    "    public static void main(String[] args) {\n",
    "        // initialize int[] with 8 values\n",
    "        int[] a = new int[] {1,2,3,4,5,6,7,8};\n",
    "\n",
    "        int[] b = AlternateRemove.remove(a);\n",
    "        for (int i = 0; i < b.length; i++) {\n",
    "            System.out.print(b[i] + \" \");\n",
    "        }\n",
    "\n",
    "    }\n",
    "}\n",
    "\n",
    "AlternateRemove.main(null);"
   ]
  }
 ],
 "metadata": {
  "kernelspec": {
   "display_name": "Java",
   "language": "java",
   "name": "java"
  },
  "language_info": {
   "codemirror_mode": "java",
   "file_extension": ".jshell",
   "mimetype": "text/x-java-source",
   "name": "java",
   "pygments_lexer": "java",
   "version": "11.0.16+8-post-Ubuntu-0ubuntu120.04"
  },
  "orig_nbformat": 4
 },
 "nbformat": 4,
 "nbformat_minor": 2
}

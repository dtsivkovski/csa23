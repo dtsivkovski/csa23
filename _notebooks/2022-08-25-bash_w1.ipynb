{
 "cells": [
  {
   "cell_type": "markdown",
   "metadata": {},
   "source": [
    "# Week 1 Bash Notebook\n",
    "\n",
    "- title: Week 1 Bash Notebook\n",
    "- toc: true\n",
    "- badges: true\n",
    "- comments: true\n",
    "- categories: [Notes]"
   ]
  },
  {
   "cell_type": "markdown",
   "metadata": {},
   "source": [
    "## Prerequisites\n",
    "- Make sure bash kernel is installed\n",
    "- Change notebook to bash\n",
    "\n",
    "Example of cloning directory using bash below, notice how it says that the directory already exists\n"
   ]
  },
  {
   "cell_type": "code",
   "execution_count": 15,
   "metadata": {
    "vscode": {
     "languageId": "shellscript"
    }
   },
   "outputs": [
    {
     "name": "stdout",
     "output_type": "stream",
     "text": [
      "Using conditional statement to create a project directory and project\n",
      "Directory /home/dtsivkovski/vscode exists.\n",
      "Directory /home/dtsivkovski/vscode/APCSA exists.\n"
     ]
    }
   ],
   "source": [
    "echo \"Using conditional statement to create a project directory and project\"\n",
    "\n",
    "# Variable section\n",
    "export project_dir=$HOME/vscode  # change vscode to different name to test git clone\n",
    "export project=$project_dir/APCSA  # change APCSP to name of project from git clone\n",
    "export project_repo=\"https://github.com/nighthawkcoders/APCSA.git\"  # change to project of choice\n",
    "\n",
    "cd ~    # start in home directory\n",
    "\n",
    "# Conditional block to make a project directory\n",
    "if [ ! -d $project_dir ]\n",
    "then \n",
    "    echo \"Directory $project_dir does not exists... makinng directory $project_dir\"\n",
    "    mkdir -p $project_dir\n",
    "fi\n",
    "echo \"Directory $project_dir exists.\" \n",
    "\n",
    "# Conditional block to git clone a project from project_repo\n",
    "if [ ! -d $project ]\n",
    "then\n",
    "    echo \"Directory $project does not exists... cloning $project_repo\"\n",
    "    cd $project_dir\n",
    "    git clone $project_repo\n",
    "    cd ~\n",
    "fi\n",
    "echo \"Directory $project exists.\""
   ]
  },
  {
   "cell_type": "markdown",
   "metadata": {},
   "source": [
    "## Commands\n",
    "- ls - lists computer files\n",
    "- cd - change working directory\n",
    "- pwd - print working directory\n",
    "- echo - display line of text/string\n",
    "\n",
    "Below code shows an example of all these commands."
   ]
  },
  {
   "cell_type": "code",
   "execution_count": 5,
   "metadata": {
    "vscode": {
     "languageId": "shellscript"
    }
   },
   "outputs": [
    {
     "name": "stdout",
     "output_type": "stream",
     "text": [
      "Navigate to project, then navigate to area wwhere files were cloned\n",
      "/home/dtsivkovski/vscode/APCSA\n",
      "\n",
      "list top level or root of files with project pulled from github\n",
      "\u001b[0m\u001b[01;32mGemfile\u001b[0m    \u001b[01;34m_action_files\u001b[0m    \u001b[01;34m_layouts\u001b[0m    \u001b[01;34m_posts\u001b[0m  \u001b[01;32mdocker-compose.yml\u001b[0m\n",
      "LICENSE    _config.yml      \u001b[01;34m_notebooks\u001b[0m  \u001b[01;34m_sass\u001b[0m   \u001b[01;34mimages\u001b[0m\n",
      "\u001b[01;32mMakefile\u001b[0m   \u001b[01;34m_fastpages_docs\u001b[0m  \u001b[01;34m_pages\u001b[0m      \u001b[01;34m_word\u001b[0m   index.html\n",
      "\u001b[01;32mREADME.md\u001b[0m  \u001b[01;34m_includes\u001b[0m        \u001b[01;34m_plugins\u001b[0m    \u001b[01;34massets\u001b[0m\n",
      "\n",
      "list again with hidden files pulled from github\n",
      "\u001b[0m\u001b[01;34m.\u001b[0m                   .gitignore  \u001b[01;34m_action_files\u001b[0m    \u001b[01;34m_pages\u001b[0m    \u001b[01;32mdocker-compose.yml\u001b[0m\n",
      "\u001b[01;34m..\u001b[0m                  \u001b[01;34m.vscode\u001b[0m     _config.yml      \u001b[01;34m_plugins\u001b[0m  \u001b[01;34mimages\u001b[0m\n",
      ".devcontainer.json  \u001b[01;32mGemfile\u001b[0m     \u001b[01;34m_fastpages_docs\u001b[0m  \u001b[01;34m_posts\u001b[0m    index.html\n",
      "\u001b[01;34m.git\u001b[0m                LICENSE     \u001b[01;34m_includes\u001b[0m        \u001b[01;34m_sass\u001b[0m\n",
      ".gitattributes      \u001b[01;32mMakefile\u001b[0m    \u001b[01;34m_layouts\u001b[0m         \u001b[01;34m_word\u001b[0m\n",
      "\u001b[01;34m.github\u001b[0m             \u001b[01;32mREADME.md\u001b[0m   \u001b[01;34m_notebooks\u001b[0m       \u001b[01;34massets\u001b[0m\n",
      "\n",
      "list all files in long format\n",
      "total 116\n",
      "drwxr-xr-x 17 dtsivkovski dtsivkovski  4096 Aug 25 08:52 \u001b[0m\u001b[01;34m.\u001b[0m\n",
      "drwxr-xr-x  7 dtsivkovski dtsivkovski  4096 Aug 25 08:51 \u001b[01;34m..\u001b[0m\n",
      "-rw-r--r--  1 dtsivkovski dtsivkovski   420 Aug 25 08:52 .devcontainer.json\n",
      "drwxr-xr-x  8 dtsivkovski dtsivkovski  4096 Aug 25 08:52 \u001b[01;34m.git\u001b[0m\n",
      "-rw-r--r--  1 dtsivkovski dtsivkovski    84 Aug 25 08:52 .gitattributes\n",
      "drwxr-xr-x  4 dtsivkovski dtsivkovski  4096 Aug 25 08:52 \u001b[01;34m.github\u001b[0m\n",
      "-rw-r--r--  1 dtsivkovski dtsivkovski   917 Aug 25 08:52 .gitignore\n",
      "drwxr-xr-x  2 dtsivkovski dtsivkovski  4096 Aug 25 08:52 \u001b[01;34m.vscode\u001b[0m\n",
      "-rwxr-xr-x  1 dtsivkovski dtsivkovski  1304 Aug 25 08:52 \u001b[01;32mGemfile\u001b[0m\n",
      "-rw-r--r--  1 dtsivkovski dtsivkovski 11351 Aug 25 08:52 LICENSE\n",
      "-rwxr-xr-x  1 dtsivkovski dtsivkovski  1422 Aug 25 08:52 \u001b[01;32mMakefile\u001b[0m\n",
      "-rwxr-xr-x  1 dtsivkovski dtsivkovski  3614 Aug 25 08:52 \u001b[01;32mREADME.md\u001b[0m\n",
      "drwxr-xr-x  2 dtsivkovski dtsivkovski  4096 Aug 25 08:52 \u001b[01;34m_action_files\u001b[0m\n",
      "-rw-r--r--  1 dtsivkovski dtsivkovski  3690 Aug 25 08:52 _config.yml\n",
      "drwxr-xr-x  2 dtsivkovski dtsivkovski  4096 Aug 25 08:52 \u001b[01;34m_fastpages_docs\u001b[0m\n",
      "drwxr-xr-x  2 dtsivkovski dtsivkovski  4096 Aug 25 08:52 \u001b[01;34m_includes\u001b[0m\n",
      "drwxr-xr-x  2 dtsivkovski dtsivkovski  4096 Aug 25 08:52 \u001b[01;34m_layouts\u001b[0m\n",
      "drwxr-xr-x  3 dtsivkovski dtsivkovski  4096 Aug 25 08:52 \u001b[01;34m_notebooks\u001b[0m\n",
      "drwxr-xr-x  2 dtsivkovski dtsivkovski  4096 Aug 25 08:52 \u001b[01;34m_pages\u001b[0m\n",
      "drwxr-xr-x  2 dtsivkovski dtsivkovski  4096 Aug 25 08:52 \u001b[01;34m_plugins\u001b[0m\n",
      "drwxr-xr-x  2 dtsivkovski dtsivkovski  4096 Aug 25 08:52 \u001b[01;34m_posts\u001b[0m\n",
      "drwxr-xr-x  3 dtsivkovski dtsivkovski  4096 Aug 25 08:52 \u001b[01;34m_sass\u001b[0m\n",
      "drwxr-xr-x  2 dtsivkovski dtsivkovski  4096 Aug 25 08:52 \u001b[01;34m_word\u001b[0m\n",
      "drwxr-xr-x  4 dtsivkovski dtsivkovski  4096 Aug 25 08:52 \u001b[01;34massets\u001b[0m\n",
      "-rwxr-xr-x  1 dtsivkovski dtsivkovski  1136 Aug 25 08:52 \u001b[01;32mdocker-compose.yml\u001b[0m\n",
      "drwxr-xr-x  4 dtsivkovski dtsivkovski  4096 Aug 25 08:52 \u001b[01;34mimages\u001b[0m\n",
      "-rw-r--r--  1 dtsivkovski dtsivkovski  1030 Aug 25 08:52 index.html\n",
      "Look for posts\n",
      "/home/dtsivkovski/vscode/APCSA/_posts\n",
      "total 212\n",
      "-rw-r--r-- 1 dtsivkovski dtsivkovski 10891 Aug 25 08:52 2022-06-01-TT150-spring_thymeleaf.md\n",
      "-rw-r--r-- 1 dtsivkovski dtsivkovski  4496 Aug 25 08:52 2022-06-14-TR200-historical_calendar.md\n",
      "-rw-r--r-- 1 dtsivkovski dtsivkovski  5232 Aug 25 08:52 2022-06-14-TR300-historical_calendar.md\n",
      "-rw-r--r-- 1 dtsivkovski dtsivkovski  5861 Aug 25 08:52 2022-07-07-PBL-FE-binary.md\n",
      "-rw-r--r-- 1 dtsivkovski dtsivkovski  3085 Aug 25 08:52 2022-07-08-PBL-FE-grade_calc.md\n",
      "-rw-r--r-- 1 dtsivkovski dtsivkovski  3698 Aug 25 08:52 2022-07-08-PBL-FE-graph.md\n",
      "-rw-r--r-- 1 dtsivkovski dtsivkovski  5729 Aug 25 08:52 2022-07-08-PBL-FE-life.md\n",
      "-rw-r--r-- 1 dtsivkovski dtsivkovski 14387 Aug 25 08:52 2022-07-08-PBL-FE-snake.md\n",
      "-rw-r--r-- 1 dtsivkovski dtsivkovski  4049 Aug 25 08:52 2022-07-10-PBL-covid19.md\n",
      "-rw-r--r-- 1 dtsivkovski dtsivkovski   484 Aug 25 08:52 2022-07-10-PBL-database.md\n",
      "-rw-r--r-- 1 dtsivkovski dtsivkovski  2981 Aug 25 08:52 2022-07-10-PBL-jokes.md\n",
      "-rw-r--r-- 1 dtsivkovski dtsivkovski  6670 Aug 25 08:52 2022-07-19-PBL-calculator.md\n",
      "-rw-r--r-- 1 dtsivkovski dtsivkovski  3890 Aug 25 08:52 2022-07-29-workshop.md\n",
      "-rw-r--r-- 1 dtsivkovski dtsivkovski  3193 Aug 25 08:52 2022-08-15-TP100-college_board_history.md\n",
      "-rw-r--r-- 1 dtsivkovski dtsivkovski  8042 Aug 25 08:52 2022-08-15-TR100-introduction.md\n",
      "-rw-r--r-- 1 dtsivkovski dtsivkovski 17148 Aug 25 08:52 2022-08-15-TT100-tools.md\n",
      "-rw-r--r-- 1 dtsivkovski dtsivkovski  5590 Aug 25 08:52 2022-08-15-TT101-vscode-wsl.md\n",
      "-rw-r--r-- 1 dtsivkovski dtsivkovski  1937 Aug 25 08:52 2022-08-22-TR110-pair_innovation.md\n",
      "-rw-r--r-- 1 dtsivkovski dtsivkovski 10592 Aug 25 08:52 2022-08-22-TT110-agile.md\n",
      "-rw-r--r-- 1 dtsivkovski dtsivkovski  5116 Aug 25 08:52 2022-08-22-TT110-fastpages.md\n",
      "-rw-r--r-- 1 dtsivkovski dtsivkovski  1498 Aug 25 08:52 2022-08-29-TR120-team_innovation.md\n",
      "-rw-r--r-- 1 dtsivkovski dtsivkovski  2941 Aug 25 08:52 2022-08-29-TT120-focus.md\n",
      "-rw-r--r-- 1 dtsivkovski dtsivkovski  1100 Aug 25 08:52 2022-09-05-TR130-creative_development.md\n",
      "-rw-r--r-- 1 dtsivkovski dtsivkovski 19946 Aug 25 08:52 2022-09-05-TT130-deploy.md\n",
      "-rw-r--r-- 1 dtsivkovski dtsivkovski  3182 Aug 25 08:52 2022-09-05-TT130-spring_boot.md\n",
      "-rw-r--r-- 1 dtsivkovski dtsivkovski   720 Aug 25 08:52 README.md\n",
      "-rw-r--r-- 1 dtsivkovski dtsivkovski 13042 Aug 25 08:52 \u001b[0m\u001b[01;35mgood_life.jpeg\u001b[0m\n",
      "Look for notebooks\n",
      "/home/dtsivkovski/vscode/APCSA/_notebooks\n",
      "total 204\n",
      "-rw-r--r-- 1 dtsivkovski dtsivkovski 12616 Aug 25 08:52 2022-07-06-PBL-FE-js_tutorial.ipynb\n",
      "-rw-r--r-- 1 dtsivkovski dtsivkovski  9544 Aug 25 08:52 2022-08-15-TP100-anatomy.ipynb\n",
      "-rw-r--r-- 1 dtsivkovski dtsivkovski  6869 Aug 25 08:52 2022-08-15-TT000-windowsinstall.ipynb\n",
      "-rw-r--r-- 1 dtsivkovski dtsivkovski 11774 Aug 25 08:52 2022-08-22-TP110-primitives.ipynb\n",
      "-rw-r--r-- 1 dtsivkovski dtsivkovski 20003 Aug 25 08:52 2022-08-22-TT110-anthony_and_sahil.ipynb\n",
      "-rw-r--r-- 1 dtsivkovski dtsivkovski  9525 Aug 25 08:52 2022-08-22-TT110-bash_tutorial.ipynb\n",
      "-rw-r--r-- 1 dtsivkovski dtsivkovski 14564 Aug 25 08:52 2022-08-29-TP120-using_java_objects.ipynb\n",
      "-rw-r--r-- 1 dtsivkovski dtsivkovski  4467 Aug 25 08:52 2022-09-05-TP130-boolean_ifs.ipynb\n",
      "-rw-r--r-- 1 dtsivkovski dtsivkovski 91730 Aug 25 08:52 2022-09-05-TT130-rapidapi.ipynb\n",
      "-rw-r--r-- 1 dtsivkovski dtsivkovski   771 Aug 25 08:52 README.md\n",
      "drwxr-xr-x 2 dtsivkovski dtsivkovski  4096 Aug 25 08:52 \u001b[0m\u001b[01;34mimages\u001b[0m\n",
      "Look for images in notebooks, print working directory, list files\n",
      "/home/dtsivkovski/vscode/APCSA/_notebooks/images\n",
      "total 1188\n",
      "-rw-r--r-- 1 dtsivkovski dtsivkovski 211958 Aug 25 08:52 \u001b[0m\u001b[01;35manaconda_search.png\u001b[0m\n",
      "-rw-r--r-- 1 dtsivkovski dtsivkovski 466122 Aug 25 08:52 \u001b[01;35mcode_org_painter.png\u001b[0m\n",
      "-rw-r--r-- 1 dtsivkovski dtsivkovski  20162 Aug 25 08:52 \u001b[01;35mdata_types.png\u001b[0m\n",
      "-rw-r--r-- 1 dtsivkovski dtsivkovski  19661 Aug 25 08:52 \u001b[01;35mextensions_windows_install.png\u001b[0m\n",
      "-rw-r--r-- 1 dtsivkovski dtsivkovski 101617 Aug 25 08:52 \u001b[01;35mkernels.png\u001b[0m\n",
      "-rw-r--r-- 1 dtsivkovski dtsivkovski  58141 Aug 25 08:52 \u001b[01;35mmove_jdk.png\u001b[0m\n",
      "-rw-r--r-- 1 dtsivkovski dtsivkovski 260250 Aug 25 08:52 \u001b[01;35mswitch_language.png\u001b[0m\n",
      "-rw-r--r-- 1 dtsivkovski dtsivkovski  69171 Aug 25 08:52 \u001b[01;35mvs_code_site.png\u001b[0m\n",
      "Navigate to project, then navigate to area wwhere files were cloned\n",
      "show the contents of README.md\n",
      "\n",
      "[//]: # (This template replaces README.md when someone creates a new repo with the fastpages template.)\n",
      "\n",
      "![](https://github.com/nighthawkcoders/APCSA/workflows/CI/badge.svg) \n",
      "![](https://github.com/nighthawkcoders/APCSA/workflows/GH-Pages%20Status/badge.svg) \n",
      "[![](https://img.shields.io/static/v1?label=fastai&message=fastpages&color=57aeac&labelColor=black&style=flat&logo=data:image/png;base64,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)](https://github.com/fastai/fastpages)\n",
      "\n",
      "https://nighthawkcoders.github.io/APCSA/\n",
      "\n",
      "# My Blog\n",
      "\n",
      "\n",
      "_powered by [fastpages](https://github.com/fastai/fastpages)_\n",
      "\n",
      "\n",
      "## What To Do Next?\n",
      "\n",
      "Great!  You have setup your repo.  Now its time to start writing content.  Some helpful links:\n",
      "\n",
      "- [Writing Blogs With Jupyter](https://github.com/fastai/fastpages#writing-blog-posts-with-jupyter)\n",
      "\n",
      "- [Writing Blogs With Markdown](https://github.com/fastai/fastpages#writing-blog-posts-with-markdown)\n",
      "\n",
      "- [Writing Blog Posts With Word](https://github.com/fastai/fastpages#writing-blog-posts-with-microsoft-word)\n",
      "\n",
      "- [(Optional) Preview Your Blog Locally](_fastpages_docs/DEVELOPMENT.md)\n",
      "\n",
      "Note: you may want to remove example blog posts from the `_posts`,  `_notebooks` or `_word` folders (but leave them empty, don't delete these folders) if you don't want these blog posts to appear on your site.\n",
      "\n",
      "Please use the [nbdev & blogging channel](https://forums.fast.ai/c/fastai-users/nbdev/48) in the fastai forums for any questions or feature requests.\n",
      "\n",
      "end of README.md\n"
     ]
    }
   ],
   "source": [
    "echo \"Navigate to project, then navigate to area wwhere files were cloned\"\n",
    "cd $project\n",
    "pwd\n",
    "\n",
    "echo \"\"\n",
    "echo \"list top level or root of files with project pulled from github\"\n",
    "ls\n",
    "\n",
    "echo \"\"\n",
    "echo \"list again with hidden files pulled from github\"\n",
    "ls -a   # hidden files flag, many shell commands have flags\n",
    "\n",
    "echo \"\"\n",
    "echo \"list all files in long format\"\n",
    "ls -al   # all files and long listing\n",
    "\n",
    "\n",
    "echo \"Look for posts\"\n",
    "export posts=$project/_posts  # _posts inside project\n",
    "cd $posts  # this should exist per fastpages\n",
    "pwd  # present working directory\n",
    "ls -l  # list posts\n",
    "\n",
    "\n",
    "echo \"Look for notebooks\"\n",
    "export notebooks=$project/_notebooks  # _notebooks is inside project\n",
    "cd $notebooks   # this should exist per fastpages\n",
    "pwd  # present working directory\n",
    "ls -l  # list notebooks\n",
    "\n",
    "\n",
    "echo \"Look for images in notebooks, print working directory, list files\"\n",
    "cd $notebooks/images  # this should exist per fastpages\n",
    "pwd\n",
    "ls -l\n",
    "\n",
    "echo \"Navigate to project, then navigate to area wwhere files were cloned\"\n",
    "\n",
    "cd $project\n",
    "echo \"show the contents of README.md\"\n",
    "echo \"\"\n",
    "\n",
    "cat README.md  # show contents of file, in this case markdown\n",
    "echo \"\"\n",
    "echo \"end of README.md\""
   ]
  },
  {
   "cell_type": "markdown",
   "metadata": {},
   "source": [
    "## Env, Git, and Github\n",
    "- Env show shell setting\n",
    "- Git clone sets up directory\n",
    "- cd $project - go into that directory\n",
    "- .git hidden directory - establish relation to repo/server\n",
    "\n",
    "Code below shows an example of this."
   ]
  },
  {
   "cell_type": "code",
   "execution_count": 4,
   "metadata": {
    "vscode": {
     "languageId": "shellscript"
    }
   },
   "outputs": [
    {
     "name": "stdout",
     "output_type": "stream",
     "text": [
      "Show the shell environment variables, key on left of equal value on right\n",
      "\n",
      "SHELL=/bin/bash\n",
      "PYTHONUNBUFFERED=1\n",
      "project=/home/dtsivkovski/vscode/APCSA\n",
      "CONDA_EXE=/home/dtsivkovski/anaconda3/bin/conda\n",
      "_CE_M=\n",
      "APPLICATION_INSIGHTS_NO_DIAGNOSTIC_CHANNEL=1\n",
      "WSL_DISTRO_NAME=Ubuntu\n",
      "ELECTRON_RUN_AS_NODE=1\n",
      "VSCODE_AMD_ENTRYPOINT=vs/workbench/api/node/extensionHostProcess\n",
      "NAME=Code\n",
      "PWD=/home/dtsivkovski/vscode/APCSA/_notebooks/images\n",
      "LOGNAME=dtsivkovski\n",
      "CONDA_PREFIX=/home/dtsivkovski/anaconda3\n",
      "project_dir=/home/dtsivkovski/vscode\n",
      "HOME=/home/dtsivkovski\n",
      "LANG=C.UTF-8\n",
      "WSL_INTEROP=/run/WSL/766_interop\n",
      "LS_COLORS=rs=0:di=01;34:ln=01;36:mh=00:pi=40;33:so=01;35:do=01;35:bd=40;33;01:cd=40;33;01:or=40;31;01:mi=00:su=37;41:sg=30;43:ca=30;41:tw=30;42:ow=34;42:st=37;44:ex=01;32:*.tar=01;31:*.tgz=01;31:*.arc=01;31:*.arj=01;31:*.taz=01;31:*.lha=01;31:*.lz4=01;31:*.lzh=01;31:*.lzma=01;31:*.tlz=01;31:*.txz=01;31:*.tzo=01;31:*.t7z=01;31:*.zip=01;31:*.z=01;31:*.dz=01;31:*.gz=01;31:*.lrz=01;31:*.lz=01;31:*.lzo=01;31:*.xz=01;31:*.zst=01;31:*.tzst=01;31:*.bz2=01;31:*.bz=01;31:*.tbz=01;31:*.tbz2=01;31:*.tz=01;31:*.deb=01;31:*.rpm=01;31:*.jar=01;31:*.war=01;31:*.ear=01;31:*.sar=01;31:*.rar=01;31:*.alz=01;31:*.ace=01;31:*.zoo=01;31:*.cpio=01;31:*.7z=01;31:*.rz=01;31:*.cab=01;31:*.wim=01;31:*.swm=01;31:*.dwm=01;31:*.esd=01;31:*.jpg=01;35:*.jpeg=01;35:*.mjpg=01;35:*.mjpeg=01;35:*.gif=01;35:*.bmp=01;35:*.pbm=01;35:*.pgm=01;35:*.ppm=01;35:*.tga=01;35:*.xbm=01;35:*.xpm=01;35:*.tif=01;35:*.tiff=01;35:*.png=01;35:*.svg=01;35:*.svgz=01;35:*.mng=01;35:*.pcx=01;35:*.mov=01;35:*.mpg=01;35:*.mpeg=01;35:*.m2v=01;35:*.mkv=01;35:*.webm=01;35:*.ogm=01;35:*.mp4=01;35:*.m4v=01;35:*.mp4v=01;35:*.vob=01;35:*.qt=01;35:*.nuv=01;35:*.wmv=01;35:*.asf=01;35:*.rm=01;35:*.rmvb=01;35:*.flc=01;35:*.avi=01;35:*.fli=01;35:*.flv=01;35:*.gl=01;35:*.dl=01;35:*.xcf=01;35:*.xwd=01;35:*.yuv=01;35:*.cgm=01;35:*.emf=01;35:*.ogv=01;35:*.ogx=01;35:*.aac=00;36:*.au=00;36:*.flac=00;36:*.m4a=00;36:*.mid=00;36:*.midi=00;36:*.mka=00;36:*.mp3=00;36:*.mpc=00;36:*.ogg=00;36:*.ra=00;36:*.wav=00;36:*.oga=00;36:*.opus=00;36:*.spx=00;36:*.xspf=00;36:\n",
      "CONDA_PROMPT_MODIFIER=(base) \n",
      "PYDEVD_USE_FRAME_EVAL=NO\n",
      "posts=/home/dtsivkovski/vscode/APCSA/_posts\n",
      "LESSCLOSE=/usr/bin/lesspipe %s %s\n",
      "VSCODE_HANDLES_SIGPIPE=true\n",
      "TERM=xterm-256color\n",
      "_CE_CONDA=\n",
      "LESSOPEN=| /usr/bin/lesspipe %s\n",
      "USER=dtsivkovski\n",
      "PYTHONIOENCODING=utf-8\n",
      "notebooks=/home/dtsivkovski/vscode/APCSA/_notebooks\n",
      "CONDA_SHLVL=1\n",
      "SHLVL=2\n",
      "PAGER=cat\n",
      "project_repo=https://github.com/nighthawkcoders/APCSA.git\n",
      "VSCODE_CWD=/mnt/c/Users/danie/AppData/Local/Programs/Microsoft VS Code\n",
      "CONDA_PYTHON_EXE=/home/dtsivkovski/anaconda3/bin/python\n",
      "PS1=[PEXP\\[\\]ECT_PROMPT>\n",
      "CONDA_DEFAULT_ENV=base\n",
      "WSLENV=ELECTRON_RUN_AS_NODE/w:\n",
      "VSCODE_WSL_EXT_LOCATION=/mnt/c/Users/danie/.vscode/extensions/ms-vscode-remote.remote-wsl-0.66.3\n",
      "XDG_DATA_DIRS=/usr/local/share:/usr/share:/var/lib/snapd/desktop\n",
      "PATH=/home/dtsivkovski/.vscode-server/bin/e4503b30fc78200f846c62cf8091b76ff5547662/bin/remote-cli:/home/dtsivkovski/.local/bin:/home/dtsivkovski/anaconda3/bin:/home/dtsivkovski/anaconda3/condabin:/usr/local/sbin:/usr/local/bin:/usr/sbin:/usr/bin:/sbin:/bin:/usr/games:/usr/local/games:/usr/lib/wsl/lib:/mnt/c/Program Files/WindowsApps/CanonicalGroupLimited.UbuntuonWindows_2004.2022.1.0_x64__79rhkp1fndgsc:/mnt/c/Program Files (x86)/Common Files/Oracle/Java/javapath:/mnt/c/windows/system32:/mnt/c/windows:/mnt/c/windows/System32/Wbem:/mnt/c/windows/System32/WindowsPowerShell/v1.0:/mnt/c/windows/System32/OpenSSH:/mnt/c/Program Files/Git/cmd:/mnt/c/Users/danie/AppData/Local/Microsoft/WindowsApps:/mnt/c/Users/danie/AppData/Local/Programs/Microsoft VS Code/bin:/mnt/c/Users/danie/AppData/Local/Google/Cloud SDK/google-cloud-sdk/bin:/snap/bin\n",
      "VSCODE_NLS_CONFIG={\"locale\":\"en\",\"availableLanguages\":{}}\n",
      "HOSTTYPE=x86_64\n",
      "VSCODE_HANDLES_UNCAUGHT_ERRORS=true\n",
      "OLDPWD=/home/dtsivkovski/vscode/APCSA/_notebooks\n",
      "VSCODE_IPC_HOOK_CLI=/tmp/vscode-ipc-a7e052c6-6cb4-4acc-b366-24008adfa3e9.sock\n",
      "_=/usr/bin/env\n",
      "\n",
      "show the secrets of .git\n",
      "total 60\n",
      "-rw-r--r-- 1 dtsivkovski dtsivkovski    23 Aug 25 08:52 HEAD\n",
      "drwxr-xr-x 2 dtsivkovski dtsivkovski  4096 Aug 25 08:51 \u001b[0m\u001b[01;34mbranches\u001b[0m\n",
      "-rw-r--r-- 1 dtsivkovski dtsivkovski   269 Aug 25 08:52 config\n",
      "-rw-r--r-- 1 dtsivkovski dtsivkovski    73 Aug 25 08:51 description\n",
      "drwxr-xr-x 2 dtsivkovski dtsivkovski  4096 Aug 25 08:51 \u001b[01;34mhooks\u001b[0m\n",
      "-rw-r--r-- 1 dtsivkovski dtsivkovski 20422 Aug 25 08:52 index\n",
      "drwxr-xr-x 2 dtsivkovski dtsivkovski  4096 Aug 25 08:51 \u001b[01;34minfo\u001b[0m\n",
      "drwxr-xr-x 3 dtsivkovski dtsivkovski  4096 Aug 25 08:52 \u001b[01;34mlogs\u001b[0m\n",
      "drwxr-xr-x 4 dtsivkovski dtsivkovski  4096 Aug 25 08:51 \u001b[01;34mobjects\u001b[0m\n",
      "-rw-r--r-- 1 dtsivkovski dtsivkovski   271 Aug 25 08:52 packed-refs\n",
      "drwxr-xr-x 5 dtsivkovski dtsivkovski  4096 Aug 25 08:52 \u001b[01;34mrefs\u001b[0m\n",
      "\n",
      "look at config file\n",
      "[core]\n",
      "\trepositoryformatversion = 0\n",
      "\tfilemode = true\n",
      "\tbare = false\n",
      "\tlogallrefupdates = true\n",
      "[remote \"origin\"]\n",
      "\turl = https://github.com/nighthawkcoders/APCSA.git\n",
      "\tfetch = +refs/heads/*:refs/remotes/origin/*\n",
      "[branch \"master\"]\n",
      "\tremote = origin\n",
      "\tmerge = refs/heads/master\n"
     ]
    }
   ],
   "source": [
    "echo \"Show the shell environment variables, key on left of equal value on right\"\n",
    "echo \"\"\n",
    "\n",
    "env\n",
    "\n",
    "cd $project\n",
    "\n",
    "echo \"\"\n",
    "echo \"show the secrets of .git\"\n",
    "cd .git\n",
    "ls -l\n",
    "\n",
    "echo \"\"\n",
    "echo \"look at config file\"\n",
    "cat config\n"
   ]
  },
  {
   "cell_type": "markdown",
   "metadata": {},
   "source": [
    "## Hacks\n"
   ]
  },
  {
   "cell_type": "code",
   "execution_count": 6,
   "metadata": {
    "vscode": {
     "languageId": "shellscript"
    }
   },
   "outputs": [
    {
     "name": "stdout",
     "output_type": "stream",
     "text": [
      "Updating the repository...\n",
      "Already up to date.\n"
     ]
    }
   ],
   "source": [
    "# Updating a repository using bash\n",
    "\n",
    "cd $project\n",
    "echo \"Updating the repository...\"\n",
    "git pull"
   ]
  },
  {
   "cell_type": "code",
   "execution_count": 14,
   "metadata": {
    "vscode": {
     "languageId": "shellscript"
    }
   },
   "outputs": [
    {
     "name": "stdout",
     "output_type": "stream",
     "text": [
      "------------------------------\n",
      "Conda check for python modules\n",
      "------------------------------\n",
      "ipython                   8.2.0            py39h06a4308_0  \n",
      "ipython_genutils          0.2.0              pyhd3eb1b0_1  \n",
      "msgpack-python            1.0.2            py39hff7bd54_1  \n",
      "python                    3.9.12               h12debd9_0  \n",
      "python-dateutil           2.8.2              pyhd3eb1b0_0  \n",
      "python-fastjsonschema     2.15.1             pyhd3eb1b0_0  \n",
      "python-libarchive-c       2.9                pyhd3eb1b0_1  \n",
      "python-lsp-black          1.0.0              pyhd3eb1b0_0  \n",
      "python-lsp-jsonrpc        1.0.0              pyhd3eb1b0_0  \n",
      "python-lsp-server         1.2.4              pyhd3eb1b0_0  \n",
      "python-slugify            5.0.2              pyhd3eb1b0_0  \n",
      "python-snappy             0.6.0            py39h2531618_3  \n"
     ]
    }
   ],
   "source": [
    "echo \"------------------------------\"\n",
    "echo \"Conda check for python modules\"\n",
    "echo \"------------------------------\"\n",
    "test=\"python\" # searching for python files\n",
    "check=`conda list | grep $test` # run command\n",
    "n=${#check} # determine length of returned list\n",
    "\n",
    "if [[ ${n} > 0 ]]; \n",
    "then # list size greater than zero\n",
    "    echo \"$check\"\n",
    "else \n",
    "    echo \"$test not found\"\n",
    "fi"
   ]
  },
  {
   "cell_type": "code",
   "execution_count": 12,
   "metadata": {
    "vscode": {
     "languageId": "shellscript"
    }
   },
   "outputs": [
    {
     "name": "stdout",
     "output_type": "stream",
     "text": [
      "----------------------------------\n",
      "Testing for installed java kernels\n",
      "----------------------------------\n",
      "  java          /home/dtsivkovski/.local/share/jupyter/kernels/java\n",
      "  javascript    /home/dtsivkovski/.local/share/jupyter/kernels/javascript\n"
     ]
    }
   ],
   "source": [
    "echo \"----------------------------------\"\n",
    "echo \"Testing for installed java kernels\"\n",
    "echo \"----------------------------------\"\n",
    "test=\"java\" # java keyword for test\n",
    "check=`jupyter kernelspec list | grep $test` # run command\n",
    "n=${#check} # determine length\n",
    "\n",
    "if [[ ${n} > 0 ]];  # if statement for length\n",
    "then \n",
    "    echo \"$check\"\n",
    "else # length <0\n",
    "    echo \"$test not found\"\n",
    "fi"
   ]
  }
 ],
 "metadata": {
  "kernelspec": {
   "display_name": "Bash",
   "language": "bash",
   "name": "bash"
  },
  "language_info": {
   "codemirror_mode": "shell",
   "file_extension": ".sh",
   "mimetype": "text/x-sh",
   "name": "bash"
  },
  "orig_nbformat": 4,
  "vscode": {
   "interpreter": {
    "hash": "916dbcbb3f70747c44a77c7bcd40155683ae19c65e1c03b4aa3499c5328201f1"
   }
  }
 },
 "nbformat": 4,
 "nbformat_minor": 2
}

{
 "cells": [
  {
   "cell_type": "markdown",
   "metadata": {},
   "source": [
    "# ArrayList\n",
    "> Unit 7 Lesson\n",
    "\n",
    "- title: Arraylist Unit 7\n",
    "- toc: true\n",
    "- categories: [Notes]\n",
    "- permalink: /u7\n",
    "- image: "
   ]
  },
  {
   "cell_type": "markdown",
   "metadata": {},
   "source": [
    "### Initializing an ArrayList\n",
    "``` ArrayList<Type> someName = new ArrayList<Type>();```\n",
    "\n",
    "### Adding to an ArrayList\n",
    "``` someName.add(someValue);```\n",
    "\n",
    "### Removing from an ArrayList\n",
    "``` someName.remove(someValue);```\n",
    "\n",
    "### Getting the size of an ArrayList\n",
    "``` someName.size();```\n",
    "\n",
    "### Sorting\n",
    "- ``` Collections.sort(someName);```\n",
    "- ``` Collections.sort(someName, Collections.naturalOrder());```\n",
    "\n",
    "### Searching\n",
    "- Can use iteration and selection to search\n",
    "- For loop, for each loop, while loop"
   ]
  }
 ],
 "metadata": {
  "kernelspec": {
   "display_name": "Java",
   "language": "java",
   "name": "java"
  },
  "language_info": {
   "name": "java",
   "version": "3.8.10"
  },
  "orig_nbformat": 4,
  "vscode": {
   "interpreter": {
    "hash": "916dbcbb3f70747c44a77c7bcd40155683ae19c65e1c03b4aa3499c5328201f1"
   }
  }
 },
 "nbformat": 4,
 "nbformat_minor": 2
}

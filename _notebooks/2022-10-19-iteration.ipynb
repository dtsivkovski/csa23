{
 "cells": [
  {
   "cell_type": "markdown",
   "metadata": {},
   "source": [
    "# Iteration Lesson\n",
    "> Hacks from the presentation\n",
    "\n",
    "- title: Lesson hacks for Iteration\n",
    "- toc: true\n",
    "- categories: [Notes]\n",
    "- permalink: /week9/iteration\n",
    "- image: "
   ]
  },
  {
   "cell_type": "code",
   "execution_count": 2,
   "metadata": {},
   "outputs": [],
   "source": [
    "import java.util.Scanner;\n",
    "\n",
    "public class Checker \n",
    "{\n",
    "    public static void main(String[] args) \n",
    "    {\n",
    "        int number;  \n",
    "\t\n",
    "        // Create a Scanner object for keyboard input.  \n",
    "        Scanner keyboard = new Scanner(System.in);  \n",
    "             \n",
    "        // Get a number from the user.  \n",
    "        System.out.print(\"Enter a number in the range of 1 through 100: \");  \n",
    "        number = keyboard.nextInt();  \n",
    "\n",
    "        while ((number > 100 || number < 1))\n",
    "        {  \n",
    "           System.out.print(\"Invalid input. Enter a number in the range \" +  \n",
    "                            \"of 1 through 100: \");  \n",
    "           number = keyboard.nextInt();  \n",
    "        } \n",
    "    }\n",
    "}"
   ]
  },
  {
   "cell_type": "code",
   "execution_count": 11,
   "metadata": {},
   "outputs": [
    {
     "name": "stdout",
     "output_type": "stream",
     "text": [
      "count is 1\n",
      "count is 2\n",
      "count is 3\n",
      "count is 4\n",
      "count is 5\n"
     ]
    }
   ],
   "source": [
    "public class LoopConversion \n",
    "{\n",
    "    public static void main(String[] args) \n",
    "    {\n",
    "        int count = 0;\n",
    "        //convert to for loop\n",
    "        for(int i = 0;i < 5; i++){\n",
    "            System.out.println(\"count is \" + ++count);\n",
    "        }\n",
    "    }\n",
    "}\n",
    "\n",
    "LoopConversion.main(null);"
   ]
  },
  {
   "cell_type": "code",
   "execution_count": 16,
   "metadata": {},
   "outputs": [
    {
     "name": "stdout",
     "output_type": "stream",
     "text": [
      "0\n",
      "1\n",
      "2\n",
      "3\n",
      "4\n",
      "5\n",
      "0\n",
      "1\n",
      "2\n",
      "3\n",
      "4\n",
      "5\n",
      "0\n",
      "1\n",
      "2\n",
      "3\n",
      "4\n",
      "5\n"
     ]
    }
   ],
   "source": [
    "for(int i = 0;i < 6;i++){\n",
    "    System.out.println(i);\n",
    "}\n",
    "\n",
    "int j = 0;\n",
    "while(j<6){\n",
    "    System.out.println(j);\n",
    "    j++;\n",
    "}\n",
    "public void recursionTry(int num){\n",
    "    System.out.println(num);\n",
    "    num++;\n",
    "    if (num < 6) {\n",
    "        recursionTry(num);\n",
    "    }\n",
    "}\n",
    "\n",
    "recursionTry(0);"
   ]
  },
  {
   "cell_type": "markdown",
   "metadata": {},
   "source": [
    "## Homework - Part 1\n",
    "\n",
    "Choose one or do both\n",
    "\n",
    "1. Write a program where the user inputs their monthly budget. The loop should then ask the user to input each of their monthly expenses. These expenses should be kept in a running total. The final output should display if the user is over or under their budget for the month, and by how much.\n",
    "2. Write a program where a random number is generated. Then the user tries to guess the number. If they guess too high display something to let them know, and same for if they guess a number that is too low. The loop must iterate until the number is guessed correctly."
   ]
  },
  {
   "cell_type": "code",
   "execution_count": 3,
   "metadata": {},
   "outputs": [
    {
     "name": "stdout",
     "output_type": "stream",
     "text": [
      "Guess a number 1-1000: \n",
      "500 - Your guess is too high!\n",
      "Guess a number 1-1000: \n",
      "250 - Your guess is too high!\n",
      "Guess a number 1-1000: \n",
      "125 - Your guess is too high!\n",
      "Guess a number 1-1000: \n",
      "65 - Your guess is too low!\n",
      "Guess a number 1-1000: \n",
      "80 - Your guess is too low!\n",
      "Guess a number 1-1000: \n",
      "100 - Your guess is too low!\n",
      "Guess a number 1-1000: \n",
      "120 - Your guess is too high!\n",
      "Guess a number 1-1000: \n",
      "110 - Your guess is too high!\n",
      "Guess a number 1-1000: \n",
      "105 - Your guess is too low!\n",
      "Guess a number 1-1000: \n",
      "107 - Your guess is too high!\n",
      "Guess a number 1-1000: \n",
      "106 - Congratulations! You got it right in 11 guesses !\n"
     ]
    }
   ],
   "source": [
    "import java.util.*;\n",
    "import java.lang.Math;\n",
    "\n",
    "public class GuesserGame {\n",
    "    private int secret;\n",
    "    private boolean game = false;\n",
    "\n",
    "    public void guess(){\n",
    "        secret = (int) (Math.random() * 500);\n",
    "        int num = 0;\n",
    "        int guesscount = 0;\n",
    "\n",
    "        while (!game){\n",
    "            System.out.println(\"Guess a number 1-500: \");\n",
    "\n",
    "            // Scanner for int\n",
    "            Scanner sc = new Scanner(System.in);\n",
    "            num = sc.nextInt();\n",
    "            System.out.print(\"\" + num + \" - \");\n",
    "            // increment guesscount and check if guess is correct\n",
    "            guesscount++;\n",
    "            if (num == secret) {\n",
    "                System.out.println(\"Congratulations! You got it right in \" + guesscount + \" guesses !\");\n",
    "                game = true;\n",
    "            }\n",
    "            else if (num > secret) {\n",
    "                System.out.println(\"Your guess is too high!\");\n",
    "            }\n",
    "            else if (num < secret) {\n",
    "                System.out.println(\"Your guess is too low!\");\n",
    "            }\n",
    "        }\n",
    "    }\n",
    "\n",
    "    public void guess(int num){\n",
    "        \n",
    "        \n",
    "        \n",
    "    }\n",
    "}\n",
    "\n",
    "GuesserGame a = new GuesserGame();\n",
    "a.guess();"
   ]
  },
  {
   "cell_type": "markdown",
   "metadata": {},
   "source": [
    "### Vocab found in this unit\n",
    "- **Truth tables** - can be used to determine the output of one or more boolean expressions. Start by writing a combination of one or two values for each condition, then writing the output that would happen when those two booleans are combined through what operator they have.\n",
    "- **Compound boolean expressions** - Involve the use of two or more booleans to satisfy a condition in code. In this case, we are using boolean expressions in the Checker class where we use ```(number > 100 || number < 1)``` to determine if the number is out of range, which needs one of two conditions to be met, hence the OR operator.\n",
    "- **De Morgan's Law** - States that the conditions met can be written in a different way and still give the same output. For example NOT(A or B) = NOT(A) and NOT(B). This is useful when trying to simplify boolean expressions to be more legible for yourself and for others."
   ]
  }
 ],
 "metadata": {
  "kernelspec": {
   "display_name": "Java",
   "language": "java",
   "name": "java"
  },
  "language_info": {
   "codemirror_mode": "java",
   "file_extension": ".jshell",
   "mimetype": "text/x-java-source",
   "name": "java",
   "pygments_lexer": "java",
   "version": "11.0.16+8-post-Ubuntu-0ubuntu120.04"
  },
  "orig_nbformat": 4
 },
 "nbformat": 4,
 "nbformat_minor": 2
}

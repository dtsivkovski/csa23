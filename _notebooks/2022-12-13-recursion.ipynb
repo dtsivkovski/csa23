{
 "cells": [
  {
   "attachments": {},
   "cell_type": "markdown",
   "metadata": {},
   "source": [
    "# Unit 10 - Recursion\n",
    "> CB Unit 10\n",
    "\n",
    "- title: Unit 10 - Recursion\n",
    "- toc: true\n",
    "- categories: [Notes]\n",
    "- permalink: /u10\n",
    "- image: https://res.cloudinary.com/practicaldev/image/fetch/s--ARBJW0_7--/c_imagga_scale,f_auto,fl_progressive,h_900,q_auto,w_1600/https://dev-to-uploads.s3.amazonaws.com/uploads/articles/3y9pghpnsf19nlvivn2r.jpg"
   ]
  },
  {
   "attachments": {},
   "cell_type": "markdown",
   "metadata": {},
   "source": [
    "## Recursion\n",
    "- Recursive method calls itself\n",
    "- Base case: when the method stops calling itself\n",
    "- Recursive case: when the method calls itself\n",
    "- Has its own local variables, parameter values take progress of recursion"
   ]
  },
  {
   "attachments": {},
   "cell_type": "markdown",
   "metadata": {},
   "source": [
    "## Homework\n",
    "- Completed google form quiz"
   ]
  }
 ],
 "metadata": {
  "kernelspec": {
   "display_name": "Java",
   "language": "java",
   "name": "java"
  },
  "language_info": {
   "name": "java",
   "version": "3.8.10 (default, Jun 22 2022, 20:18:18) \n[GCC 9.4.0]"
  },
  "orig_nbformat": 4,
  "vscode": {
   "interpreter": {
    "hash": "916dbcbb3f70747c44a77c7bcd40155683ae19c65e1c03b4aa3499c5328201f1"
   }
  }
 },
 "nbformat": 4,
 "nbformat_minor": 2
}

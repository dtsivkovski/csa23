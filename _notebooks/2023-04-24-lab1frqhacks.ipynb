{
 "cells": [
  {
   "attachments": {},
   "cell_type": "markdown",
   "metadata": {},
   "source": [
    "# Lab 1 FRQ Hacks\n",
    "\n",
    "> Lab Collegeboard FRQs for Homework\n",
    "\n",
    "- title: Lab 1 FRQ Hacks\n",
    "- toc: true\n",
    "- categories: [Notes]\n",
    "- permalink: /lab/frq1"
   ]
  },
  {
   "attachments": {},
   "cell_type": "markdown",
   "metadata": {},
   "source": [
    "## [LINK TO IN-CLASS HACKS](https://github.com/dtsivkovski/monkeylesson/blob/gh-pages/arraysandmore.ipynb)"
   ]
  },
  {
   "attachments": {},
   "cell_type": "markdown",
   "metadata": {},
   "source": [
    "## FRQ 2018 Q4"
   ]
  },
  {
   "cell_type": "code",
   "execution_count": 9,
   "metadata": {
    "vscode": {
     "languageId": "java"
    }
   },
   "outputs": [
    {
     "name": "stdout",
     "output_type": "stream",
     "text": [
      "1 4 7 5 \n",
      "Is latin: true\n"
     ]
    }
   ],
   "source": [
    "public class ArrayTester {\n",
    "    public static int[] getColumn(int[][] arr2D, int c) {\n",
    "        int[] result = new int[arr2D.length];\n",
    "\n",
    "        // iterate through rows\n",
    "        for (int i = 0; i < arr2D.length; i++) {\n",
    "            // assign element c in the row to result[i]\n",
    "            result[i] = arr2D[i][c];\n",
    "        }\n",
    "\n",
    "        return result;\n",
    "    }\n",
    "\n",
    "    public static boolean hasAllValues(int[] arr1, int[] arr2) {\n",
    "        // always true simply for testing\n",
    "        return true;\n",
    "    }\n",
    "\n",
    "    public static boolean containsDuplicates(int[] arr) {\n",
    "        return false;\n",
    "    }\n",
    "\n",
    "    public static boolean isLatin(int[][] square) {\n",
    "\n",
    "        // check rows of square for duplicates\n",
    "        for (int i = 0; i < square.length; i++) {\n",
    "            if (containsDuplicates(square[i])) {\n",
    "                return false;\n",
    "            }\n",
    "            // compare rows against row 0, return false if not the same\n",
    "            if (!hasAllValues(square[0], square[i])) {\n",
    "                return false;\n",
    "            }\n",
    "        }\n",
    "\n",
    "        // check columns for duplicates\n",
    "        for (int i = 0; i < square[0].length; i++) {\n",
    "            // get column at index\n",
    "            int[] col = getColumn(square, i);\n",
    "            // check for duplicates in col\n",
    "            if (containsDuplicates(col)) {\n",
    "                return false;\n",
    "            }\n",
    "            // compare columns against column 0, return false if not the same\n",
    "            if (!hasAllValues(getColumn(square, 0), col)) {\n",
    "                return false;\n",
    "            }\n",
    "        }\n",
    "\n",
    "        // if passes all checks return true\n",
    "        return true;\n",
    "\n",
    "    }\n",
    "\n",
    "    public static void main(String[] args) {\n",
    "        int[][] arr2D = {\n",
    "            {0,1,2},\n",
    "            {3,4,5},\n",
    "            {6,7,8},\n",
    "            {9,5,3}\n",
    "        };\n",
    "\n",
    "        int[] result = ArrayTester.getColumn(arr2D, 1);\n",
    "\n",
    "        for (int i = 0; i < result.length; i++) {\n",
    "            System.out.print(result[i] + \" \");\n",
    "        }\n",
    "\n",
    "        int[][] latinSq = {\n",
    "            {1,2,3},\n",
    "            {2,3,1},\n",
    "            {3,1,2}\n",
    "        };\n",
    "\n",
    "        System.out.println(\"\");\n",
    "        System.out.println(\"Is latin: \" + isLatin(latinSq));\n",
    "    }\n",
    "}\n",
    "\n",
    "ArrayTester.main(null);\n"
   ]
  },
  {
   "attachments": {},
   "cell_type": "markdown",
   "metadata": {},
   "source": [
    "## FRQ 2017 Q4"
   ]
  },
  {
   "cell_type": "code",
   "execution_count": 27,
   "metadata": {
    "vscode": {
     "languageId": "java"
    }
   },
   "outputs": [
    {
     "name": "stdout",
     "output_type": "stream",
     "text": [
      "(1,2)\n",
      "\n",
      "(0,1) (0,2) (1,0) \n",
      "(1,1) (1,2) (2,0) \n",
      "(2,1) (2,2) null "
     ]
    }
   ],
   "source": [
    "public class Position {\n",
    "    int row;\n",
    "    int col;\n",
    "\n",
    "    public Position(int r, int c) {\n",
    "        /* Implementation not shown */\n",
    "        this.row = r;\n",
    "        this.col = c;\n",
    "    }\n",
    "\n",
    "    public String toString() {\n",
    "        String s = \"(\" + this.row + \",\" + this.col + \")\";\n",
    "        return s;\n",
    "    }\n",
    "\n",
    "    public static Position findPosition(int val, int[][] arr) {\n",
    "        // double for loop to iterate through rows and columns inside each row\n",
    "        for (int i = 0; i < arr.length; i++) {\n",
    "            for (int j = 0; j < arr[i].length; j++) {\n",
    "                if (val == arr[i][j]) {\n",
    "                    Position p = new Position(i,j);\n",
    "                    return p;\n",
    "                }\n",
    "            }\n",
    "        }\n",
    "\n",
    "        return null;\n",
    "    }\n",
    "    \n",
    "    public static Position[][] getSuccessorArray(int[][] intArr) {\n",
    "        // initialize position array with appropriate size\n",
    "        Position[][] successor = new Position[intArr.length][intArr[0].length];\n",
    "\n",
    "        // double for loop to iterate through rows and columns\n",
    "        for (int i = 0; i < intArr.length; i++) {\n",
    "            for (int j = 0; j < intArr[i].length; j++) { \n",
    "                // set successor Position object to the location of the value of intArr[i][j] + 1\n",
    "                successor[i][j] = findPosition(intArr[i][j] + 1, intArr);\n",
    "            }\n",
    "        }\n",
    "        return successor;\n",
    "    }\n",
    "\n",
    "    public static void main(String[] args) {\n",
    "        int[][] arr2D = {\n",
    "            {1,2,3},\n",
    "            {4,5,6},\n",
    "            {7,8,9}\n",
    "        };\n",
    "\n",
    "        System.out.println(findPosition(6, arr2D));\n",
    "\n",
    "        Position[][] result = getSuccessorArray(arr2D);\n",
    "        // print result from successor\n",
    "        for (int i = 0; i < result.length; i++) {\n",
    "            System.out.println(\"\");\n",
    "            for (int j = 0; j < result[i].length; j++) { \n",
    "                System.out.print(result[i][j] + \" \");\n",
    "            }\n",
    "        }\n",
    "    }\n",
    "}\n",
    "\n",
    "Position.main(null);"
   ]
  },
  {
   "attachments": {},
   "cell_type": "markdown",
   "metadata": {},
   "source": [
    "## FRQ 2016 Q4"
   ]
  },
  {
   "cell_type": "code",
   "execution_count": 42,
   "metadata": {
    "vscode": {
     "languageId": "java"
    }
   },
   "outputs": [
    {
     "name": "stdout",
     "output_type": "stream",
     "text": [
      "AP  COMP  SCI  ROCKS\n",
      "GREEN  EGGS  AND HAM\n",
      "BEACH           BALL\n"
     ]
    }
   ],
   "source": [
    "public class StringFormatter {\n",
    "    public static int totalLetters(List<String> wordList) {\n",
    "        int total = 0;\n",
    "\n",
    "        // iterate through list, get length of each item\n",
    "        for (int i = 0; i < wordList.size(); i++) {\n",
    "            total += wordList.get(i).length();\n",
    "        }\n",
    "\n",
    "        return total;\n",
    "    }\n",
    "\n",
    "    public static int basicGapWidth(List<String> wordList, int formattedLen) {\n",
    "        int wordCount = wordList.size();\n",
    "        int totalLetters = totalLetters(wordList);\n",
    "\n",
    "        // number of spaces available\n",
    "        int spaceCount = formattedLen - totalLetters;\n",
    "\n",
    "        // number of spaces divided by number of spaces between words\n",
    "        return spaceCount / (wordCount - 1);\n",
    "    }\n",
    "\n",
    "    // implemented leftoverspaces so that can try out testcases\n",
    "    public static int leftoverSpaces(List<String> wordList, int formattedLen) {\n",
    "        int gapWidth = basicGapWidth(wordList, formattedLen);\n",
    "        int gapCount = wordList.size() - 1;\n",
    "        \n",
    "        // number of spaces available\n",
    "        int spaceCount = formattedLen - totalLetters(wordList);\n",
    "\n",
    "        return (spaceCount - (gapWidth * gapCount));\n",
    "    }\n",
    "\n",
    "    public static String format(List<String> wordList, int formattedLen) {\n",
    "        int gapWidth = basicGapWidth(wordList, formattedLen);\n",
    "        int leftoverSpaces = leftoverSpaces(wordList, formattedLen);\n",
    "        String formatted = \"\";\n",
    "\n",
    "        // for loop for number of gaps\n",
    "        for (int i = 0; i < (wordList.size() - 1); i++) {\n",
    "            // append first word\n",
    "            formatted += wordList.get(i);\n",
    "\n",
    "            // append number of spaces per gap\n",
    "            for (int j = 0; j < gapWidth; j++) {\n",
    "                formatted += \" \";\n",
    "            }\n",
    "\n",
    "            // append an extra space if available, decrement\n",
    "            if (leftoverSpaces > 0) {\n",
    "                formatted += \" \";\n",
    "                leftoverSpaces--;\n",
    "            }\n",
    "\n",
    "        }\n",
    "\n",
    "        // append last word\n",
    "        formatted += wordList.get(wordList.size() - 1);\n",
    "\n",
    "        return formatted;\n",
    "    }\n",
    "\n",
    "    public static void main(String[] args) {\n",
    "        List<String> apcsa = new ArrayList<String>();\n",
    "        apcsa.add(\"AP\");\n",
    "        apcsa.add(\"COMP\");\n",
    "        apcsa.add(\"SCI\");\n",
    "        apcsa.add(\"ROCKS\");\n",
    "\n",
    "        System.out.println(format(apcsa, 20));\n",
    "\n",
    "        List<String> geah = new ArrayList<String>();\n",
    "        geah.add(\"GREEN\");\n",
    "        geah.add(\"EGGS\");\n",
    "        geah.add(\"AND\");\n",
    "        geah.add(\"HAM\");\n",
    "\n",
    "        System.out.println(format(geah, 20));\n",
    "\n",
    "        List<String> bb = new ArrayList<String>();\n",
    "        bb.add(\"BEACH\");\n",
    "        bb.add(\"BALL\");\n",
    "\n",
    "        System.out.println(format(bb, 20));\n",
    "    }\n",
    "}\n",
    "\n",
    "StringFormatter.main(null);"
   ]
  }
 ],
 "metadata": {
  "kernelspec": {
   "display_name": "Java",
   "language": "java",
   "name": "java"
  },
  "language_info": {
   "codemirror_mode": "java",
   "file_extension": ".jshell",
   "mimetype": "text/x-java-source",
   "name": "Java",
   "pygments_lexer": "java",
   "version": "11.0.16+8-post-Ubuntu-0ubuntu120.04"
  },
  "orig_nbformat": 4
 },
 "nbformat": 4,
 "nbformat_minor": 2
}

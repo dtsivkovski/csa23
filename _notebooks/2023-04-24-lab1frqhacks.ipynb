{
 "cells": [
  {
   "attachments": {},
   "cell_type": "markdown",
   "metadata": {},
   "source": [
    "# Lab 1 FRQ Hacks\n",
    "\n",
    "> Lab Collegeboard FRQs for Homework\n",
    "\n",
    "- title: Lab 1 FRQ Hacks\n",
    "- toc: true\n",
    "- categories: [Notes]\n",
    "- permalink: /lab/frq1"
   ]
  },
  {
   "cell_type": "code",
   "execution_count": null,
   "metadata": {},
   "outputs": [],
   "source": []
  }
 ],
 "metadata": {
  "language_info": {
   "name": "python"
  },
  "orig_nbformat": 4
 },
 "nbformat": 4,
 "nbformat_minor": 2
}

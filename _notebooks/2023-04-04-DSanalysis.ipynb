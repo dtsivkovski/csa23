{
 "cells": [
  {
   "attachments": {},
   "cell_type": "markdown",
   "metadata": {},
   "source": [
    "# Data Structures Sort Analysis"
   ]
  },
  {
   "attachments": {},
   "cell_type": "markdown",
   "metadata": {},
   "source": [
    "## Hacks\n",
    "\n",
    "Analyze the Big O complexity on Sorts.\n",
    "- Establish analytics including:time to sort, number of comparisons and number of swaps.- Average the results for each each Sort, run each at least 12 times and 5000 elements. You should throw out High and Low when doing analysis.\n",
    "- Make your final/judgement on best sort: Number of Comparisons, Number of Swaps, Big O complexity, and Total Time.\n",
    "\n",
    "Build your own Hashmap. Make a HashMap to correspond to a Data Structure using a Collection.\n",
    "- Be sure to have 5000 records\n",
    "- Perform analysis on Binary Search vs HashMap Lookup, try using random to search and find 100 keys in 5000 records. Perform 12 times and throw out high and low.\n",
    "\n",
    "Extra, Practical learning\n",
    "- Performing Iteration, Delete, and Add operations are another way to analyze Collection vs HashMap data structure.\n",
    "- A HashMap and a Collection can be used in a Class, POJO and API.\n",
    "- Make a Diagram on the Pros and Cons of Collection vs HashMap"
   ]
  },
  {
   "cell_type": "code",
   "execution_count": 3,
   "metadata": {
    "vscode": {
     "languageId": "java"
    }
   },
   "outputs": [
    {
     "name": "stdout",
     "output_type": "stream",
     "text": [
      "Time: 28ms\n"
     ]
    }
   ],
   "source": [
    "public class BubbleSort {\n",
    "    public static int[] generateArray() {\n",
    "        int[] arr = new int[5000];\n",
    "        for (int i = 0; i < arr.length; i++) {\n",
    "            arr[i] = (int) (Math.random() * 10000);\n",
    "        }\n",
    "        return arr;\n",
    "    }\n",
    "    \n",
    "    public static void main(String[] args) {\n",
    "        // create an array with 5000 elements\n",
    "        int[] arr = generateArray();\n",
    "\n",
    "        // sort the array\n",
    "        long start = System.currentTimeMillis();\n",
    "        BubbleSort.bubbleSort(arr);\n",
    "        long end = System.currentTimeMillis();\n",
    "\n",
    "        // print the time it took\n",
    "        System.out.println(\"Time: \" + (end - start) + \"ms\");\n",
    "\n",
    "    }\n",
    "\n",
    "    public static void bubbleSort(int[] arr) {\n",
    "        for (int i = 0; i < arr.length - 1; i++) {\n",
    "            for (int j = 0; j < arr.length - 1 - i; j++) {\n",
    "                if (arr[j] > arr[j + 1]) {\n",
    "                    int temp = arr[j];\n",
    "                    arr[j] = arr[j + 1];\n",
    "                    arr[j + 1] = temp;\n",
    "                }\n",
    "            }\n",
    "        }\n",
    "    }\n",
    "}\n",
    "\n",
    "BubbleSort.main(null);"
   ]
  }
 ],
 "metadata": {
  "kernelspec": {
   "display_name": "Java",
   "language": "java",
   "name": "java"
  },
  "language_info": {
   "codemirror_mode": "java",
   "file_extension": ".jshell",
   "mimetype": "text/x-java-source",
   "name": "Java",
   "pygments_lexer": "java",
   "version": "11.0.16+8-post-Ubuntu-0ubuntu120.04"
  },
  "orig_nbformat": 4
 },
 "nbformat": 4,
 "nbformat_minor": 2
}
